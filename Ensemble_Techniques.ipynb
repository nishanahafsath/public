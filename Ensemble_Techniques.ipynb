{
  "nbformat": 4,
  "nbformat_minor": 0,
  "metadata": {
    "colab": {
      "provenance": []
    },
    "kernelspec": {
      "name": "python3",
      "display_name": "Python 3"
    },
    "language_info": {
      "name": "python"
    }
  },
  "cells": [
    {
      "cell_type": "code",
      "execution_count": null,
      "metadata": {
        "id": "jUFDhLrFcroh"
      },
      "outputs": [],
      "source": [
        "import pandas as pd\n",
        "import numpy as np\n",
        "import matplotlib.pyplot as plt\n",
        "import seaborn as sns"
      ]
    },
    {
      "cell_type": "code",
      "source": [
        "import warnings\n",
        "warnings.filterwarnings(\"ignore\")"
      ],
      "metadata": {
        "id": "5M8TYrhuKx2w"
      },
      "execution_count": null,
      "outputs": []
    },
    {
      "cell_type": "code",
      "source": [
        "df=pd.read_csv(\"/content/loan_dataset (2).csv\")\n",
        "df.head()"
      ],
      "metadata": {
        "colab": {
          "base_uri": "https://localhost:8080/",
          "height": 334
        },
        "id": "9CK-hr4ndAof",
        "outputId": "d8ac7198-1a17-4621-e73a-279f47c9288d"
      },
      "execution_count": null,
      "outputs": [
        {
          "output_type": "execute_result",
          "data": {
            "text/plain": [
              "        loan_id source       financial_institution  interest_rate  \\\n",
              "0  268055008619      Z  Turner, Baldwin and Rhodes          4.250   \n",
              "1  672831657627      Y  Swanson, Newton and Miller          4.875   \n",
              "2  742515242108      Z              Thornton-Davis          3.250   \n",
              "3  601385667462      X                       OTHER          4.750   \n",
              "4  273870029961      X                       OTHER          4.750   \n",
              "\n",
              "   unpaid_principal_bal  loan_term origination_date first_payment_date  \\\n",
              "0                214000        360       2012-03-01            05/2012   \n",
              "1                144000        360       2012-01-01            03/2012   \n",
              "2                366000        180       2012-01-01            03/2012   \n",
              "3                135000        360       2012-02-01            04/2012   \n",
              "4                124000        360       2012-02-01            04/2012   \n",
              "\n",
              "   loan_to_value  number_of_borrowers  ...  m4  m5 m6  m7  m8  m9  m10  m11  \\\n",
              "0             95                  1.0  ...   0   0  0   1   0   0    0    0   \n",
              "1             72                  1.0  ...   0   0  0   0   0   0    0    1   \n",
              "2             49                  1.0  ...   0   0  0   0   0   0    0    0   \n",
              "3             46                  2.0  ...   0   0  0   0   0   1    1    1   \n",
              "4             80                  1.0  ...   3   4  5   6   7   8    9   10   \n",
              "\n",
              "   m12  m13  \n",
              "0    0    1  \n",
              "1    0    1  \n",
              "2    0    1  \n",
              "3    1    1  \n",
              "4   11    1  \n",
              "\n",
              "[5 rows x 29 columns]"
            ],
            "text/html": [
              "\n",
              "  <div id=\"df-5db91dac-654b-447e-8430-cfd43e21a332\">\n",
              "    <div class=\"colab-df-container\">\n",
              "      <div>\n",
              "<style scoped>\n",
              "    .dataframe tbody tr th:only-of-type {\n",
              "        vertical-align: middle;\n",
              "    }\n",
              "\n",
              "    .dataframe tbody tr th {\n",
              "        vertical-align: top;\n",
              "    }\n",
              "\n",
              "    .dataframe thead th {\n",
              "        text-align: right;\n",
              "    }\n",
              "</style>\n",
              "<table border=\"1\" class=\"dataframe\">\n",
              "  <thead>\n",
              "    <tr style=\"text-align: right;\">\n",
              "      <th></th>\n",
              "      <th>loan_id</th>\n",
              "      <th>source</th>\n",
              "      <th>financial_institution</th>\n",
              "      <th>interest_rate</th>\n",
              "      <th>unpaid_principal_bal</th>\n",
              "      <th>loan_term</th>\n",
              "      <th>origination_date</th>\n",
              "      <th>first_payment_date</th>\n",
              "      <th>loan_to_value</th>\n",
              "      <th>number_of_borrowers</th>\n",
              "      <th>...</th>\n",
              "      <th>m4</th>\n",
              "      <th>m5</th>\n",
              "      <th>m6</th>\n",
              "      <th>m7</th>\n",
              "      <th>m8</th>\n",
              "      <th>m9</th>\n",
              "      <th>m10</th>\n",
              "      <th>m11</th>\n",
              "      <th>m12</th>\n",
              "      <th>m13</th>\n",
              "    </tr>\n",
              "  </thead>\n",
              "  <tbody>\n",
              "    <tr>\n",
              "      <th>0</th>\n",
              "      <td>268055008619</td>\n",
              "      <td>Z</td>\n",
              "      <td>Turner, Baldwin and Rhodes</td>\n",
              "      <td>4.250</td>\n",
              "      <td>214000</td>\n",
              "      <td>360</td>\n",
              "      <td>2012-03-01</td>\n",
              "      <td>05/2012</td>\n",
              "      <td>95</td>\n",
              "      <td>1.0</td>\n",
              "      <td>...</td>\n",
              "      <td>0</td>\n",
              "      <td>0</td>\n",
              "      <td>0</td>\n",
              "      <td>1</td>\n",
              "      <td>0</td>\n",
              "      <td>0</td>\n",
              "      <td>0</td>\n",
              "      <td>0</td>\n",
              "      <td>0</td>\n",
              "      <td>1</td>\n",
              "    </tr>\n",
              "    <tr>\n",
              "      <th>1</th>\n",
              "      <td>672831657627</td>\n",
              "      <td>Y</td>\n",
              "      <td>Swanson, Newton and Miller</td>\n",
              "      <td>4.875</td>\n",
              "      <td>144000</td>\n",
              "      <td>360</td>\n",
              "      <td>2012-01-01</td>\n",
              "      <td>03/2012</td>\n",
              "      <td>72</td>\n",
              "      <td>1.0</td>\n",
              "      <td>...</td>\n",
              "      <td>0</td>\n",
              "      <td>0</td>\n",
              "      <td>0</td>\n",
              "      <td>0</td>\n",
              "      <td>0</td>\n",
              "      <td>0</td>\n",
              "      <td>0</td>\n",
              "      <td>1</td>\n",
              "      <td>0</td>\n",
              "      <td>1</td>\n",
              "    </tr>\n",
              "    <tr>\n",
              "      <th>2</th>\n",
              "      <td>742515242108</td>\n",
              "      <td>Z</td>\n",
              "      <td>Thornton-Davis</td>\n",
              "      <td>3.250</td>\n",
              "      <td>366000</td>\n",
              "      <td>180</td>\n",
              "      <td>2012-01-01</td>\n",
              "      <td>03/2012</td>\n",
              "      <td>49</td>\n",
              "      <td>1.0</td>\n",
              "      <td>...</td>\n",
              "      <td>0</td>\n",
              "      <td>0</td>\n",
              "      <td>0</td>\n",
              "      <td>0</td>\n",
              "      <td>0</td>\n",
              "      <td>0</td>\n",
              "      <td>0</td>\n",
              "      <td>0</td>\n",
              "      <td>0</td>\n",
              "      <td>1</td>\n",
              "    </tr>\n",
              "    <tr>\n",
              "      <th>3</th>\n",
              "      <td>601385667462</td>\n",
              "      <td>X</td>\n",
              "      <td>OTHER</td>\n",
              "      <td>4.750</td>\n",
              "      <td>135000</td>\n",
              "      <td>360</td>\n",
              "      <td>2012-02-01</td>\n",
              "      <td>04/2012</td>\n",
              "      <td>46</td>\n",
              "      <td>2.0</td>\n",
              "      <td>...</td>\n",
              "      <td>0</td>\n",
              "      <td>0</td>\n",
              "      <td>0</td>\n",
              "      <td>0</td>\n",
              "      <td>0</td>\n",
              "      <td>1</td>\n",
              "      <td>1</td>\n",
              "      <td>1</td>\n",
              "      <td>1</td>\n",
              "      <td>1</td>\n",
              "    </tr>\n",
              "    <tr>\n",
              "      <th>4</th>\n",
              "      <td>273870029961</td>\n",
              "      <td>X</td>\n",
              "      <td>OTHER</td>\n",
              "      <td>4.750</td>\n",
              "      <td>124000</td>\n",
              "      <td>360</td>\n",
              "      <td>2012-02-01</td>\n",
              "      <td>04/2012</td>\n",
              "      <td>80</td>\n",
              "      <td>1.0</td>\n",
              "      <td>...</td>\n",
              "      <td>3</td>\n",
              "      <td>4</td>\n",
              "      <td>5</td>\n",
              "      <td>6</td>\n",
              "      <td>7</td>\n",
              "      <td>8</td>\n",
              "      <td>9</td>\n",
              "      <td>10</td>\n",
              "      <td>11</td>\n",
              "      <td>1</td>\n",
              "    </tr>\n",
              "  </tbody>\n",
              "</table>\n",
              "<p>5 rows × 29 columns</p>\n",
              "</div>\n",
              "      <button class=\"colab-df-convert\" onclick=\"convertToInteractive('df-5db91dac-654b-447e-8430-cfd43e21a332')\"\n",
              "              title=\"Convert this dataframe to an interactive table.\"\n",
              "              style=\"display:none;\">\n",
              "        \n",
              "  <svg xmlns=\"http://www.w3.org/2000/svg\" height=\"24px\"viewBox=\"0 0 24 24\"\n",
              "       width=\"24px\">\n",
              "    <path d=\"M0 0h24v24H0V0z\" fill=\"none\"/>\n",
              "    <path d=\"M18.56 5.44l.94 2.06.94-2.06 2.06-.94-2.06-.94-.94-2.06-.94 2.06-2.06.94zm-11 1L8.5 8.5l.94-2.06 2.06-.94-2.06-.94L8.5 2.5l-.94 2.06-2.06.94zm10 10l.94 2.06.94-2.06 2.06-.94-2.06-.94-.94-2.06-.94 2.06-2.06.94z\"/><path d=\"M17.41 7.96l-1.37-1.37c-.4-.4-.92-.59-1.43-.59-.52 0-1.04.2-1.43.59L10.3 9.45l-7.72 7.72c-.78.78-.78 2.05 0 2.83L4 21.41c.39.39.9.59 1.41.59.51 0 1.02-.2 1.41-.59l7.78-7.78 2.81-2.81c.8-.78.8-2.07 0-2.86zM5.41 20L4 18.59l7.72-7.72 1.47 1.35L5.41 20z\"/>\n",
              "  </svg>\n",
              "      </button>\n",
              "      \n",
              "  <style>\n",
              "    .colab-df-container {\n",
              "      display:flex;\n",
              "      flex-wrap:wrap;\n",
              "      gap: 12px;\n",
              "    }\n",
              "\n",
              "    .colab-df-convert {\n",
              "      background-color: #E8F0FE;\n",
              "      border: none;\n",
              "      border-radius: 50%;\n",
              "      cursor: pointer;\n",
              "      display: none;\n",
              "      fill: #1967D2;\n",
              "      height: 32px;\n",
              "      padding: 0 0 0 0;\n",
              "      width: 32px;\n",
              "    }\n",
              "\n",
              "    .colab-df-convert:hover {\n",
              "      background-color: #E2EBFA;\n",
              "      box-shadow: 0px 1px 2px rgba(60, 64, 67, 0.3), 0px 1px 3px 1px rgba(60, 64, 67, 0.15);\n",
              "      fill: #174EA6;\n",
              "    }\n",
              "\n",
              "    [theme=dark] .colab-df-convert {\n",
              "      background-color: #3B4455;\n",
              "      fill: #D2E3FC;\n",
              "    }\n",
              "\n",
              "    [theme=dark] .colab-df-convert:hover {\n",
              "      background-color: #434B5C;\n",
              "      box-shadow: 0px 1px 3px 1px rgba(0, 0, 0, 0.15);\n",
              "      filter: drop-shadow(0px 1px 2px rgba(0, 0, 0, 0.3));\n",
              "      fill: #FFFFFF;\n",
              "    }\n",
              "  </style>\n",
              "\n",
              "      <script>\n",
              "        const buttonEl =\n",
              "          document.querySelector('#df-5db91dac-654b-447e-8430-cfd43e21a332 button.colab-df-convert');\n",
              "        buttonEl.style.display =\n",
              "          google.colab.kernel.accessAllowed ? 'block' : 'none';\n",
              "\n",
              "        async function convertToInteractive(key) {\n",
              "          const element = document.querySelector('#df-5db91dac-654b-447e-8430-cfd43e21a332');\n",
              "          const dataTable =\n",
              "            await google.colab.kernel.invokeFunction('convertToInteractive',\n",
              "                                                     [key], {});\n",
              "          if (!dataTable) return;\n",
              "\n",
              "          const docLinkHtml = 'Like what you see? Visit the ' +\n",
              "            '<a target=\"_blank\" href=https://colab.research.google.com/notebooks/data_table.ipynb>data table notebook</a>'\n",
              "            + ' to learn more about interactive tables.';\n",
              "          element.innerHTML = '';\n",
              "          dataTable['output_type'] = 'display_data';\n",
              "          await google.colab.output.renderOutput(dataTable, element);\n",
              "          const docLink = document.createElement('div');\n",
              "          docLink.innerHTML = docLinkHtml;\n",
              "          element.appendChild(docLink);\n",
              "        }\n",
              "      </script>\n",
              "    </div>\n",
              "  </div>\n",
              "  "
            ]
          },
          "metadata": {},
          "execution_count": 3
        }
      ]
    },
    {
      "cell_type": "code",
      "source": [
        "df.tail()"
      ],
      "metadata": {
        "colab": {
          "base_uri": "https://localhost:8080/",
          "height": 317
        },
        "id": "rYrLCrvQdIeI",
        "outputId": "993a4d0a-3e1c-45e9-ebc1-e2b849997421"
      },
      "execution_count": null,
      "outputs": [
        {
          "output_type": "execute_result",
          "data": {
            "text/plain": [
              "             loan_id source        financial_institution  interest_rate  \\\n",
              "109266  157533020786      X                        OTHER          3.875   \n",
              "109267  524690880256      X                        OTHER          4.375   \n",
              "109268  533393009343      Z  Sanchez, Hays and Wilkerson          3.875   \n",
              "109269  713537286447      X                        OTHER          4.000   \n",
              "109270  904067875749      X                        OTHER          3.875   \n",
              "\n",
              "        unpaid_principal_bal  loan_term origination_date first_payment_date  \\\n",
              "109266                161000        360       2012-03-01            05/2012   \n",
              "109267                385000        360       2012-02-01            04/2012   \n",
              "109268                189000        360       2012-02-01            04/2012   \n",
              "109269                417000        360       2012-01-01            03/2012   \n",
              "109270                275000        360       2012-01-01            03/2012   \n",
              "\n",
              "        loan_to_value  number_of_borrowers  ...  m4  m5 m6  m7  m8  m9  m10  \\\n",
              "109266             64                  1.0  ...   0   0  0   0   0   0    0   \n",
              "109267             79                  2.0  ...   0   0  0   0   0   0    0   \n",
              "109268             60                  1.0  ...   0   0  0   0   0   0    0   \n",
              "109269             56                  1.0  ...   0   0  0   0   0   0    0   \n",
              "109270             62                  2.0  ...   0   0  0   0   0   0    0   \n",
              "\n",
              "        m11  m12  m13  \n",
              "109266    0    0    0  \n",
              "109267    0    0    0  \n",
              "109268    0    0    0  \n",
              "109269    0    0    0  \n",
              "109270    0    0    0  \n",
              "\n",
              "[5 rows x 29 columns]"
            ],
            "text/html": [
              "\n",
              "  <div id=\"df-90155a59-6a65-4b86-9a40-31162dca6ea8\">\n",
              "    <div class=\"colab-df-container\">\n",
              "      <div>\n",
              "<style scoped>\n",
              "    .dataframe tbody tr th:only-of-type {\n",
              "        vertical-align: middle;\n",
              "    }\n",
              "\n",
              "    .dataframe tbody tr th {\n",
              "        vertical-align: top;\n",
              "    }\n",
              "\n",
              "    .dataframe thead th {\n",
              "        text-align: right;\n",
              "    }\n",
              "</style>\n",
              "<table border=\"1\" class=\"dataframe\">\n",
              "  <thead>\n",
              "    <tr style=\"text-align: right;\">\n",
              "      <th></th>\n",
              "      <th>loan_id</th>\n",
              "      <th>source</th>\n",
              "      <th>financial_institution</th>\n",
              "      <th>interest_rate</th>\n",
              "      <th>unpaid_principal_bal</th>\n",
              "      <th>loan_term</th>\n",
              "      <th>origination_date</th>\n",
              "      <th>first_payment_date</th>\n",
              "      <th>loan_to_value</th>\n",
              "      <th>number_of_borrowers</th>\n",
              "      <th>...</th>\n",
              "      <th>m4</th>\n",
              "      <th>m5</th>\n",
              "      <th>m6</th>\n",
              "      <th>m7</th>\n",
              "      <th>m8</th>\n",
              "      <th>m9</th>\n",
              "      <th>m10</th>\n",
              "      <th>m11</th>\n",
              "      <th>m12</th>\n",
              "      <th>m13</th>\n",
              "    </tr>\n",
              "  </thead>\n",
              "  <tbody>\n",
              "    <tr>\n",
              "      <th>109266</th>\n",
              "      <td>157533020786</td>\n",
              "      <td>X</td>\n",
              "      <td>OTHER</td>\n",
              "      <td>3.875</td>\n",
              "      <td>161000</td>\n",
              "      <td>360</td>\n",
              "      <td>2012-03-01</td>\n",
              "      <td>05/2012</td>\n",
              "      <td>64</td>\n",
              "      <td>1.0</td>\n",
              "      <td>...</td>\n",
              "      <td>0</td>\n",
              "      <td>0</td>\n",
              "      <td>0</td>\n",
              "      <td>0</td>\n",
              "      <td>0</td>\n",
              "      <td>0</td>\n",
              "      <td>0</td>\n",
              "      <td>0</td>\n",
              "      <td>0</td>\n",
              "      <td>0</td>\n",
              "    </tr>\n",
              "    <tr>\n",
              "      <th>109267</th>\n",
              "      <td>524690880256</td>\n",
              "      <td>X</td>\n",
              "      <td>OTHER</td>\n",
              "      <td>4.375</td>\n",
              "      <td>385000</td>\n",
              "      <td>360</td>\n",
              "      <td>2012-02-01</td>\n",
              "      <td>04/2012</td>\n",
              "      <td>79</td>\n",
              "      <td>2.0</td>\n",
              "      <td>...</td>\n",
              "      <td>0</td>\n",
              "      <td>0</td>\n",
              "      <td>0</td>\n",
              "      <td>0</td>\n",
              "      <td>0</td>\n",
              "      <td>0</td>\n",
              "      <td>0</td>\n",
              "      <td>0</td>\n",
              "      <td>0</td>\n",
              "      <td>0</td>\n",
              "    </tr>\n",
              "    <tr>\n",
              "      <th>109268</th>\n",
              "      <td>533393009343</td>\n",
              "      <td>Z</td>\n",
              "      <td>Sanchez, Hays and Wilkerson</td>\n",
              "      <td>3.875</td>\n",
              "      <td>189000</td>\n",
              "      <td>360</td>\n",
              "      <td>2012-02-01</td>\n",
              "      <td>04/2012</td>\n",
              "      <td>60</td>\n",
              "      <td>1.0</td>\n",
              "      <td>...</td>\n",
              "      <td>0</td>\n",
              "      <td>0</td>\n",
              "      <td>0</td>\n",
              "      <td>0</td>\n",
              "      <td>0</td>\n",
              "      <td>0</td>\n",
              "      <td>0</td>\n",
              "      <td>0</td>\n",
              "      <td>0</td>\n",
              "      <td>0</td>\n",
              "    </tr>\n",
              "    <tr>\n",
              "      <th>109269</th>\n",
              "      <td>713537286447</td>\n",
              "      <td>X</td>\n",
              "      <td>OTHER</td>\n",
              "      <td>4.000</td>\n",
              "      <td>417000</td>\n",
              "      <td>360</td>\n",
              "      <td>2012-01-01</td>\n",
              "      <td>03/2012</td>\n",
              "      <td>56</td>\n",
              "      <td>1.0</td>\n",
              "      <td>...</td>\n",
              "      <td>0</td>\n",
              "      <td>0</td>\n",
              "      <td>0</td>\n",
              "      <td>0</td>\n",
              "      <td>0</td>\n",
              "      <td>0</td>\n",
              "      <td>0</td>\n",
              "      <td>0</td>\n",
              "      <td>0</td>\n",
              "      <td>0</td>\n",
              "    </tr>\n",
              "    <tr>\n",
              "      <th>109270</th>\n",
              "      <td>904067875749</td>\n",
              "      <td>X</td>\n",
              "      <td>OTHER</td>\n",
              "      <td>3.875</td>\n",
              "      <td>275000</td>\n",
              "      <td>360</td>\n",
              "      <td>2012-01-01</td>\n",
              "      <td>03/2012</td>\n",
              "      <td>62</td>\n",
              "      <td>2.0</td>\n",
              "      <td>...</td>\n",
              "      <td>0</td>\n",
              "      <td>0</td>\n",
              "      <td>0</td>\n",
              "      <td>0</td>\n",
              "      <td>0</td>\n",
              "      <td>0</td>\n",
              "      <td>0</td>\n",
              "      <td>0</td>\n",
              "      <td>0</td>\n",
              "      <td>0</td>\n",
              "    </tr>\n",
              "  </tbody>\n",
              "</table>\n",
              "<p>5 rows × 29 columns</p>\n",
              "</div>\n",
              "      <button class=\"colab-df-convert\" onclick=\"convertToInteractive('df-90155a59-6a65-4b86-9a40-31162dca6ea8')\"\n",
              "              title=\"Convert this dataframe to an interactive table.\"\n",
              "              style=\"display:none;\">\n",
              "        \n",
              "  <svg xmlns=\"http://www.w3.org/2000/svg\" height=\"24px\"viewBox=\"0 0 24 24\"\n",
              "       width=\"24px\">\n",
              "    <path d=\"M0 0h24v24H0V0z\" fill=\"none\"/>\n",
              "    <path d=\"M18.56 5.44l.94 2.06.94-2.06 2.06-.94-2.06-.94-.94-2.06-.94 2.06-2.06.94zm-11 1L8.5 8.5l.94-2.06 2.06-.94-2.06-.94L8.5 2.5l-.94 2.06-2.06.94zm10 10l.94 2.06.94-2.06 2.06-.94-2.06-.94-.94-2.06-.94 2.06-2.06.94z\"/><path d=\"M17.41 7.96l-1.37-1.37c-.4-.4-.92-.59-1.43-.59-.52 0-1.04.2-1.43.59L10.3 9.45l-7.72 7.72c-.78.78-.78 2.05 0 2.83L4 21.41c.39.39.9.59 1.41.59.51 0 1.02-.2 1.41-.59l7.78-7.78 2.81-2.81c.8-.78.8-2.07 0-2.86zM5.41 20L4 18.59l7.72-7.72 1.47 1.35L5.41 20z\"/>\n",
              "  </svg>\n",
              "      </button>\n",
              "      \n",
              "  <style>\n",
              "    .colab-df-container {\n",
              "      display:flex;\n",
              "      flex-wrap:wrap;\n",
              "      gap: 12px;\n",
              "    }\n",
              "\n",
              "    .colab-df-convert {\n",
              "      background-color: #E8F0FE;\n",
              "      border: none;\n",
              "      border-radius: 50%;\n",
              "      cursor: pointer;\n",
              "      display: none;\n",
              "      fill: #1967D2;\n",
              "      height: 32px;\n",
              "      padding: 0 0 0 0;\n",
              "      width: 32px;\n",
              "    }\n",
              "\n",
              "    .colab-df-convert:hover {\n",
              "      background-color: #E2EBFA;\n",
              "      box-shadow: 0px 1px 2px rgba(60, 64, 67, 0.3), 0px 1px 3px 1px rgba(60, 64, 67, 0.15);\n",
              "      fill: #174EA6;\n",
              "    }\n",
              "\n",
              "    [theme=dark] .colab-df-convert {\n",
              "      background-color: #3B4455;\n",
              "      fill: #D2E3FC;\n",
              "    }\n",
              "\n",
              "    [theme=dark] .colab-df-convert:hover {\n",
              "      background-color: #434B5C;\n",
              "      box-shadow: 0px 1px 3px 1px rgba(0, 0, 0, 0.15);\n",
              "      filter: drop-shadow(0px 1px 2px rgba(0, 0, 0, 0.3));\n",
              "      fill: #FFFFFF;\n",
              "    }\n",
              "  </style>\n",
              "\n",
              "      <script>\n",
              "        const buttonEl =\n",
              "          document.querySelector('#df-90155a59-6a65-4b86-9a40-31162dca6ea8 button.colab-df-convert');\n",
              "        buttonEl.style.display =\n",
              "          google.colab.kernel.accessAllowed ? 'block' : 'none';\n",
              "\n",
              "        async function convertToInteractive(key) {\n",
              "          const element = document.querySelector('#df-90155a59-6a65-4b86-9a40-31162dca6ea8');\n",
              "          const dataTable =\n",
              "            await google.colab.kernel.invokeFunction('convertToInteractive',\n",
              "                                                     [key], {});\n",
              "          if (!dataTable) return;\n",
              "\n",
              "          const docLinkHtml = 'Like what you see? Visit the ' +\n",
              "            '<a target=\"_blank\" href=https://colab.research.google.com/notebooks/data_table.ipynb>data table notebook</a>'\n",
              "            + ' to learn more about interactive tables.';\n",
              "          element.innerHTML = '';\n",
              "          dataTable['output_type'] = 'display_data';\n",
              "          await google.colab.output.renderOutput(dataTable, element);\n",
              "          const docLink = document.createElement('div');\n",
              "          docLink.innerHTML = docLinkHtml;\n",
              "          element.appendChild(docLink);\n",
              "        }\n",
              "      </script>\n",
              "    </div>\n",
              "  </div>\n",
              "  "
            ]
          },
          "metadata": {},
          "execution_count": 4
        }
      ]
    },
    {
      "cell_type": "code",
      "source": [
        "df.shape"
      ],
      "metadata": {
        "colab": {
          "base_uri": "https://localhost:8080/"
        },
        "id": "x1iedbB4dTqm",
        "outputId": "0cf3a2fc-0039-4a26-82ba-468c3ece9605"
      },
      "execution_count": null,
      "outputs": [
        {
          "output_type": "execute_result",
          "data": {
            "text/plain": [
              "(109271, 29)"
            ]
          },
          "metadata": {},
          "execution_count": 5
        }
      ]
    },
    {
      "cell_type": "code",
      "source": [
        "df.columns"
      ],
      "metadata": {
        "colab": {
          "base_uri": "https://localhost:8080/"
        },
        "id": "CpnzoIRndUwK",
        "outputId": "88e23246-c181-4b86-8fef-89a6edf70c8e"
      },
      "execution_count": null,
      "outputs": [
        {
          "output_type": "execute_result",
          "data": {
            "text/plain": [
              "Index(['loan_id', 'source', 'financial_institution', 'interest_rate',\n",
              "       'unpaid_principal_bal', 'loan_term', 'origination_date',\n",
              "       'first_payment_date', 'loan_to_value', 'number_of_borrowers',\n",
              "       'debt_to_income_ratio', 'borrower_credit_score', 'loan_purpose',\n",
              "       'insurance_percent', 'co-borrower_credit_score', 'insurance_type', 'm1',\n",
              "       'm2', 'm3', 'm4', 'm5', 'm6', 'm7', 'm8', 'm9', 'm10', 'm11', 'm12',\n",
              "       'm13'],\n",
              "      dtype='object')"
            ]
          },
          "metadata": {},
          "execution_count": 6
        }
      ]
    },
    {
      "cell_type": "code",
      "source": [
        "df.isnull().sum()"
      ],
      "metadata": {
        "colab": {
          "base_uri": "https://localhost:8080/"
        },
        "id": "L16csfmFdZoe",
        "outputId": "488ba0fc-8762-407f-ed00-f945617b215a"
      },
      "execution_count": null,
      "outputs": [
        {
          "output_type": "execute_result",
          "data": {
            "text/plain": [
              "loan_id                     0\n",
              "source                      0\n",
              "financial_institution       0\n",
              "interest_rate               0\n",
              "unpaid_principal_bal        0\n",
              "loan_term                   0\n",
              "origination_date            0\n",
              "first_payment_date          0\n",
              "loan_to_value               0\n",
              "number_of_borrowers         0\n",
              "debt_to_income_ratio        0\n",
              "borrower_credit_score       0\n",
              "loan_purpose                0\n",
              "insurance_percent           0\n",
              "co-borrower_credit_score    0\n",
              "insurance_type              0\n",
              "m1                          0\n",
              "m2                          0\n",
              "m3                          0\n",
              "m4                          0\n",
              "m5                          0\n",
              "m6                          0\n",
              "m7                          0\n",
              "m8                          0\n",
              "m9                          0\n",
              "m10                         0\n",
              "m11                         0\n",
              "m12                         0\n",
              "m13                         0\n",
              "dtype: int64"
            ]
          },
          "metadata": {},
          "execution_count": 7
        }
      ]
    },
    {
      "cell_type": "code",
      "source": [
        "df.info()"
      ],
      "metadata": {
        "colab": {
          "base_uri": "https://localhost:8080/"
        },
        "id": "iXQfUo-xd00S",
        "outputId": "775686bc-8e1a-4822-99cb-bd0bbbf5cd41"
      },
      "execution_count": null,
      "outputs": [
        {
          "output_type": "stream",
          "name": "stdout",
          "text": [
            "<class 'pandas.core.frame.DataFrame'>\n",
            "RangeIndex: 109271 entries, 0 to 109270\n",
            "Data columns (total 29 columns):\n",
            " #   Column                    Non-Null Count   Dtype  \n",
            "---  ------                    --------------   -----  \n",
            " 0   loan_id                   109271 non-null  int64  \n",
            " 1   source                    109271 non-null  object \n",
            " 2   financial_institution     109271 non-null  object \n",
            " 3   interest_rate             109271 non-null  float64\n",
            " 4   unpaid_principal_bal      109271 non-null  int64  \n",
            " 5   loan_term                 109271 non-null  int64  \n",
            " 6   origination_date          109271 non-null  object \n",
            " 7   first_payment_date        109271 non-null  object \n",
            " 8   loan_to_value             109271 non-null  int64  \n",
            " 9   number_of_borrowers       109271 non-null  float64\n",
            " 10  debt_to_income_ratio      109271 non-null  float64\n",
            " 11  borrower_credit_score     109271 non-null  float64\n",
            " 12  loan_purpose              109271 non-null  object \n",
            " 13  insurance_percent         109271 non-null  float64\n",
            " 14  co-borrower_credit_score  109271 non-null  float64\n",
            " 15  insurance_type            109271 non-null  float64\n",
            " 16  m1                        109271 non-null  int64  \n",
            " 17  m2                        109271 non-null  int64  \n",
            " 18  m3                        109271 non-null  int64  \n",
            " 19  m4                        109271 non-null  int64  \n",
            " 20  m5                        109271 non-null  int64  \n",
            " 21  m6                        109271 non-null  int64  \n",
            " 22  m7                        109271 non-null  int64  \n",
            " 23  m8                        109271 non-null  int64  \n",
            " 24  m9                        109271 non-null  int64  \n",
            " 25  m10                       109271 non-null  int64  \n",
            " 26  m11                       109271 non-null  int64  \n",
            " 27  m12                       109271 non-null  int64  \n",
            " 28  m13                       109271 non-null  int64  \n",
            "dtypes: float64(7), int64(17), object(5)\n",
            "memory usage: 24.2+ MB\n"
          ]
        }
      ]
    },
    {
      "cell_type": "code",
      "source": [
        "df.describe()"
      ],
      "metadata": {
        "colab": {
          "base_uri": "https://localhost:8080/",
          "height": 411
        },
        "id": "lzEZDN_cgHG9",
        "outputId": "c4ed4442-22f2-4cb2-fec2-11047519cb94"
      },
      "execution_count": null,
      "outputs": [
        {
          "output_type": "execute_result",
          "data": {
            "text/plain": [
              "            loan_id  interest_rate  unpaid_principal_bal      loan_term  \\\n",
              "count  1.092710e+05  109271.000000          1.092710e+05  109271.000000   \n",
              "mean   5.492863e+11       3.868432          2.082224e+05     292.106936   \n",
              "std    2.598224e+11       0.460911          1.147372e+05      89.802255   \n",
              "min    1.000009e+11       2.375000          1.100000e+04      60.000000   \n",
              "25%    3.242064e+11       3.500000          1.200000e+05     180.000000   \n",
              "50%    5.485271e+11       3.875000          1.820000e+05     360.000000   \n",
              "75%    7.741257e+11       4.125000          2.790000e+05     360.000000   \n",
              "max    9.999971e+11       6.750000          1.200000e+06     360.000000   \n",
              "\n",
              "       loan_to_value  number_of_borrowers  debt_to_income_ratio  \\\n",
              "count  109271.000000        109271.000000         109271.000000   \n",
              "mean       67.430352             1.592563             30.736609   \n",
              "std        17.298445             0.491360              9.731650   \n",
              "min         6.000000             1.000000              1.000000   \n",
              "25%        57.000000             1.000000             23.000000   \n",
              "50%        72.000000             2.000000             31.000000   \n",
              "75%        80.000000             2.000000             39.000000   \n",
              "max        97.000000             2.000000             64.000000   \n",
              "\n",
              "       borrower_credit_score  insurance_percent  co-borrower_credit_score  \\\n",
              "count          109271.000000      109271.000000             109271.000000   \n",
              "mean              769.932178           2.791527                459.108208   \n",
              "std                42.126542           8.101825                382.039622   \n",
              "min                 0.000000           0.000000                  0.000000   \n",
              "25%               751.000000           0.000000                  0.000000   \n",
              "50%               782.000000           0.000000                740.000000   \n",
              "75%               800.000000           0.000000                791.000000   \n",
              "max               840.000000          40.000000                836.000000   \n",
              "\n",
              "       ...             m4             m5             m6             m7  \\\n",
              "count  ...  109271.000000  109271.000000  109271.000000  109271.000000   \n",
              "mean   ...       0.002251       0.003597       0.003514       0.004274   \n",
              "std    ...       0.063417       0.083704       0.088542       0.102455   \n",
              "min    ...       0.000000       0.000000       0.000000       0.000000   \n",
              "25%    ...       0.000000       0.000000       0.000000       0.000000   \n",
              "50%    ...       0.000000       0.000000       0.000000       0.000000   \n",
              "75%    ...       0.000000       0.000000       0.000000       0.000000   \n",
              "max    ...       6.000000       7.000000       8.000000       9.000000   \n",
              "\n",
              "                 m8             m9            m10            m11  \\\n",
              "count  109271.00000  109271.000000  109271.000000  109271.000000   \n",
              "mean        0.00496       0.005509       0.006717       0.007376   \n",
              "std         0.11461       0.129860       0.150015       0.166083   \n",
              "min         0.00000       0.000000       0.000000       0.000000   \n",
              "25%         0.00000       0.000000       0.000000       0.000000   \n",
              "50%         0.00000       0.000000       0.000000       0.000000   \n",
              "75%         0.00000       0.000000       0.000000       0.000000   \n",
              "max        10.00000      11.000000      12.000000      13.000000   \n",
              "\n",
              "                 m12            m13  \n",
              "count  109271.000000  109271.000000  \n",
              "mean        0.008419       0.005820  \n",
              "std         0.183173       0.076069  \n",
              "min         0.000000       0.000000  \n",
              "25%         0.000000       0.000000  \n",
              "50%         0.000000       0.000000  \n",
              "75%         0.000000       0.000000  \n",
              "max        14.000000       1.000000  \n",
              "\n",
              "[8 rows x 24 columns]"
            ],
            "text/html": [
              "\n",
              "  <div id=\"df-4b461f46-d7ae-45cf-a77d-e3a9dff61f03\">\n",
              "    <div class=\"colab-df-container\">\n",
              "      <div>\n",
              "<style scoped>\n",
              "    .dataframe tbody tr th:only-of-type {\n",
              "        vertical-align: middle;\n",
              "    }\n",
              "\n",
              "    .dataframe tbody tr th {\n",
              "        vertical-align: top;\n",
              "    }\n",
              "\n",
              "    .dataframe thead th {\n",
              "        text-align: right;\n",
              "    }\n",
              "</style>\n",
              "<table border=\"1\" class=\"dataframe\">\n",
              "  <thead>\n",
              "    <tr style=\"text-align: right;\">\n",
              "      <th></th>\n",
              "      <th>loan_id</th>\n",
              "      <th>interest_rate</th>\n",
              "      <th>unpaid_principal_bal</th>\n",
              "      <th>loan_term</th>\n",
              "      <th>loan_to_value</th>\n",
              "      <th>number_of_borrowers</th>\n",
              "      <th>debt_to_income_ratio</th>\n",
              "      <th>borrower_credit_score</th>\n",
              "      <th>insurance_percent</th>\n",
              "      <th>co-borrower_credit_score</th>\n",
              "      <th>...</th>\n",
              "      <th>m4</th>\n",
              "      <th>m5</th>\n",
              "      <th>m6</th>\n",
              "      <th>m7</th>\n",
              "      <th>m8</th>\n",
              "      <th>m9</th>\n",
              "      <th>m10</th>\n",
              "      <th>m11</th>\n",
              "      <th>m12</th>\n",
              "      <th>m13</th>\n",
              "    </tr>\n",
              "  </thead>\n",
              "  <tbody>\n",
              "    <tr>\n",
              "      <th>count</th>\n",
              "      <td>1.092710e+05</td>\n",
              "      <td>109271.000000</td>\n",
              "      <td>1.092710e+05</td>\n",
              "      <td>109271.000000</td>\n",
              "      <td>109271.000000</td>\n",
              "      <td>109271.000000</td>\n",
              "      <td>109271.000000</td>\n",
              "      <td>109271.000000</td>\n",
              "      <td>109271.000000</td>\n",
              "      <td>109271.000000</td>\n",
              "      <td>...</td>\n",
              "      <td>109271.000000</td>\n",
              "      <td>109271.000000</td>\n",
              "      <td>109271.000000</td>\n",
              "      <td>109271.000000</td>\n",
              "      <td>109271.00000</td>\n",
              "      <td>109271.000000</td>\n",
              "      <td>109271.000000</td>\n",
              "      <td>109271.000000</td>\n",
              "      <td>109271.000000</td>\n",
              "      <td>109271.000000</td>\n",
              "    </tr>\n",
              "    <tr>\n",
              "      <th>mean</th>\n",
              "      <td>5.492863e+11</td>\n",
              "      <td>3.868432</td>\n",
              "      <td>2.082224e+05</td>\n",
              "      <td>292.106936</td>\n",
              "      <td>67.430352</td>\n",
              "      <td>1.592563</td>\n",
              "      <td>30.736609</td>\n",
              "      <td>769.932178</td>\n",
              "      <td>2.791527</td>\n",
              "      <td>459.108208</td>\n",
              "      <td>...</td>\n",
              "      <td>0.002251</td>\n",
              "      <td>0.003597</td>\n",
              "      <td>0.003514</td>\n",
              "      <td>0.004274</td>\n",
              "      <td>0.00496</td>\n",
              "      <td>0.005509</td>\n",
              "      <td>0.006717</td>\n",
              "      <td>0.007376</td>\n",
              "      <td>0.008419</td>\n",
              "      <td>0.005820</td>\n",
              "    </tr>\n",
              "    <tr>\n",
              "      <th>std</th>\n",
              "      <td>2.598224e+11</td>\n",
              "      <td>0.460911</td>\n",
              "      <td>1.147372e+05</td>\n",
              "      <td>89.802255</td>\n",
              "      <td>17.298445</td>\n",
              "      <td>0.491360</td>\n",
              "      <td>9.731650</td>\n",
              "      <td>42.126542</td>\n",
              "      <td>8.101825</td>\n",
              "      <td>382.039622</td>\n",
              "      <td>...</td>\n",
              "      <td>0.063417</td>\n",
              "      <td>0.083704</td>\n",
              "      <td>0.088542</td>\n",
              "      <td>0.102455</td>\n",
              "      <td>0.11461</td>\n",
              "      <td>0.129860</td>\n",
              "      <td>0.150015</td>\n",
              "      <td>0.166083</td>\n",
              "      <td>0.183173</td>\n",
              "      <td>0.076069</td>\n",
              "    </tr>\n",
              "    <tr>\n",
              "      <th>min</th>\n",
              "      <td>1.000009e+11</td>\n",
              "      <td>2.375000</td>\n",
              "      <td>1.100000e+04</td>\n",
              "      <td>60.000000</td>\n",
              "      <td>6.000000</td>\n",
              "      <td>1.000000</td>\n",
              "      <td>1.000000</td>\n",
              "      <td>0.000000</td>\n",
              "      <td>0.000000</td>\n",
              "      <td>0.000000</td>\n",
              "      <td>...</td>\n",
              "      <td>0.000000</td>\n",
              "      <td>0.000000</td>\n",
              "      <td>0.000000</td>\n",
              "      <td>0.000000</td>\n",
              "      <td>0.00000</td>\n",
              "      <td>0.000000</td>\n",
              "      <td>0.000000</td>\n",
              "      <td>0.000000</td>\n",
              "      <td>0.000000</td>\n",
              "      <td>0.000000</td>\n",
              "    </tr>\n",
              "    <tr>\n",
              "      <th>25%</th>\n",
              "      <td>3.242064e+11</td>\n",
              "      <td>3.500000</td>\n",
              "      <td>1.200000e+05</td>\n",
              "      <td>180.000000</td>\n",
              "      <td>57.000000</td>\n",
              "      <td>1.000000</td>\n",
              "      <td>23.000000</td>\n",
              "      <td>751.000000</td>\n",
              "      <td>0.000000</td>\n",
              "      <td>0.000000</td>\n",
              "      <td>...</td>\n",
              "      <td>0.000000</td>\n",
              "      <td>0.000000</td>\n",
              "      <td>0.000000</td>\n",
              "      <td>0.000000</td>\n",
              "      <td>0.00000</td>\n",
              "      <td>0.000000</td>\n",
              "      <td>0.000000</td>\n",
              "      <td>0.000000</td>\n",
              "      <td>0.000000</td>\n",
              "      <td>0.000000</td>\n",
              "    </tr>\n",
              "    <tr>\n",
              "      <th>50%</th>\n",
              "      <td>5.485271e+11</td>\n",
              "      <td>3.875000</td>\n",
              "      <td>1.820000e+05</td>\n",
              "      <td>360.000000</td>\n",
              "      <td>72.000000</td>\n",
              "      <td>2.000000</td>\n",
              "      <td>31.000000</td>\n",
              "      <td>782.000000</td>\n",
              "      <td>0.000000</td>\n",
              "      <td>740.000000</td>\n",
              "      <td>...</td>\n",
              "      <td>0.000000</td>\n",
              "      <td>0.000000</td>\n",
              "      <td>0.000000</td>\n",
              "      <td>0.000000</td>\n",
              "      <td>0.00000</td>\n",
              "      <td>0.000000</td>\n",
              "      <td>0.000000</td>\n",
              "      <td>0.000000</td>\n",
              "      <td>0.000000</td>\n",
              "      <td>0.000000</td>\n",
              "    </tr>\n",
              "    <tr>\n",
              "      <th>75%</th>\n",
              "      <td>7.741257e+11</td>\n",
              "      <td>4.125000</td>\n",
              "      <td>2.790000e+05</td>\n",
              "      <td>360.000000</td>\n",
              "      <td>80.000000</td>\n",
              "      <td>2.000000</td>\n",
              "      <td>39.000000</td>\n",
              "      <td>800.000000</td>\n",
              "      <td>0.000000</td>\n",
              "      <td>791.000000</td>\n",
              "      <td>...</td>\n",
              "      <td>0.000000</td>\n",
              "      <td>0.000000</td>\n",
              "      <td>0.000000</td>\n",
              "      <td>0.000000</td>\n",
              "      <td>0.00000</td>\n",
              "      <td>0.000000</td>\n",
              "      <td>0.000000</td>\n",
              "      <td>0.000000</td>\n",
              "      <td>0.000000</td>\n",
              "      <td>0.000000</td>\n",
              "    </tr>\n",
              "    <tr>\n",
              "      <th>max</th>\n",
              "      <td>9.999971e+11</td>\n",
              "      <td>6.750000</td>\n",
              "      <td>1.200000e+06</td>\n",
              "      <td>360.000000</td>\n",
              "      <td>97.000000</td>\n",
              "      <td>2.000000</td>\n",
              "      <td>64.000000</td>\n",
              "      <td>840.000000</td>\n",
              "      <td>40.000000</td>\n",
              "      <td>836.000000</td>\n",
              "      <td>...</td>\n",
              "      <td>6.000000</td>\n",
              "      <td>7.000000</td>\n",
              "      <td>8.000000</td>\n",
              "      <td>9.000000</td>\n",
              "      <td>10.00000</td>\n",
              "      <td>11.000000</td>\n",
              "      <td>12.000000</td>\n",
              "      <td>13.000000</td>\n",
              "      <td>14.000000</td>\n",
              "      <td>1.000000</td>\n",
              "    </tr>\n",
              "  </tbody>\n",
              "</table>\n",
              "<p>8 rows × 24 columns</p>\n",
              "</div>\n",
              "      <button class=\"colab-df-convert\" onclick=\"convertToInteractive('df-4b461f46-d7ae-45cf-a77d-e3a9dff61f03')\"\n",
              "              title=\"Convert this dataframe to an interactive table.\"\n",
              "              style=\"display:none;\">\n",
              "        \n",
              "  <svg xmlns=\"http://www.w3.org/2000/svg\" height=\"24px\"viewBox=\"0 0 24 24\"\n",
              "       width=\"24px\">\n",
              "    <path d=\"M0 0h24v24H0V0z\" fill=\"none\"/>\n",
              "    <path d=\"M18.56 5.44l.94 2.06.94-2.06 2.06-.94-2.06-.94-.94-2.06-.94 2.06-2.06.94zm-11 1L8.5 8.5l.94-2.06 2.06-.94-2.06-.94L8.5 2.5l-.94 2.06-2.06.94zm10 10l.94 2.06.94-2.06 2.06-.94-2.06-.94-.94-2.06-.94 2.06-2.06.94z\"/><path d=\"M17.41 7.96l-1.37-1.37c-.4-.4-.92-.59-1.43-.59-.52 0-1.04.2-1.43.59L10.3 9.45l-7.72 7.72c-.78.78-.78 2.05 0 2.83L4 21.41c.39.39.9.59 1.41.59.51 0 1.02-.2 1.41-.59l7.78-7.78 2.81-2.81c.8-.78.8-2.07 0-2.86zM5.41 20L4 18.59l7.72-7.72 1.47 1.35L5.41 20z\"/>\n",
              "  </svg>\n",
              "      </button>\n",
              "      \n",
              "  <style>\n",
              "    .colab-df-container {\n",
              "      display:flex;\n",
              "      flex-wrap:wrap;\n",
              "      gap: 12px;\n",
              "    }\n",
              "\n",
              "    .colab-df-convert {\n",
              "      background-color: #E8F0FE;\n",
              "      border: none;\n",
              "      border-radius: 50%;\n",
              "      cursor: pointer;\n",
              "      display: none;\n",
              "      fill: #1967D2;\n",
              "      height: 32px;\n",
              "      padding: 0 0 0 0;\n",
              "      width: 32px;\n",
              "    }\n",
              "\n",
              "    .colab-df-convert:hover {\n",
              "      background-color: #E2EBFA;\n",
              "      box-shadow: 0px 1px 2px rgba(60, 64, 67, 0.3), 0px 1px 3px 1px rgba(60, 64, 67, 0.15);\n",
              "      fill: #174EA6;\n",
              "    }\n",
              "\n",
              "    [theme=dark] .colab-df-convert {\n",
              "      background-color: #3B4455;\n",
              "      fill: #D2E3FC;\n",
              "    }\n",
              "\n",
              "    [theme=dark] .colab-df-convert:hover {\n",
              "      background-color: #434B5C;\n",
              "      box-shadow: 0px 1px 3px 1px rgba(0, 0, 0, 0.15);\n",
              "      filter: drop-shadow(0px 1px 2px rgba(0, 0, 0, 0.3));\n",
              "      fill: #FFFFFF;\n",
              "    }\n",
              "  </style>\n",
              "\n",
              "      <script>\n",
              "        const buttonEl =\n",
              "          document.querySelector('#df-4b461f46-d7ae-45cf-a77d-e3a9dff61f03 button.colab-df-convert');\n",
              "        buttonEl.style.display =\n",
              "          google.colab.kernel.accessAllowed ? 'block' : 'none';\n",
              "\n",
              "        async function convertToInteractive(key) {\n",
              "          const element = document.querySelector('#df-4b461f46-d7ae-45cf-a77d-e3a9dff61f03');\n",
              "          const dataTable =\n",
              "            await google.colab.kernel.invokeFunction('convertToInteractive',\n",
              "                                                     [key], {});\n",
              "          if (!dataTable) return;\n",
              "\n",
              "          const docLinkHtml = 'Like what you see? Visit the ' +\n",
              "            '<a target=\"_blank\" href=https://colab.research.google.com/notebooks/data_table.ipynb>data table notebook</a>'\n",
              "            + ' to learn more about interactive tables.';\n",
              "          element.innerHTML = '';\n",
              "          dataTable['output_type'] = 'display_data';\n",
              "          await google.colab.output.renderOutput(dataTable, element);\n",
              "          const docLink = document.createElement('div');\n",
              "          docLink.innerHTML = docLinkHtml;\n",
              "          element.appendChild(docLink);\n",
              "        }\n",
              "      </script>\n",
              "    </div>\n",
              "  </div>\n",
              "  "
            ]
          },
          "metadata": {},
          "execution_count": 9
        }
      ]
    },
    {
      "cell_type": "code",
      "source": [
        "# Create a correlation matrix\n",
        "corr_matrix = df.corr()\n",
        "\n",
        "# Generate a mask for the upper triangle\n",
        "mask = np.triu(np.ones_like(corr_matrix, dtype=bool))\n",
        "\n",
        "# Set up the matplotlib figure\n",
        "fig, ax = plt.subplots(figsize=(15, 10))\n",
        "\n",
        "# Create a heatmap\n",
        "sns.heatmap(corr_matrix, mask=mask, annot=True, fmt=\".2f\", cmap='coolwarm', cbar=True, ax=ax)\n",
        "\n",
        "# Set the title\n",
        "plt.title('Correlation Heatmap')\n",
        "\n",
        "# Show the plot\n",
        "plt.show()"
      ],
      "metadata": {
        "colab": {
          "base_uri": "https://localhost:8080/",
          "height": 1000
        },
        "id": "LfpFYNnPrpvL",
        "outputId": "b84d0e34-b188-45b1-b7e2-b0393904df44"
      },
      "execution_count": null,
      "outputs": [
        {
          "output_type": "display_data",
          "data": {
            "text/plain": [
              "<Figure size 1500x1000 with 2 Axes>"
            ],
            "image/png": "[encoded data removed]"
          },
          "metadata": {}
        }
      ]
    },
    {
      "cell_type": "code",
      "source": [
        "plt.figure(figsize=(30,50))\n",
        "df.plot(kind=\"box\",layout=(4,6),subplots=True,title=\"Outliers Visualization\")\n",
        "plt.show()"
      ],
      "metadata": {
        "colab": {
          "base_uri": "https://localhost:8080/",
          "height": 495
        },
        "id": "EHcH56njgzgN",
        "outputId": "f73d0b63-294c-4b9b-8255-a40b75b882a5"
      },
      "execution_count": null,
      "outputs": [
        {
          "output_type": "display_data",
          "data": {
            "text/plain": [
              "<Figure size 3000x5000 with 0 Axes>"
            ]
          },
          "metadata": {}
        },
        {
          "output_type": "display_data",
          "data": {
            "text/plain": [
              "<Figure size 640x480 with 24 Axes>"
            ],
            "image/png": "[encoded data removed]"
          },
          "metadata": {}
        }
      ]
    },
    {
      "cell_type": "code",
      "source": [
        "df.dtypes"
      ],
      "metadata": {
        "colab": {
          "base_uri": "https://localhost:8080/"
        },
        "id": "atMQqPm9pEb0",
        "outputId": "afac9415-8a16-43f1-ee14-5c37b7079de4"
      },
      "execution_count": null,
      "outputs": [
        {
          "output_type": "execute_result",
          "data": {
            "text/plain": [
              "loan_id                       int64\n",
              "source                       object\n",
              "financial_institution        object\n",
              "interest_rate               float64\n",
              "unpaid_principal_bal          int64\n",
              "loan_term                     int64\n",
              "origination_date             object\n",
              "first_payment_date           object\n",
              "loan_to_value                 int64\n",
              "number_of_borrowers         float64\n",
              "debt_to_income_ratio        float64\n",
              "borrower_credit_score       float64\n",
              "loan_purpose                 object\n",
              "insurance_percent           float64\n",
              "co-borrower_credit_score    float64\n",
              "insurance_type              float64\n",
              "m1                            int64\n",
              "m2                            int64\n",
              "m3                            int64\n",
              "m4                            int64\n",
              "m5                            int64\n",
              "m6                            int64\n",
              "m7                            int64\n",
              "m8                            int64\n",
              "m9                            int64\n",
              "m10                           int64\n",
              "m11                           int64\n",
              "m12                           int64\n",
              "m13                           int64\n",
              "dtype: object"
            ]
          },
          "metadata": {},
          "execution_count": 12
        }
      ]
    },
    {
      "cell_type": "code",
      "source": [
        "plt.boxplot(df['interest_rate'])"
      ],
      "metadata": {
        "colab": {
          "base_uri": "https://localhost:8080/",
          "height": 569
        },
        "id": "POolx2_NSc9q",
        "outputId": "0d5c7fb3-0c60-4d3c-e5c2-158b603def01"
      },
      "execution_count": null,
      "outputs": [
        {
          "output_type": "execute_result",
          "data": {
            "text/plain": [
              "{'whiskers': [<matplotlib.lines.Line2D at 0x7efe00441a80>,\n",
              "  <matplotlib.lines.Line2D at 0x7efe00441d20>],\n",
              " 'caps': [<matplotlib.lines.Line2D at 0x7efe00441fc0>,\n",
              "  <matplotlib.lines.Line2D at 0x7efe00442260>],\n",
              " 'boxes': [<matplotlib.lines.Line2D at 0x7efe004417e0>],\n",
              " 'medians': [<matplotlib.lines.Line2D at 0x7efe00442500>],\n",
              " 'fliers': [<matplotlib.lines.Line2D at 0x7efe004427a0>],\n",
              " 'means': []}"
            ]
          },
          "metadata": {},
          "execution_count": 13
        },
        {
          "output_type": "display_data",
          "data": {
            "text/plain": [
              "<Figure size 640x480 with 1 Axes>"
            ],
            "image/png": "[encoded data removed]"
          },
          "metadata": {}
        }
      ]
    },
    {
      "cell_type": "code",
      "source": [
        "Q1=np.percentile(df['interest_rate'],25,interpolation='midpoint')\n",
        "Q3=np.percentile(df['interest_rate'],75,interpolation='midpoint')\n",
        "IQR=Q3-Q1\n",
        "Max=Q3+(1.5*IQR)\n",
        "Min=Q1-(1.5*IQR)\n",
        "print(Min,Max)\n",
        "l1=[]\n",
        "for i in df['interest_rate']:\n",
        "  if (i<Min) or (i>Max):\n",
        "    l1.append(i)\n",
        "\n",
        "len(l1)"
      ],
      "metadata": {
        "colab": {
          "base_uri": "https://localhost:8080/"
        },
        "id": "4q2xk8gKSiYi",
        "outputId": "88d94144-a6d2-4b5d-94bd-deefbaf67a1e"
      },
      "execution_count": null,
      "outputs": [
        {
          "output_type": "stream",
          "name": "stdout",
          "text": [
            "2.5625 5.0625\n"
          ]
        },
        {
          "output_type": "execute_result",
          "data": {
            "text/plain": [
              "880"
            ]
          },
          "metadata": {},
          "execution_count": 14
        }
      ]
    },
    {
      "cell_type": "code",
      "source": [
        "df['interest_rate'].describe()"
      ],
      "metadata": {
        "colab": {
          "base_uri": "https://localhost:8080/"
        },
        "id": "MaLIS-bJuTDq",
        "outputId": "0e8a6685-c07e-41a8-bb9f-72919598b1a2"
      },
      "execution_count": null,
      "outputs": [
        {
          "output_type": "execute_result",
          "data": {
            "text/plain": [
              "count    109271.000000\n",
              "mean          3.868432\n",
              "std           0.460911\n",
              "min           2.375000\n",
              "25%           3.500000\n",
              "50%           3.875000\n",
              "75%           4.125000\n",
              "max           6.750000\n",
              "Name: interest_rate, dtype: float64"
            ]
          },
          "metadata": {},
          "execution_count": 15
        }
      ]
    },
    {
      "cell_type": "markdown",
      "source": [
        "**INSIGHT**\n",
        "\n",
        "Outliers is the interest_rate cannot be considered as outliers since , interest can can any value."
      ],
      "metadata": {
        "id": "ph6FF1aaufRs"
      }
    },
    {
      "cell_type": "code",
      "source": [
        "plt.boxplot(df['unpaid_principal_bal'])"
      ],
      "metadata": {
        "id": "Wx1x49w0lZVP",
        "colab": {
          "base_uri": "https://localhost:8080/",
          "height": 584
        },
        "outputId": "d0321cad-52c9-45b2-831c-d3a5d2e7d6a7"
      },
      "execution_count": null,
      "outputs": [
        {
          "output_type": "execute_result",
          "data": {
            "text/plain": [
              "{'whiskers': [<matplotlib.lines.Line2D at 0x7efe002975e0>,\n",
              "  <matplotlib.lines.Line2D at 0x7efe00297880>],\n",
              " 'caps': [<matplotlib.lines.Line2D at 0x7efe00297b20>,\n",
              "  <matplotlib.lines.Line2D at 0x7efe00297dc0>],\n",
              " 'boxes': [<matplotlib.lines.Line2D at 0x7efe00297340>],\n",
              " 'medians': [<matplotlib.lines.Line2D at 0x7efe002d00a0>],\n",
              " 'fliers': [<matplotlib.lines.Line2D at 0x7efe002d0340>],\n",
              " 'means': []}"
            ]
          },
          "metadata": {},
          "execution_count": 16
        },
        {
          "output_type": "display_data",
          "data": {
            "text/plain": [
              "<Figure size 640x480 with 1 Axes>"
            ],
            "image/png": "[encoded data removed]"
          },
          "metadata": {}
        }
      ]
    },
    {
      "cell_type": "code",
      "source": [
        "Q1=np.percentile(df['unpaid_principal_bal'],25,interpolation='midpoint')\n",
        "Q3=np.percentile(df['unpaid_principal_bal'],75,interpolation='midpoint')\n",
        "IQR=Q3-Q1\n",
        "Max=Q3+(1.5*IQR)\n",
        "Min=Q1-(1.5*IQR)\n",
        "print(Min,Max)\n",
        "l2=[]\n",
        "for i in df['unpaid_principal_bal']:\n",
        "  if (i<Min)or(i>Max):\n",
        "    l2.append(i)\n",
        "\n",
        "len(l2)"
      ],
      "metadata": {
        "colab": {
          "base_uri": "https://localhost:8080/"
        },
        "id": "fVDlfilzHd-m",
        "outputId": "80521576-49aa-47b5-d33c-becb20ef0624"
      },
      "execution_count": null,
      "outputs": [
        {
          "output_type": "stream",
          "name": "stdout",
          "text": [
            "-118500.0 517500.0\n"
          ]
        },
        {
          "output_type": "execute_result",
          "data": {
            "text/plain": [
              "1619"
            ]
          },
          "metadata": {},
          "execution_count": 17
        }
      ]
    },
    {
      "cell_type": "markdown",
      "source": [
        "**INSIGHT**\n",
        "\n",
        "same case as in the interest rate"
      ],
      "metadata": {
        "id": "m7TWR1dUuwH2"
      }
    },
    {
      "cell_type": "code",
      "source": [
        "plt.boxplot(df['loan_term'])"
      ],
      "metadata": {
        "colab": {
          "base_uri": "https://localhost:8080/",
          "height": 569
        },
        "id": "jhpXtDv1PLXy",
        "outputId": "12e94347-65a9-4976-ec83-c0d09bafe765"
      },
      "execution_count": null,
      "outputs": [
        {
          "output_type": "execute_result",
          "data": {
            "text/plain": [
              "{'whiskers': [<matplotlib.lines.Line2D at 0x7efe0031f280>,\n",
              "  <matplotlib.lines.Line2D at 0x7efe0031f520>],\n",
              " 'caps': [<matplotlib.lines.Line2D at 0x7efe0031f7c0>,\n",
              "  <matplotlib.lines.Line2D at 0x7efe0031fa60>],\n",
              " 'boxes': [<matplotlib.lines.Line2D at 0x7efe0031efe0>],\n",
              " 'medians': [<matplotlib.lines.Line2D at 0x7efe0031fd00>],\n",
              " 'fliers': [<matplotlib.lines.Line2D at 0x7efe0031ffa0>],\n",
              " 'means': []}"
            ]
          },
          "metadata": {},
          "execution_count": 18
        },
        {
          "output_type": "display_data",
          "data": {
            "text/plain": [
              "<Figure size 640x480 with 1 Axes>"
            ],
            "image/png": "[encoded data removed]"
          },
          "metadata": {}
        }
      ]
    },
    {
      "cell_type": "markdown",
      "source": [
        "**INSIGHT**\n",
        "\n",
        "No outliers."
      ],
      "metadata": {
        "id": "xy07Nmf8u5iH"
      }
    },
    {
      "cell_type": "code",
      "source": [
        "plt.boxplot(df['loan_to_value'])"
      ],
      "metadata": {
        "colab": {
          "base_uri": "https://localhost:8080/",
          "height": 569
        },
        "id": "AHk1z8W8U1z6",
        "outputId": "010fefc5-575f-4ed2-cff7-22ad82a98ce6"
      },
      "execution_count": null,
      "outputs": [
        {
          "output_type": "execute_result",
          "data": {
            "text/plain": [
              "{'whiskers': [<matplotlib.lines.Line2D at 0x7efe001a6740>,\n",
              "  <matplotlib.lines.Line2D at 0x7efe001a69e0>],\n",
              " 'caps': [<matplotlib.lines.Line2D at 0x7efe001a6c80>,\n",
              "  <matplotlib.lines.Line2D at 0x7efe001a6f20>],\n",
              " 'boxes': [<matplotlib.lines.Line2D at 0x7efe001a64a0>],\n",
              " 'medians': [<matplotlib.lines.Line2D at 0x7efe001a71c0>],\n",
              " 'fliers': [<matplotlib.lines.Line2D at 0x7efe001a7460>],\n",
              " 'means': []}"
            ]
          },
          "metadata": {},
          "execution_count": 19
        },
        {
          "output_type": "display_data",
          "data": {
            "text/plain": [
              "<Figure size 640x480 with 1 Axes>"
            ],
            "image/png": "[encoded data removed]"
          },
          "metadata": {}
        }
      ]
    },
    {
      "cell_type": "code",
      "source": [
        "Q1=np.percentile(df['loan_to_value'],25,interpolation='midpoint')\n",
        "Q3=np.percentile(df['loan_to_value'],75,interpolation='midpoint')\n",
        "IQR=Q3-Q1\n",
        "Min=Q1-(1.5*IQR)\n",
        "Max=Q3+(1.5*IQR)\n",
        "print(Min,Max)\n",
        "l3=[]\n",
        "for i in df['loan_to_value']:\n",
        "  if (i<Min) or (i>Max):\n",
        "    l3.append(i)\n",
        "\n",
        "len(l3)\n"
      ],
      "metadata": {
        "colab": {
          "base_uri": "https://localhost:8080/"
        },
        "id": "6RO4TsNfU8-_",
        "outputId": "1ce2f2c9-5afa-4d36-eebd-50d34b668550"
      },
      "execution_count": null,
      "outputs": [
        {
          "output_type": "stream",
          "name": "stdout",
          "text": [
            "22.5 114.5\n"
          ]
        },
        {
          "output_type": "execute_result",
          "data": {
            "text/plain": [
              "1405"
            ]
          },
          "metadata": {},
          "execution_count": 20
        }
      ]
    },
    {
      "cell_type": "code",
      "source": [
        "df['loan_to_value'].describe()"
      ],
      "metadata": {
        "colab": {
          "base_uri": "https://localhost:8080/"
        },
        "id": "3fHOCjr6Wkp2",
        "outputId": "33fc97bb-503d-4e95-fa15-4cfc2a6de203"
      },
      "execution_count": null,
      "outputs": [
        {
          "output_type": "execute_result",
          "data": {
            "text/plain": [
              "count    109271.000000\n",
              "mean         67.430352\n",
              "std          17.298445\n",
              "min           6.000000\n",
              "25%          57.000000\n",
              "50%          72.000000\n",
              "75%          80.000000\n",
              "max          97.000000\n",
              "Name: loan_to_value, dtype: float64"
            ]
          },
          "metadata": {},
          "execution_count": 21
        }
      ]
    },
    {
      "cell_type": "code",
      "source": [
        "for i in df['loan_to_value']:\n",
        "    if (i<Min):\n",
        "        df['loan_to_value'].replace(i,df['loan_to_value'].median(),inplace=True)"
      ],
      "metadata": {
        "id": "pJYVcOKfv_FH"
      },
      "execution_count": null,
      "outputs": []
    },
    {
      "cell_type": "code",
      "source": [
        "plt.boxplot(df['loan_to_value'])"
      ],
      "metadata": {
        "colab": {
          "base_uri": "https://localhost:8080/",
          "height": 571
        },
        "id": "FmInNVYpwRvT",
        "outputId": "a7c56033-61e5-4a2c-e904-98e6b31ab2fc"
      },
      "execution_count": null,
      "outputs": [
        {
          "output_type": "execute_result",
          "data": {
            "text/plain": [
              "{'whiskers': [<matplotlib.lines.Line2D at 0x7efe002443d0>,\n",
              "  <matplotlib.lines.Line2D at 0x7efe00244550>],\n",
              " 'caps': [<matplotlib.lines.Line2D at 0x7efe002447f0>,\n",
              "  <matplotlib.lines.Line2D at 0x7efe00244a90>],\n",
              " 'boxes': [<matplotlib.lines.Line2D at 0x7efe00244130>],\n",
              " 'medians': [<matplotlib.lines.Line2D at 0x7efe00244d30>],\n",
              " 'fliers': [<matplotlib.lines.Line2D at 0x7efe00244fd0>],\n",
              " 'means': []}"
            ]
          },
          "metadata": {},
          "execution_count": 23
        },
        {
          "output_type": "display_data",
          "data": {
            "text/plain": [
              "<Figure size 640x480 with 1 Axes>"
            ],
            "image/png": "[encoded data removed]"
          },
          "metadata": {}
        }
      ]
    },
    {
      "cell_type": "code",
      "source": [
        "plt.boxplot(df['borrower_credit_score'])"
      ],
      "metadata": {
        "colab": {
          "base_uri": "https://localhost:8080/",
          "height": 569
        },
        "id": "bR5LxwQ6Wv6F",
        "outputId": "89b55b07-89de-43c5-a164-3abe6f7ec6cb"
      },
      "execution_count": null,
      "outputs": [
        {
          "output_type": "execute_result",
          "data": {
            "text/plain": [
              "{'whiskers': [<matplotlib.lines.Line2D at 0x7efe000b4a30>,\n",
              "  <matplotlib.lines.Line2D at 0x7efe000b4cd0>],\n",
              " 'caps': [<matplotlib.lines.Line2D at 0x7efe000b4f70>,\n",
              "  <matplotlib.lines.Line2D at 0x7efe000b5210>],\n",
              " 'boxes': [<matplotlib.lines.Line2D at 0x7efe000b4790>],\n",
              " 'medians': [<matplotlib.lines.Line2D at 0x7efe000b54b0>],\n",
              " 'fliers': [<matplotlib.lines.Line2D at 0x7efe000b5750>],\n",
              " 'means': []}"
            ]
          },
          "metadata": {},
          "execution_count": 24
        },
        {
          "output_type": "display_data",
          "data": {
            "text/plain": [
              "<Figure size 640x480 with 1 Axes>"
            ],
            "image/png": "[encoded data removed]"
          },
          "metadata": {}
        }
      ]
    },
    {
      "cell_type": "code",
      "source": [
        "Q1=np.percentile(df['borrower_credit_score'],25,interpolation='midpoint')\n",
        "Q3=np.percentile(df['borrower_credit_score'],75,interpolation='midpoint')\n",
        "IQR=Q3-Q1\n",
        "Min=Q1-(1.5*IQR)\n",
        "Max=Q3+(1.5*IQR)\n",
        "print(Min,Max)\n",
        "l4=[]\n",
        "for i in df['borrower_credit_score']:\n",
        "  if (i<Min) or (i>Max):\n",
        "    l4.append(i)\n",
        "\n",
        "len(l4)"
      ],
      "metadata": {
        "colab": {
          "base_uri": "https://localhost:8080/"
        },
        "id": "83g3L93AXdsT",
        "outputId": "1cf73220-abe1-4c2a-f9b2-4d507bd246e9"
      },
      "execution_count": null,
      "outputs": [
        {
          "output_type": "stream",
          "name": "stdout",
          "text": [
            "677.5 873.5\n"
          ]
        },
        {
          "output_type": "execute_result",
          "data": {
            "text/plain": [
              "3506"
            ]
          },
          "metadata": {},
          "execution_count": 25
        }
      ]
    },
    {
      "cell_type": "code",
      "source": [
        "for i in df['borrower_credit_score']:\n",
        "    if (i<Min):\n",
        "        df['borrower_credit_score'].replace(i,df['borrower_credit_score'].median(),inplace=True)"
      ],
      "metadata": {
        "id": "deI4dGmwX5s6"
      },
      "execution_count": null,
      "outputs": []
    },
    {
      "cell_type": "code",
      "source": [
        "plt.boxplot(df['borrower_credit_score'])"
      ],
      "metadata": {
        "colab": {
          "base_uri": "https://localhost:8080/",
          "height": 569
        },
        "id": "mU_TWAOXw75p",
        "outputId": "6f04bee7-e00f-44a6-a4ca-cd1d0943e163"
      },
      "execution_count": null,
      "outputs": [
        {
          "output_type": "execute_result",
          "data": {
            "text/plain": [
              "{'whiskers': [<matplotlib.lines.Line2D at 0x7efe00126f80>,\n",
              "  <matplotlib.lines.Line2D at 0x7efe00127220>],\n",
              " 'caps': [<matplotlib.lines.Line2D at 0x7efe001274c0>,\n",
              "  <matplotlib.lines.Line2D at 0x7efe00127760>],\n",
              " 'boxes': [<matplotlib.lines.Line2D at 0x7efe00126ce0>],\n",
              " 'medians': [<matplotlib.lines.Line2D at 0x7efe00127a00>],\n",
              " 'fliers': [<matplotlib.lines.Line2D at 0x7efe00127ca0>],\n",
              " 'means': []}"
            ]
          },
          "metadata": {},
          "execution_count": 27
        },
        {
          "output_type": "display_data",
          "data": {
            "text/plain": [
              "<Figure size 640x480 with 1 Axes>"
            ],
            "image/png": "[encoded data removed]"
          },
          "metadata": {}
        }
      ]
    },
    {
      "cell_type": "code",
      "source": [
        "plt.boxplot(df['insurance_percent'])"
      ],
      "metadata": {
        "colab": {
          "base_uri": "https://localhost:8080/",
          "height": 569
        },
        "id": "VPGL75-_Ye_-",
        "outputId": "ca44d45e-123a-41ac-f47b-43542081d346"
      },
      "execution_count": null,
      "outputs": [
        {
          "output_type": "execute_result",
          "data": {
            "text/plain": [
              "{'whiskers': [<matplotlib.lines.Line2D at 0x7efdfffa7b80>,\n",
              "  <matplotlib.lines.Line2D at 0x7efdfffa7d00>],\n",
              " 'caps': [<matplotlib.lines.Line2D at 0x7efdfffa7fa0>,\n",
              "  <matplotlib.lines.Line2D at 0x7efdfffd4280>],\n",
              " 'boxes': [<matplotlib.lines.Line2D at 0x7efdfffa78e0>],\n",
              " 'medians': [<matplotlib.lines.Line2D at 0x7efdfffd4520>],\n",
              " 'fliers': [<matplotlib.lines.Line2D at 0x7efdfffd47c0>],\n",
              " 'means': []}"
            ]
          },
          "metadata": {},
          "execution_count": 28
        },
        {
          "output_type": "display_data",
          "data": {
            "text/plain": [
              "<Figure size 640x480 with 1 Axes>"
            ],
            "image/png": "[encoded data removed]"
          },
          "metadata": {}
        }
      ]
    },
    {
      "cell_type": "code",
      "source": [
        "Q1=np.percentile(df['insurance_percent'],25,interpolation='midpoint')\n",
        "Q3=np.percentile(df['insurance_percent'],75,interpolation='midpoint')\n",
        "IQR=Q3-Q1\n",
        "Min=Q1-(1.5*IQR)\n",
        "Max=Q3+(1.5*IQR)\n",
        "print(Min,Max)\n",
        "l5=[]\n",
        "for i in df['insurance_percent']:\n",
        "  if (i<Min) or (i>Max):\n",
        "    l5.append(i)\n",
        "\n",
        "len(l5)"
      ],
      "metadata": {
        "colab": {
          "base_uri": "https://localhost:8080/"
        },
        "id": "EW21Jp4NYokn",
        "outputId": "09bef31d-4d61-4222-9879-84ab34664e69"
      },
      "execution_count": null,
      "outputs": [
        {
          "output_type": "stream",
          "name": "stdout",
          "text": [
            "0.0 0.0\n"
          ]
        },
        {
          "output_type": "execute_result",
          "data": {
            "text/plain": [
              "12842"
            ]
          },
          "metadata": {},
          "execution_count": 29
        }
      ]
    },
    {
      "cell_type": "code",
      "source": [
        "plt.boxplot(df['m1'])"
      ],
      "metadata": {
        "colab": {
          "base_uri": "https://localhost:8080/",
          "height": 569
        },
        "id": "zFnMJ943Zmqo",
        "outputId": "c4073595-3694-4bea-fa4a-266a8332b15e"
      },
      "execution_count": null,
      "outputs": [
        {
          "output_type": "execute_result",
          "data": {
            "text/plain": [
              "{'whiskers': [<matplotlib.lines.Line2D at 0x7efdffeb0910>,\n",
              "  <matplotlib.lines.Line2D at 0x7efdffeb0bb0>],\n",
              " 'caps': [<matplotlib.lines.Line2D at 0x7efdffeb0e50>,\n",
              "  <matplotlib.lines.Line2D at 0x7efdffeb10f0>],\n",
              " 'boxes': [<matplotlib.lines.Line2D at 0x7efdffeb0640>],\n",
              " 'medians': [<matplotlib.lines.Line2D at 0x7efdffeb1390>],\n",
              " 'fliers': [<matplotlib.lines.Line2D at 0x7efdffeb1630>],\n",
              " 'means': []}"
            ]
          },
          "metadata": {},
          "execution_count": 30
        },
        {
          "output_type": "display_data",
          "data": {
            "text/plain": [
              "<Figure size 640x480 with 1 Axes>"
            ],
            "image/png": "[encoded data removed]"
          },
          "metadata": {}
        }
      ]
    },
    {
      "cell_type": "code",
      "source": [
        "Q1=np.percentile(df['m1'],25,interpolation='midpoint')\n",
        "Q3=np.percentile(df['m1'],75,interpolation='midpoint')\n",
        "IQR=Q3-Q1\n",
        "Min=Q1-(1.5*IQR)\n",
        "Max=Q3+(1.5*IQR)\n",
        "print(Min,Max)\n",
        "l6=[]\n",
        "for i in df['m1']:\n",
        "  if (i<Min) or (i>Max):\n",
        "    l6.append(i)\n",
        "\n",
        "len(l6)"
      ],
      "metadata": {
        "colab": {
          "base_uri": "https://localhost:8080/"
        },
        "id": "hO6KzKAPZ-Ub",
        "outputId": "88027c85-25a5-4322-d5ec-dc9f7080a869"
      },
      "execution_count": null,
      "outputs": [
        {
          "output_type": "stream",
          "name": "stdout",
          "text": [
            "0.0 0.0\n"
          ]
        },
        {
          "output_type": "execute_result",
          "data": {
            "text/plain": [
              "310"
            ]
          },
          "metadata": {},
          "execution_count": 31
        }
      ]
    },
    {
      "cell_type": "code",
      "source": [
        "plt.boxplot(df['m2'])"
      ],
      "metadata": {
        "colab": {
          "base_uri": "https://localhost:8080/",
          "height": 569
        },
        "id": "Nq6ZxGmVacCm",
        "outputId": "ac616906-0c92-41c9-8ed5-dd2304ce67f0"
      },
      "execution_count": null,
      "outputs": [
        {
          "output_type": "execute_result",
          "data": {
            "text/plain": [
              "{'whiskers': [<matplotlib.lines.Line2D at 0x7efdffeeff10>,\n",
              "  <matplotlib.lines.Line2D at 0x7efdfff281f0>],\n",
              " 'caps': [<matplotlib.lines.Line2D at 0x7efdfff28490>,\n",
              "  <matplotlib.lines.Line2D at 0x7efdfff28730>],\n",
              " 'boxes': [<matplotlib.lines.Line2D at 0x7efdffeefc70>],\n",
              " 'medians': [<matplotlib.lines.Line2D at 0x7efdfff289d0>],\n",
              " 'fliers': [<matplotlib.lines.Line2D at 0x7efdfff28c70>],\n",
              " 'means': []}"
            ]
          },
          "metadata": {},
          "execution_count": 32
        },
        {
          "output_type": "display_data",
          "data": {
            "text/plain": [
              "<Figure size 640x480 with 1 Axes>"
            ],
            "image/png": "[encoded data removed]"
          },
          "metadata": {}
        }
      ]
    },
    {
      "cell_type": "code",
      "source": [
        "Q1=np.percentile(df['m2'],25,interpolation='midpoint')\n",
        "Q3=np.percentile(df['m2'],75,interpolation='midpoint')\n",
        "IQR=Q3-Q1\n",
        "Min=Q1-(1.5*IQR)\n",
        "Max=Q3+(1.5*IQR)\n",
        "print(Min,Max)\n",
        "l7=[]\n",
        "for i in df['m2']:\n",
        "  if (i<Min) or (i>Max):\n",
        "    l7.append(i)\n",
        "\n",
        "len(l7)"
      ],
      "metadata": {
        "colab": {
          "base_uri": "https://localhost:8080/"
        },
        "id": "fzEke4YaagRx",
        "outputId": "997d068f-0e9e-43c9-d16f-88f5fed7f011"
      },
      "execution_count": null,
      "outputs": [
        {
          "output_type": "stream",
          "name": "stdout",
          "text": [
            "0.0 0.0\n"
          ]
        },
        {
          "output_type": "execute_result",
          "data": {
            "text/plain": [
              "204"
            ]
          },
          "metadata": {},
          "execution_count": 33
        }
      ]
    },
    {
      "cell_type": "code",
      "source": [
        "plt.boxplot(df['m3'])"
      ],
      "metadata": {
        "colab": {
          "base_uri": "https://localhost:8080/",
          "height": 569
        },
        "id": "n6x72xdVawrt",
        "outputId": "7704f8d1-6ffb-453a-dd5c-f325ddd05fcd"
      },
      "execution_count": null,
      "outputs": [
        {
          "output_type": "execute_result",
          "data": {
            "text/plain": [
              "{'whiskers': [<matplotlib.lines.Line2D at 0x7efdffd9cf10>,\n",
              "  <matplotlib.lines.Line2D at 0x7efdffd9d1b0>],\n",
              " 'caps': [<matplotlib.lines.Line2D at 0x7efdffd9d450>,\n",
              "  <matplotlib.lines.Line2D at 0x7efdffd9d6f0>],\n",
              " 'boxes': [<matplotlib.lines.Line2D at 0x7efdffd9cc70>],\n",
              " 'medians': [<matplotlib.lines.Line2D at 0x7efdffd9d990>],\n",
              " 'fliers': [<matplotlib.lines.Line2D at 0x7efdffd9dc30>],\n",
              " 'means': []}"
            ]
          },
          "metadata": {},
          "execution_count": 34
        },
        {
          "output_type": "display_data",
          "data": {
            "text/plain": [
              "<Figure size 640x480 with 1 Axes>"
            ],
            "image/png": "[encoded data removed]"
          },
          "metadata": {}
        }
      ]
    },
    {
      "cell_type": "code",
      "source": [
        "Q1=np.percentile(df['m3'],25,interpolation='midpoint')\n",
        "Q3=np.percentile(df['m3'],75,interpolation='midpoint')\n",
        "IQR=Q3-Q1\n",
        "Min=Q1-(1.5*IQR)\n",
        "Max=Q3+(1.5*IQR)\n",
        "print(Min,Max)\n",
        "l8=[]\n",
        "for i in df['m3']:\n",
        "  if (i<Min) or (i>Max):\n",
        "    l8.append(i)\n",
        "\n",
        "len(l8)"
      ],
      "metadata": {
        "colab": {
          "base_uri": "https://localhost:8080/"
        },
        "id": "wQsLcwqja4Ax",
        "outputId": "b5b3f5e7-e1ff-448d-9f07-27587ad8b2ae"
      },
      "execution_count": null,
      "outputs": [
        {
          "output_type": "stream",
          "name": "stdout",
          "text": [
            "0.0 0.0\n"
          ]
        },
        {
          "output_type": "execute_result",
          "data": {
            "text/plain": [
              "180"
            ]
          },
          "metadata": {},
          "execution_count": 35
        }
      ]
    },
    {
      "cell_type": "code",
      "source": [
        "plt.boxplot(df['m4'])"
      ],
      "metadata": {
        "colab": {
          "base_uri": "https://localhost:8080/",
          "height": 569
        },
        "id": "y207nb9sbfUT",
        "outputId": "9a7e321e-eba2-4ddb-d21a-cbbad2b2a328"
      },
      "execution_count": null,
      "outputs": [
        {
          "output_type": "execute_result",
          "data": {
            "text/plain": [
              "{'whiskers': [<matplotlib.lines.Line2D at 0x7efdffdf7af0>,\n",
              "  <matplotlib.lines.Line2D at 0x7efdffdf7d90>],\n",
              " 'caps': [<matplotlib.lines.Line2D at 0x7efdffe1c070>,\n",
              "  <matplotlib.lines.Line2D at 0x7efdffe1c310>],\n",
              " 'boxes': [<matplotlib.lines.Line2D at 0x7efdffdf7850>],\n",
              " 'medians': [<matplotlib.lines.Line2D at 0x7efdffe1c5b0>],\n",
              " 'fliers': [<matplotlib.lines.Line2D at 0x7efdffe1c850>],\n",
              " 'means': []}"
            ]
          },
          "metadata": {},
          "execution_count": 36
        },
        {
          "output_type": "display_data",
          "data": {
            "text/plain": [
              "<Figure size 640x480 with 1 Axes>"
            ],
            "image/png": "[encoded data removed]"
          },
          "metadata": {}
        }
      ]
    },
    {
      "cell_type": "code",
      "source": [
        "Q1=np.percentile(df['m4'],25,interpolation='midpoint')\n",
        "Q3=np.percentile(df['m4'],75,interpolation='midpoint')\n",
        "IQR=Q3-Q1\n",
        "Min=Q1-(1.5*IQR)\n",
        "Max=Q3+(1.5*IQR)\n",
        "print(Min,Max)\n",
        "l9=[]\n",
        "for i in df['m4']:\n",
        "  if (i<Min) or (i>Max):\n",
        "    l9.append(i)\n",
        "\n",
        "len(l9)"
      ],
      "metadata": {
        "colab": {
          "base_uri": "https://localhost:8080/"
        },
        "id": "vgfwl7DtbjRk",
        "outputId": "60a71441-0fc1-48a5-b47d-21b03b23d665"
      },
      "execution_count": null,
      "outputs": [
        {
          "output_type": "stream",
          "name": "stdout",
          "text": [
            "0.0 0.0\n"
          ]
        },
        {
          "output_type": "execute_result",
          "data": {
            "text/plain": [
              "192"
            ]
          },
          "metadata": {},
          "execution_count": 37
        }
      ]
    },
    {
      "cell_type": "code",
      "source": [
        "plt.boxplot(df['m5'])"
      ],
      "metadata": {
        "colab": {
          "base_uri": "https://localhost:8080/",
          "height": 569
        },
        "id": "3LrIJRUrbu2C",
        "outputId": "15157538-cb92-4277-b1ff-f92bd74efa90"
      },
      "execution_count": null,
      "outputs": [
        {
          "output_type": "execute_result",
          "data": {
            "text/plain": [
              "{'whiskers': [<matplotlib.lines.Line2D at 0x7efdffe5f610>,\n",
              "  <matplotlib.lines.Line2D at 0x7efdffe5f8b0>],\n",
              " 'caps': [<matplotlib.lines.Line2D at 0x7efdffe5fb50>,\n",
              "  <matplotlib.lines.Line2D at 0x7efdffe5fdf0>],\n",
              " 'boxes': [<matplotlib.lines.Line2D at 0x7efdffe5f370>],\n",
              " 'medians': [<matplotlib.lines.Line2D at 0x7efdffc940d0>],\n",
              " 'fliers': [<matplotlib.lines.Line2D at 0x7efdffc94370>],\n",
              " 'means': []}"
            ]
          },
          "metadata": {},
          "execution_count": 38
        },
        {
          "output_type": "display_data",
          "data": {
            "text/plain": [
              "<Figure size 640x480 with 1 Axes>"
            ],
            "image/png": "[encoded data removed]"
          },
          "metadata": {}
        }
      ]
    },
    {
      "cell_type": "code",
      "source": [
        "Q1=np.percentile(df['m5'],25,interpolation='midpoint')\n",
        "Q3=np.percentile(df['m5'],75,interpolation='midpoint')\n",
        "IQR=Q3-Q1\n",
        "Min=Q1-(1.5*IQR)\n",
        "Max=Q3+(1.5*IQR)\n",
        "print(Min,Max)\n",
        "l10=[]\n",
        "for i in df['m5']:\n",
        "  if (i<Min) or (i>Max):\n",
        "    l10.append(i)\n",
        "\n",
        "len(l10)"
      ],
      "metadata": {
        "colab": {
          "base_uri": "https://localhost:8080/"
        },
        "id": "UKCOSdpRbzXq",
        "outputId": "1ce06a96-ca6e-456d-8663-edddafe0b516"
      },
      "execution_count": null,
      "outputs": [
        {
          "output_type": "stream",
          "name": "stdout",
          "text": [
            "0.0 0.0\n"
          ]
        },
        {
          "output_type": "execute_result",
          "data": {
            "text/plain": [
              "293"
            ]
          },
          "metadata": {},
          "execution_count": 39
        }
      ]
    },
    {
      "cell_type": "code",
      "source": [
        "plt.boxplot(df['m6'])"
      ],
      "metadata": {
        "colab": {
          "base_uri": "https://localhost:8080/",
          "height": 569
        },
        "id": "vCKO6Y3-cHK8",
        "outputId": "f5723ec9-fef5-41f4-8af1-e83bfdc5a042"
      },
      "execution_count": null,
      "outputs": [
        {
          "output_type": "execute_result",
          "data": {
            "text/plain": [
              "{'whiskers': [<matplotlib.lines.Line2D at 0x7efdffcef3d0>,\n",
              "  <matplotlib.lines.Line2D at 0x7efdffcef670>],\n",
              " 'caps': [<matplotlib.lines.Line2D at 0x7efdffcef910>,\n",
              "  <matplotlib.lines.Line2D at 0x7efdffcefbb0>],\n",
              " 'boxes': [<matplotlib.lines.Line2D at 0x7efdffcef160>],\n",
              " 'medians': [<matplotlib.lines.Line2D at 0x7efdffcefe50>],\n",
              " 'fliers': [<matplotlib.lines.Line2D at 0x7efdffd20130>],\n",
              " 'means': []}"
            ]
          },
          "metadata": {},
          "execution_count": 40
        },
        {
          "output_type": "display_data",
          "data": {
            "text/plain": [
              "<Figure size 640x480 with 1 Axes>"
            ],
            "image/png": "[encoded data removed]"
          },
          "metadata": {}
        }
      ]
    },
    {
      "cell_type": "code",
      "source": [
        "Q1=np.percentile(df['m6'],25,interpolation='midpoint')\n",
        "Q3=np.percentile(df['m6'],75,interpolation='midpoint')\n",
        "IQR=Q3-Q1\n",
        "Min=Q1-(1.5*IQR)\n",
        "Max=Q3+(1.5*IQR)\n",
        "print(Min,Max)\n",
        "l11=[]\n",
        "for i in df['m6']:\n",
        "  if (i<Min) or (i>Max):\n",
        "    l11.append(i)\n",
        "\n",
        "len(l11)"
      ],
      "metadata": {
        "colab": {
          "base_uri": "https://localhost:8080/"
        },
        "id": "01cn7gHKcNvW",
        "outputId": "b8711cd2-0137-473b-a491-af1dff6c827a"
      },
      "execution_count": null,
      "outputs": [
        {
          "output_type": "stream",
          "name": "stdout",
          "text": [
            "0.0 0.0\n"
          ]
        },
        {
          "output_type": "execute_result",
          "data": {
            "text/plain": [
              "266"
            ]
          },
          "metadata": {},
          "execution_count": 41
        }
      ]
    },
    {
      "cell_type": "code",
      "source": [
        "plt.boxplot(df['m7'])"
      ],
      "metadata": {
        "colab": {
          "base_uri": "https://localhost:8080/",
          "height": 569
        },
        "id": "tF2-fvqgcdh3",
        "outputId": "baacb35b-db33-47c5-a71b-d1ea23c8986a"
      },
      "execution_count": null,
      "outputs": [
        {
          "output_type": "execute_result",
          "data": {
            "text/plain": [
              "{'whiskers': [<matplotlib.lines.Line2D at 0x7efdffb90250>,\n",
              "  <matplotlib.lines.Line2D at 0x7efdffb904f0>],\n",
              " 'caps': [<matplotlib.lines.Line2D at 0x7efdffb90670>,\n",
              "  <matplotlib.lines.Line2D at 0x7efdffb90910>],\n",
              " 'boxes': [<matplotlib.lines.Line2D at 0x7efdffd57f70>],\n",
              " 'medians': [<matplotlib.lines.Line2D at 0x7efdffb90bb0>],\n",
              " 'fliers': [<matplotlib.lines.Line2D at 0x7efdffb90e50>],\n",
              " 'means': []}"
            ]
          },
          "metadata": {},
          "execution_count": 42
        },
        {
          "output_type": "display_data",
          "data": {
            "text/plain": [
              "<Figure size 640x480 with 1 Axes>"
            ],
            "image/png": "[encoded data removed]"
          },
          "metadata": {}
        }
      ]
    },
    {
      "cell_type": "code",
      "source": [
        "Q1=np.percentile(df['m7'],25,interpolation='midpoint')\n",
        "Q3=np.percentile(df['m7'],75,interpolation='midpoint')\n",
        "IQR=Q3-Q1\n",
        "Min=Q1-(1.5*IQR)\n",
        "Max=Q3+(1.5*IQR)\n",
        "print(Min,Max)\n",
        "l12=[]\n",
        "for i in df['m7']:\n",
        "  if (i<Min) or (i>Max):\n",
        "    l12.append(i)\n",
        "\n",
        "len(l12)"
      ],
      "metadata": {
        "colab": {
          "base_uri": "https://localhost:8080/"
        },
        "id": "33l7C-sYcg_F",
        "outputId": "6b5d0d50-4d6c-4c61-df90-37330ab714c3"
      },
      "execution_count": null,
      "outputs": [
        {
          "output_type": "stream",
          "name": "stdout",
          "text": [
            "0.0 0.0\n"
          ]
        },
        {
          "output_type": "execute_result",
          "data": {
            "text/plain": [
              "318"
            ]
          },
          "metadata": {},
          "execution_count": 43
        }
      ]
    },
    {
      "cell_type": "code",
      "source": [
        "plt.boxplot(df['m8'])"
      ],
      "metadata": {
        "colab": {
          "base_uri": "https://localhost:8080/",
          "height": 569
        },
        "id": "CYWuAxQ2cseT",
        "outputId": "d07ef192-5474-4e91-8632-f073d0e7eb63"
      },
      "execution_count": null,
      "outputs": [
        {
          "output_type": "execute_result",
          "data": {
            "text/plain": [
              "{'whiskers': [<matplotlib.lines.Line2D at 0x7efdffbd9de0>,\n",
              "  <matplotlib.lines.Line2D at 0x7efdffbda080>],\n",
              " 'caps': [<matplotlib.lines.Line2D at 0x7efdffbda320>,\n",
              "  <matplotlib.lines.Line2D at 0x7efdffbda5c0>],\n",
              " 'boxes': [<matplotlib.lines.Line2D at 0x7efdffbd9b40>],\n",
              " 'medians': [<matplotlib.lines.Line2D at 0x7efdffbda860>],\n",
              " 'fliers': [<matplotlib.lines.Line2D at 0x7efdffbdab00>],\n",
              " 'means': []}"
            ]
          },
          "metadata": {},
          "execution_count": 44
        },
        {
          "output_type": "display_data",
          "data": {
            "text/plain": [
              "<Figure size 640x480 with 1 Axes>"
            ],
            "image/png": "[encoded data removed]"
          },
          "metadata": {}
        }
      ]
    },
    {
      "cell_type": "code",
      "source": [
        "Q1=np.percentile(df['m8'],25,interpolation='midpoint')\n",
        "Q3=np.percentile(df['m8'],75,interpolation='midpoint')\n",
        "IQR=Q3-Q1\n",
        "Min=Q1-(1.5*IQR)\n",
        "Max=Q3+(1.5*IQR)\n",
        "print(Min,Max)\n",
        "l13=[]\n",
        "for i in df['m8']:\n",
        "  if (i<Min) or (i>Max):\n",
        "    l13.append(i)\n",
        "\n",
        "len(l13)"
      ],
      "metadata": {
        "colab": {
          "base_uri": "https://localhost:8080/"
        },
        "id": "isYZLBwBcxLv",
        "outputId": "745c267c-6466-4f5f-d200-d3624fac8063"
      },
      "execution_count": null,
      "outputs": [
        {
          "output_type": "stream",
          "name": "stdout",
          "text": [
            "0.0 0.0\n"
          ]
        },
        {
          "output_type": "execute_result",
          "data": {
            "text/plain": [
              "350"
            ]
          },
          "metadata": {},
          "execution_count": 45
        }
      ]
    },
    {
      "cell_type": "code",
      "source": [
        "plt.boxplot(df['m9'])"
      ],
      "metadata": {
        "colab": {
          "base_uri": "https://localhost:8080/",
          "height": 569
        },
        "id": "gYSdYPY5dDvS",
        "outputId": "307f5feb-683c-4944-b8d7-253d89c14f63"
      },
      "execution_count": null,
      "outputs": [
        {
          "output_type": "execute_result",
          "data": {
            "text/plain": [
              "{'whiskers': [<matplotlib.lines.Line2D at 0x7efdffc70130>,\n",
              "  <matplotlib.lines.Line2D at 0x7efdffc703d0>],\n",
              " 'caps': [<matplotlib.lines.Line2D at 0x7efdffc70670>,\n",
              "  <matplotlib.lines.Line2D at 0x7efdffc70910>],\n",
              " 'boxes': [<matplotlib.lines.Line2D at 0x7efdffc3fe50>],\n",
              " 'medians': [<matplotlib.lines.Line2D at 0x7efdffc70bb0>],\n",
              " 'fliers': [<matplotlib.lines.Line2D at 0x7efdffc70e50>],\n",
              " 'means': []}"
            ]
          },
          "metadata": {},
          "execution_count": 46
        },
        {
          "output_type": "display_data",
          "data": {
            "text/plain": [
              "<Figure size 640x480 with 1 Axes>"
            ],
            "image/png": "[encoded data removed]"
          },
          "metadata": {}
        }
      ]
    },
    {
      "cell_type": "code",
      "source": [
        "Q1=np.percentile(df['m9'],25,interpolation='midpoint')\n",
        "Q3=np.percentile(df['m9'],75,interpolation='midpoint')\n",
        "IQR=Q3-Q1\n",
        "Min=Q1-(1.5*IQR)\n",
        "Max=Q3+(1.5*IQR)\n",
        "print(Min,Max)\n",
        "l14=[]\n",
        "for i in df['m9']:\n",
        "  if (i<Min) or (i>Max):\n",
        "    l14.append(i)\n",
        "\n",
        "len(l14)"
      ],
      "metadata": {
        "colab": {
          "base_uri": "https://localhost:8080/"
        },
        "id": "9wRzUoFNdK80",
        "outputId": "0b1ae7fb-3616-4359-dcd7-4567573ef9c3"
      },
      "execution_count": null,
      "outputs": [
        {
          "output_type": "stream",
          "name": "stdout",
          "text": [
            "0.0 0.0\n"
          ]
        },
        {
          "output_type": "execute_result",
          "data": {
            "text/plain": [
              "359"
            ]
          },
          "metadata": {},
          "execution_count": 47
        }
      ]
    },
    {
      "cell_type": "code",
      "source": [
        "plt.boxplot(df['m10'])"
      ],
      "metadata": {
        "colab": {
          "base_uri": "https://localhost:8080/",
          "height": 569
        },
        "id": "z_G2NDPkdW1Y",
        "outputId": "dd4107b9-984a-4930-e0dd-0112ee81ad24"
      },
      "execution_count": null,
      "outputs": [
        {
          "output_type": "execute_result",
          "data": {
            "text/plain": [
              "{'whiskers': [<matplotlib.lines.Line2D at 0x7efdffac62c0>,\n",
              "  <matplotlib.lines.Line2D at 0x7efdffac6560>],\n",
              " 'caps': [<matplotlib.lines.Line2D at 0x7efdffac6800>,\n",
              "  <matplotlib.lines.Line2D at 0x7efdffac6aa0>],\n",
              " 'boxes': [<matplotlib.lines.Line2D at 0x7efdffac6020>],\n",
              " 'medians': [<matplotlib.lines.Line2D at 0x7efdffac6d40>],\n",
              " 'fliers': [<matplotlib.lines.Line2D at 0x7efdffac6fe0>],\n",
              " 'means': []}"
            ]
          },
          "metadata": {},
          "execution_count": 48
        },
        {
          "output_type": "display_data",
          "data": {
            "text/plain": [
              "<Figure size 640x480 with 1 Axes>"
            ],
            "image/png": "[encoded data removed]"
          },
          "metadata": {}
        }
      ]
    },
    {
      "cell_type": "code",
      "source": [
        "Q1=np.percentile(df['m10'],25,interpolation='midpoint')\n",
        "Q3=np.percentile(df['m10'],75,interpolation='midpoint')\n",
        "IQR=Q3-Q1\n",
        "Min=Q1-(1.5*IQR)\n",
        "Max=Q3+(1.5*IQR)\n",
        "print(Min,Max)\n",
        "l15=[]\n",
        "for i in df['m10']:\n",
        "  if (i<Min) or (i>Max):\n",
        "    l15.append(i)\n",
        "\n",
        "len(l15)"
      ],
      "metadata": {
        "colab": {
          "base_uri": "https://localhost:8080/"
        },
        "id": "75jQMfREdaDJ",
        "outputId": "8972fff1-e7bf-4e13-da39-d3ded8e18c68"
      },
      "execution_count": null,
      "outputs": [
        {
          "output_type": "stream",
          "name": "stdout",
          "text": [
            "0.0 0.0\n"
          ]
        },
        {
          "output_type": "execute_result",
          "data": {
            "text/plain": [
              "421"
            ]
          },
          "metadata": {},
          "execution_count": 49
        }
      ]
    },
    {
      "cell_type": "code",
      "source": [
        "plt.boxplot(df['m11'])"
      ],
      "metadata": {
        "colab": {
          "base_uri": "https://localhost:8080/",
          "height": 569
        },
        "id": "g5Cbh_8ednHo",
        "outputId": "b9e433ac-8744-459b-fbe2-3494342fc7fa"
      },
      "execution_count": null,
      "outputs": [
        {
          "output_type": "execute_result",
          "data": {
            "text/plain": [
              "{'whiskers': [<matplotlib.lines.Line2D at 0x7efdffb54fa0>,\n",
              "  <matplotlib.lines.Line2D at 0x7efdffb55240>],\n",
              " 'caps': [<matplotlib.lines.Line2D at 0x7efdffb554e0>,\n",
              "  <matplotlib.lines.Line2D at 0x7efdffb55780>],\n",
              " 'boxes': [<matplotlib.lines.Line2D at 0x7efdffb54d00>],\n",
              " 'medians': [<matplotlib.lines.Line2D at 0x7efdffb55a20>],\n",
              " 'fliers': [<matplotlib.lines.Line2D at 0x7efdffb55cc0>],\n",
              " 'means': []}"
            ]
          },
          "metadata": {},
          "execution_count": 50
        },
        {
          "output_type": "display_data",
          "data": {
            "text/plain": [
              "<Figure size 640x480 with 1 Axes>"
            ],
            "image/png": "[encoded data removed]"
          },
          "metadata": {}
        }
      ]
    },
    {
      "cell_type": "code",
      "source": [
        "Q1=np.percentile(df['m11'],25,interpolation='midpoint')\n",
        "Q3=np.percentile(df['m11'],75,interpolation='midpoint')\n",
        "IQR=Q3-Q1\n",
        "Min=Q1-(1.5*IQR)\n",
        "Max=Q3+(1.5*IQR)\n",
        "print(Min,Max)\n",
        "l16=[]\n",
        "for i in df['m11']:\n",
        "  if (i<Min) or (i>Max):\n",
        "    l16.append(i)\n",
        "\n",
        "len(l16)"
      ],
      "metadata": {
        "colab": {
          "base_uri": "https://localhost:8080/"
        },
        "id": "lJHLjh7cdqh9",
        "outputId": "c625e048-e747-4c20-dafe-0d81e0e644fb"
      },
      "execution_count": null,
      "outputs": [
        {
          "output_type": "stream",
          "name": "stdout",
          "text": [
            "0.0 0.0\n"
          ]
        },
        {
          "output_type": "execute_result",
          "data": {
            "text/plain": [
              "435"
            ]
          },
          "metadata": {},
          "execution_count": 51
        }
      ]
    },
    {
      "cell_type": "code",
      "source": [
        "plt.boxplot(df['m12'])"
      ],
      "metadata": {
        "colab": {
          "base_uri": "https://localhost:8080/",
          "height": 569
        },
        "id": "a1GEaOA7eHZr",
        "outputId": "4efcdf67-da2b-4429-b2ec-c2a824ffc5d9"
      },
      "execution_count": null,
      "outputs": [
        {
          "output_type": "execute_result",
          "data": {
            "text/plain": [
              "{'whiskers': [<matplotlib.lines.Line2D at 0x7efdfffd6d70>,\n",
              "  <matplotlib.lines.Line2D at 0x7efdfffd77f0>],\n",
              " 'caps': [<matplotlib.lines.Line2D at 0x7efdfffd7340>,\n",
              "  <matplotlib.lines.Line2D at 0x7efdffff82e0>],\n",
              " 'boxes': [<matplotlib.lines.Line2D at 0x7efdfffd6320>],\n",
              " 'medians': [<matplotlib.lines.Line2D at 0x7efdffff9ed0>],\n",
              " 'fliers': [<matplotlib.lines.Line2D at 0x7efdffeb1f90>],\n",
              " 'means': []}"
            ]
          },
          "metadata": {},
          "execution_count": 52
        },
        {
          "output_type": "display_data",
          "data": {
            "text/plain": [
              "<Figure size 640x480 with 1 Axes>"
            ],
            "image/png": "[encoded data removed]"
          },
          "metadata": {}
        }
      ]
    },
    {
      "cell_type": "code",
      "source": [
        "Q1=np.percentile(df['m12'],25,interpolation='midpoint')\n",
        "Q3=np.percentile(df['m12'],75,interpolation='midpoint')\n",
        "IQR=Q3-Q1\n",
        "Min=Q1-(1.5*IQR)\n",
        "Max=Q3+(1.5*IQR)\n",
        "print(Min,Max)\n",
        "l17=[]\n",
        "for i in df['m12']:\n",
        "  if (i<Min) or (i>Max):\n",
        "    l17.append(i)\n",
        "\n",
        "len(l17)"
      ],
      "metadata": {
        "colab": {
          "base_uri": "https://localhost:8080/"
        },
        "id": "YGvdR40pePZh",
        "outputId": "4219ad2c-5c8b-438c-d959-1abdadadb1ba"
      },
      "execution_count": null,
      "outputs": [
        {
          "output_type": "stream",
          "name": "stdout",
          "text": [
            "0.0 0.0\n"
          ]
        },
        {
          "output_type": "execute_result",
          "data": {
            "text/plain": [
              "485"
            ]
          },
          "metadata": {},
          "execution_count": 53
        }
      ]
    },
    {
      "cell_type": "code",
      "source": [
        "plt.boxplot(df['m13'])"
      ],
      "metadata": {
        "colab": {
          "base_uri": "https://localhost:8080/",
          "height": 569
        },
        "id": "i-5kPylWeb4w",
        "outputId": "01b6cd6f-9799-4599-da16-53f1c55af260"
      },
      "execution_count": null,
      "outputs": [
        {
          "output_type": "execute_result",
          "data": {
            "text/plain": [
              "{'whiskers': [<matplotlib.lines.Line2D at 0x7efe003d4640>,\n",
              "  <matplotlib.lines.Line2D at 0x7efe003d41f0>],\n",
              " 'caps': [<matplotlib.lines.Line2D at 0x7efe003d4070>,\n",
              "  <matplotlib.lines.Line2D at 0x7efe003adc30>],\n",
              " 'boxes': [<matplotlib.lines.Line2D at 0x7efe003d5b10>],\n",
              " 'medians': [<matplotlib.lines.Line2D at 0x7efe003ac2b0>],\n",
              " 'fliers': [<matplotlib.lines.Line2D at 0x7efe003ae290>],\n",
              " 'means': []}"
            ]
          },
          "metadata": {},
          "execution_count": 54
        },
        {
          "output_type": "display_data",
          "data": {
            "text/plain": [
              "<Figure size 640x480 with 1 Axes>"
            ],
            "image/png": "[encoded data removed]"
          },
          "metadata": {}
        }
      ]
    },
    {
      "cell_type": "code",
      "source": [
        "Q1=np.percentile(df['m13'],25,interpolation='midpoint')\n",
        "Q3=np.percentile(df['m13'],75,interpolation='midpoint')\n",
        "IQR=Q3-Q1\n",
        "Min=Q1-(1.5*IQR)\n",
        "Max=Q3+(1.5*IQR)\n",
        "print(Min,Max)\n",
        "l18=[]\n",
        "for i in df['m13']:\n",
        "  if (i<Min) or (i>Max):\n",
        "    l18.append(i)\n",
        "\n",
        "len(l18)"
      ],
      "metadata": {
        "colab": {
          "base_uri": "https://localhost:8080/"
        },
        "id": "kSQZ8l4ZecFx",
        "outputId": "77690158-24ef-48a8-e7ce-197f3beda6e4"
      },
      "execution_count": null,
      "outputs": [
        {
          "output_type": "stream",
          "name": "stdout",
          "text": [
            "0.0 0.0\n"
          ]
        },
        {
          "output_type": "execute_result",
          "data": {
            "text/plain": [
              "636"
            ]
          },
          "metadata": {},
          "execution_count": 55
        }
      ]
    },
    {
      "cell_type": "markdown",
      "source": [
        "**ENCODING**"
      ],
      "metadata": {
        "id": "GYOn_k0N49f0"
      }
    },
    {
      "cell_type": "code",
      "source": [
        "df.dtypes"
      ],
      "metadata": {
        "colab": {
          "base_uri": "https://localhost:8080/"
        },
        "id": "CsdRuwP148sy",
        "outputId": "e216d860-49c4-4793-864e-4a2b922f1aa4"
      },
      "execution_count": null,
      "outputs": [
        {
          "output_type": "execute_result",
          "data": {
            "text/plain": [
              "loan_id                       int64\n",
              "source                       object\n",
              "financial_institution        object\n",
              "interest_rate               float64\n",
              "unpaid_principal_bal          int64\n",
              "loan_term                     int64\n",
              "origination_date             object\n",
              "first_payment_date           object\n",
              "loan_to_value                 int64\n",
              "number_of_borrowers         float64\n",
              "debt_to_income_ratio        float64\n",
              "borrower_credit_score       float64\n",
              "loan_purpose                 object\n",
              "insurance_percent           float64\n",
              "co-borrower_credit_score    float64\n",
              "insurance_type              float64\n",
              "m1                            int64\n",
              "m2                            int64\n",
              "m3                            int64\n",
              "m4                            int64\n",
              "m5                            int64\n",
              "m6                            int64\n",
              "m7                            int64\n",
              "m8                            int64\n",
              "m9                            int64\n",
              "m10                           int64\n",
              "m11                           int64\n",
              "m12                           int64\n",
              "m13                           int64\n",
              "dtype: object"
            ]
          },
          "metadata": {},
          "execution_count": 56
        }
      ]
    },
    {
      "cell_type": "code",
      "source": [
        "df.source.nunique()"
      ],
      "metadata": {
        "colab": {
          "base_uri": "https://localhost:8080/"
        },
        "id": "zXHf5CXp5QPp",
        "outputId": "7e952e84-3034-49da-e237-dacdccb4cf41"
      },
      "execution_count": null,
      "outputs": [
        {
          "output_type": "execute_result",
          "data": {
            "text/plain": [
              "3"
            ]
          },
          "metadata": {},
          "execution_count": 57
        }
      ]
    },
    {
      "cell_type": "code",
      "source": [
        " df.financial_institution.nunique()"
      ],
      "metadata": {
        "colab": {
          "base_uri": "https://localhost:8080/"
        },
        "id": "Knuoilfo5aKp",
        "outputId": "b8e9db3f-a47a-4a8d-fbf1-409f69c01a73"
      },
      "execution_count": null,
      "outputs": [
        {
          "output_type": "execute_result",
          "data": {
            "text/plain": [
              "19"
            ]
          },
          "metadata": {},
          "execution_count": 58
        }
      ]
    },
    {
      "cell_type": "code",
      "source": [
        "df.loan_purpose.nunique()"
      ],
      "metadata": {
        "colab": {
          "base_uri": "https://localhost:8080/"
        },
        "id": "JfaV1o3B5aW0",
        "outputId": "29ece616-aa04-44da-fb22-b5326adf7995"
      },
      "execution_count": null,
      "outputs": [
        {
          "output_type": "execute_result",
          "data": {
            "text/plain": [
              "3"
            ]
          },
          "metadata": {},
          "execution_count": 59
        }
      ]
    },
    {
      "cell_type": "code",
      "source": [
        "from sklearn.preprocessing import LabelEncoder"
      ],
      "metadata": {
        "id": "pW3eBzHm-mER"
      },
      "execution_count": null,
      "outputs": []
    },
    {
      "cell_type": "code",
      "source": [
        "le=LabelEncoder()"
      ],
      "metadata": {
        "id": "GS5AghZ8-uZ6"
      },
      "execution_count": null,
      "outputs": []
    },
    {
      "cell_type": "code",
      "source": [
        "obj=['source','financial_institution','origination_date','first_payment_date','loan_purpose']\n",
        "for i in obj:\n",
        "  df[i]=le.fit_transform(df[i])\n"
      ],
      "metadata": {
        "id": "TWEEla646nl1"
      },
      "execution_count": null,
      "outputs": []
    },
    {
      "cell_type": "markdown",
      "source": [
        "**STANDARDISATION**"
      ],
      "metadata": {
        "id": "XB0PSqU90GUt"
      }
    },
    {
      "cell_type": "code",
      "source": [
        "from sklearn.preprocessing import StandardScaler"
      ],
      "metadata": {
        "id": "FARwMyXbis5O"
      },
      "execution_count": null,
      "outputs": []
    },
    {
      "cell_type": "code",
      "source": [
        "y=df['m13']\n",
        "x=df.drop(\"m13\",axis=1)"
      ],
      "metadata": {
        "id": "Ke9UUvZF2V9X"
      },
      "execution_count": null,
      "outputs": []
    },
    {
      "cell_type": "code",
      "source": [
        "x.describe()"
      ],
      "metadata": {
        "colab": {
          "base_uri": "https://localhost:8080/",
          "height": 393
        },
        "id": "t45I3Ww8Aw3l",
        "outputId": "d4247373-9b9b-4a19-c1df-68d066cb4e34"
      },
      "execution_count": null,
      "outputs": [
        {
          "output_type": "execute_result",
          "data": {
            "text/plain": [
              "            loan_id         source  financial_institution  interest_rate  \\\n",
              "count  1.092710e+05  109271.000000          109271.000000  109271.000000   \n",
              "mean   5.492863e+11       0.575963               6.516862       3.868432   \n",
              "std    2.598224e+11       0.704580               4.452742       0.460911   \n",
              "min    1.000009e+11       0.000000               0.000000       2.375000   \n",
              "25%    3.242064e+11       0.000000               1.000000       3.500000   \n",
              "50%    5.485271e+11       0.000000               8.000000       3.875000   \n",
              "75%    7.741257e+11       1.000000               8.000000       4.125000   \n",
              "max    9.999971e+11       2.000000              18.000000       6.750000   \n",
              "\n",
              "       unpaid_principal_bal      loan_term  origination_date  \\\n",
              "count          1.092710e+05  109271.000000     109271.000000   \n",
              "mean           2.082224e+05     292.106936          0.702684   \n",
              "std            1.147372e+05      89.802255          0.678965   \n",
              "min            1.100000e+04      60.000000          0.000000   \n",
              "25%            1.200000e+05     180.000000          0.000000   \n",
              "50%            1.820000e+05     360.000000          1.000000   \n",
              "75%            2.790000e+05     360.000000          1.000000   \n",
              "max            1.200000e+06     360.000000          2.000000   \n",
              "\n",
              "       first_payment_date  loan_to_value  number_of_borrowers  ...  \\\n",
              "count       109271.000000  109271.000000        109271.000000  ...   \n",
              "mean             1.709154      68.125889             1.592563  ...   \n",
              "std              0.688434      16.349976             0.491360  ...   \n",
              "min              0.000000      23.000000             1.000000  ...   \n",
              "25%              1.000000      58.000000             1.000000  ...   \n",
              "50%              2.000000      72.000000             2.000000  ...   \n",
              "75%              2.000000      80.000000             2.000000  ...   \n",
              "max              3.000000      97.000000             2.000000  ...   \n",
              "\n",
              "                  m3             m4             m5             m6  \\\n",
              "count  109271.000000  109271.000000  109271.000000  109271.000000   \n",
              "mean        0.002004       0.002251       0.003597       0.003514   \n",
              "std         0.056317       0.063417       0.083704       0.088542   \n",
              "min         0.000000       0.000000       0.000000       0.000000   \n",
              "25%         0.000000       0.000000       0.000000       0.000000   \n",
              "50%         0.000000       0.000000       0.000000       0.000000   \n",
              "75%         0.000000       0.000000       0.000000       0.000000   \n",
              "max         5.000000       6.000000       7.000000       8.000000   \n",
              "\n",
              "                  m7            m8             m9            m10  \\\n",
              "count  109271.000000  109271.00000  109271.000000  109271.000000   \n",
              "mean        0.004274       0.00496       0.005509       0.006717   \n",
              "std         0.102455       0.11461       0.129860       0.150015   \n",
              "min         0.000000       0.00000       0.000000       0.000000   \n",
              "25%         0.000000       0.00000       0.000000       0.000000   \n",
              "50%         0.000000       0.00000       0.000000       0.000000   \n",
              "75%         0.000000       0.00000       0.000000       0.000000   \n",
              "max         9.000000      10.00000      11.000000      12.000000   \n",
              "\n",
              "                 m11            m12  \n",
              "count  109271.000000  109271.000000  \n",
              "mean        0.007376       0.008419  \n",
              "std         0.166083       0.183173  \n",
              "min         0.000000       0.000000  \n",
              "25%         0.000000       0.000000  \n",
              "50%         0.000000       0.000000  \n",
              "75%         0.000000       0.000000  \n",
              "max        13.000000      14.000000  \n",
              "\n",
              "[8 rows x 28 columns]"
            ],
            "text/html": [
              "\n",
              "  <div id=\"df-896c05d0-b5ca-43c6-ad90-e9b18714e4d8\">\n",
              "    <div class=\"colab-df-container\">\n",
              "      <div>\n",
              "<style scoped>\n",
              "    .dataframe tbody tr th:only-of-type {\n",
              "        vertical-align: middle;\n",
              "    }\n",
              "\n",
              "    .dataframe tbody tr th {\n",
              "        vertical-align: top;\n",
              "    }\n",
              "\n",
              "    .dataframe thead th {\n",
              "        text-align: right;\n",
              "    }\n",
              "</style>\n",
              "<table border=\"1\" class=\"dataframe\">\n",
              "  <thead>\n",
              "    <tr style=\"text-align: right;\">\n",
              "      <th></th>\n",
              "      <th>loan_id</th>\n",
              "      <th>source</th>\n",
              "      <th>financial_institution</th>\n",
              "      <th>interest_rate</th>\n",
              "      <th>unpaid_principal_bal</th>\n",
              "      <th>loan_term</th>\n",
              "      <th>origination_date</th>\n",
              "      <th>first_payment_date</th>\n",
              "      <th>loan_to_value</th>\n",
              "      <th>number_of_borrowers</th>\n",
              "      <th>...</th>\n",
              "      <th>m3</th>\n",
              "      <th>m4</th>\n",
              "      <th>m5</th>\n",
              "      <th>m6</th>\n",
              "      <th>m7</th>\n",
              "      <th>m8</th>\n",
              "      <th>m9</th>\n",
              "      <th>m10</th>\n",
              "      <th>m11</th>\n",
              "      <th>m12</th>\n",
              "    </tr>\n",
              "  </thead>\n",
              "  <tbody>\n",
              "    <tr>\n",
              "      <th>count</th>\n",
              "      <td>1.092710e+05</td>\n",
              "      <td>109271.000000</td>\n",
              "      <td>109271.000000</td>\n",
              "      <td>109271.000000</td>\n",
              "      <td>1.092710e+05</td>\n",
              "      <td>109271.000000</td>\n",
              "      <td>109271.000000</td>\n",
              "      <td>109271.000000</td>\n",
              "      <td>109271.000000</td>\n",
              "      <td>109271.000000</td>\n",
              "      <td>...</td>\n",
              "      <td>109271.000000</td>\n",
              "      <td>109271.000000</td>\n",
              "      <td>109271.000000</td>\n",
              "      <td>109271.000000</td>\n",
              "      <td>109271.000000</td>\n",
              "      <td>109271.00000</td>\n",
              "      <td>109271.000000</td>\n",
              "      <td>109271.000000</td>\n",
              "      <td>109271.000000</td>\n",
              "      <td>109271.000000</td>\n",
              "    </tr>\n",
              "    <tr>\n",
              "      <th>mean</th>\n",
              "      <td>5.492863e+11</td>\n",
              "      <td>0.575963</td>\n",
              "      <td>6.516862</td>\n",
              "      <td>3.868432</td>\n",
              "      <td>2.082224e+05</td>\n",
              "      <td>292.106936</td>\n",
              "      <td>0.702684</td>\n",
              "      <td>1.709154</td>\n",
              "      <td>68.125889</td>\n",
              "      <td>1.592563</td>\n",
              "      <td>...</td>\n",
              "      <td>0.002004</td>\n",
              "      <td>0.002251</td>\n",
              "      <td>0.003597</td>\n",
              "      <td>0.003514</td>\n",
              "      <td>0.004274</td>\n",
              "      <td>0.00496</td>\n",
              "      <td>0.005509</td>\n",
              "      <td>0.006717</td>\n",
              "      <td>0.007376</td>\n",
              "      <td>0.008419</td>\n",
              "    </tr>\n",
              "    <tr>\n",
              "      <th>std</th>\n",
              "      <td>2.598224e+11</td>\n",
              "      <td>0.704580</td>\n",
              "      <td>4.452742</td>\n",
              "      <td>0.460911</td>\n",
              "      <td>1.147372e+05</td>\n",
              "      <td>89.802255</td>\n",
              "      <td>0.678965</td>\n",
              "      <td>0.688434</td>\n",
              "      <td>16.349976</td>\n",
              "      <td>0.491360</td>\n",
              "      <td>...</td>\n",
              "      <td>0.056317</td>\n",
              "      <td>0.063417</td>\n",
              "      <td>0.083704</td>\n",
              "      <td>0.088542</td>\n",
              "      <td>0.102455</td>\n",
              "      <td>0.11461</td>\n",
              "      <td>0.129860</td>\n",
              "      <td>0.150015</td>\n",
              "      <td>0.166083</td>\n",
              "      <td>0.183173</td>\n",
              "    </tr>\n",
              "    <tr>\n",
              "      <th>min</th>\n",
              "      <td>1.000009e+11</td>\n",
              "      <td>0.000000</td>\n",
              "      <td>0.000000</td>\n",
              "      <td>2.375000</td>\n",
              "      <td>1.100000e+04</td>\n",
              "      <td>60.000000</td>\n",
              "      <td>0.000000</td>\n",
              "      <td>0.000000</td>\n",
              "      <td>23.000000</td>\n",
              "      <td>1.000000</td>\n",
              "      <td>...</td>\n",
              "      <td>0.000000</td>\n",
              "      <td>0.000000</td>\n",
              "      <td>0.000000</td>\n",
              "      <td>0.000000</td>\n",
              "      <td>0.000000</td>\n",
              "      <td>0.00000</td>\n",
              "      <td>0.000000</td>\n",
              "      <td>0.000000</td>\n",
              "      <td>0.000000</td>\n",
              "      <td>0.000000</td>\n",
              "    </tr>\n",
              "    <tr>\n",
              "      <th>25%</th>\n",
              "      <td>3.242064e+11</td>\n",
              "      <td>0.000000</td>\n",
              "      <td>1.000000</td>\n",
              "      <td>3.500000</td>\n",
              "      <td>1.200000e+05</td>\n",
              "      <td>180.000000</td>\n",
              "      <td>0.000000</td>\n",
              "      <td>1.000000</td>\n",
              "      <td>58.000000</td>\n",
              "      <td>1.000000</td>\n",
              "      <td>...</td>\n",
              "      <td>0.000000</td>\n",
              "      <td>0.000000</td>\n",
              "      <td>0.000000</td>\n",
              "      <td>0.000000</td>\n",
              "      <td>0.000000</td>\n",
              "      <td>0.00000</td>\n",
              "      <td>0.000000</td>\n",
              "      <td>0.000000</td>\n",
              "      <td>0.000000</td>\n",
              "      <td>0.000000</td>\n",
              "    </tr>\n",
              "    <tr>\n",
              "      <th>50%</th>\n",
              "      <td>5.485271e+11</td>\n",
              "      <td>0.000000</td>\n",
              "      <td>8.000000</td>\n",
              "      <td>3.875000</td>\n",
              "      <td>1.820000e+05</td>\n",
              "      <td>360.000000</td>\n",
              "      <td>1.000000</td>\n",
              "      <td>2.000000</td>\n",
              "      <td>72.000000</td>\n",
              "      <td>2.000000</td>\n",
              "      <td>...</td>\n",
              "      <td>0.000000</td>\n",
              "      <td>0.000000</td>\n",
              "      <td>0.000000</td>\n",
              "      <td>0.000000</td>\n",
              "      <td>0.000000</td>\n",
              "      <td>0.00000</td>\n",
              "      <td>0.000000</td>\n",
              "      <td>0.000000</td>\n",
              "      <td>0.000000</td>\n",
              "      <td>0.000000</td>\n",
              "    </tr>\n",
              "    <tr>\n",
              "      <th>75%</th>\n",
              "      <td>7.741257e+11</td>\n",
              "      <td>1.000000</td>\n",
              "      <td>8.000000</td>\n",
              "      <td>4.125000</td>\n",
              "      <td>2.790000e+05</td>\n",
              "      <td>360.000000</td>\n",
              "      <td>1.000000</td>\n",
              "      <td>2.000000</td>\n",
              "      <td>80.000000</td>\n",
              "      <td>2.000000</td>\n",
              "      <td>...</td>\n",
              "      <td>0.000000</td>\n",
              "      <td>0.000000</td>\n",
              "      <td>0.000000</td>\n",
              "      <td>0.000000</td>\n",
              "      <td>0.000000</td>\n",
              "      <td>0.00000</td>\n",
              "      <td>0.000000</td>\n",
              "      <td>0.000000</td>\n",
              "      <td>0.000000</td>\n",
              "      <td>0.000000</td>\n",
              "    </tr>\n",
              "    <tr>\n",
              "      <th>max</th>\n",
              "      <td>9.999971e+11</td>\n",
              "      <td>2.000000</td>\n",
              "      <td>18.000000</td>\n",
              "      <td>6.750000</td>\n",
              "      <td>1.200000e+06</td>\n",
              "      <td>360.000000</td>\n",
              "      <td>2.000000</td>\n",
              "      <td>3.000000</td>\n",
              "      <td>97.000000</td>\n",
              "      <td>2.000000</td>\n",
              "      <td>...</td>\n",
              "      <td>5.000000</td>\n",
              "      <td>6.000000</td>\n",
              "      <td>7.000000</td>\n",
              "      <td>8.000000</td>\n",
              "      <td>9.000000</td>\n",
              "      <td>10.00000</td>\n",
              "      <td>11.000000</td>\n",
              "      <td>12.000000</td>\n",
              "      <td>13.000000</td>\n",
              "      <td>14.000000</td>\n",
              "    </tr>\n",
              "  </tbody>\n",
              "</table>\n",
              "<p>8 rows × 28 columns</p>\n",
              "</div>\n",
              "      <button class=\"colab-df-convert\" onclick=\"convertToInteractive('df-896c05d0-b5ca-43c6-ad90-e9b18714e4d8')\"\n",
              "              title=\"Convert this dataframe to an interactive table.\"\n",
              "              style=\"display:none;\">\n",
              "        \n",
              "  <svg xmlns=\"http://www.w3.org/2000/svg\" height=\"24px\"viewBox=\"0 0 24 24\"\n",
              "       width=\"24px\">\n",
              "    <path d=\"M0 0h24v24H0V0z\" fill=\"none\"/>\n",
              "    <path d=\"M18.56 5.44l.94 2.06.94-2.06 2.06-.94-2.06-.94-.94-2.06-.94 2.06-2.06.94zm-11 1L8.5 8.5l.94-2.06 2.06-.94-2.06-.94L8.5 2.5l-.94 2.06-2.06.94zm10 10l.94 2.06.94-2.06 2.06-.94-2.06-.94-.94-2.06-.94 2.06-2.06.94z\"/><path d=\"M17.41 7.96l-1.37-1.37c-.4-.4-.92-.59-1.43-.59-.52 0-1.04.2-1.43.59L10.3 9.45l-7.72 7.72c-.78.78-.78 2.05 0 2.83L4 21.41c.39.39.9.59 1.41.59.51 0 1.02-.2 1.41-.59l7.78-7.78 2.81-2.81c.8-.78.8-2.07 0-2.86zM5.41 20L4 18.59l7.72-7.72 1.47 1.35L5.41 20z\"/>\n",
              "  </svg>\n",
              "      </button>\n",
              "      \n",
              "  <style>\n",
              "    .colab-df-container {\n",
              "      display:flex;\n",
              "      flex-wrap:wrap;\n",
              "      gap: 12px;\n",
              "    }\n",
              "\n",
              "    .colab-df-convert {\n",
              "      background-color: #E8F0FE;\n",
              "      border: none;\n",
              "      border-radius: 50%;\n",
              "      cursor: pointer;\n",
              "      display: none;\n",
              "      fill: #1967D2;\n",
              "      height: 32px;\n",
              "      padding: 0 0 0 0;\n",
              "      width: 32px;\n",
              "    }\n",
              "\n",
              "    .colab-df-convert:hover {\n",
              "      background-color: #E2EBFA;\n",
              "      box-shadow: 0px 1px 2px rgba(60, 64, 67, 0.3), 0px 1px 3px 1px rgba(60, 64, 67, 0.15);\n",
              "      fill: #174EA6;\n",
              "    }\n",
              "\n",
              "    [theme=dark] .colab-df-convert {\n",
              "      background-color: #3B4455;\n",
              "      fill: #D2E3FC;\n",
              "    }\n",
              "\n",
              "    [theme=dark] .colab-df-convert:hover {\n",
              "      background-color: #434B5C;\n",
              "      box-shadow: 0px 1px 3px 1px rgba(0, 0, 0, 0.15);\n",
              "      filter: drop-shadow(0px 1px 2px rgba(0, 0, 0, 0.3));\n",
              "      fill: #FFFFFF;\n",
              "    }\n",
              "  </style>\n",
              "\n",
              "      <script>\n",
              "        const buttonEl =\n",
              "          document.querySelector('#df-896c05d0-b5ca-43c6-ad90-e9b18714e4d8 button.colab-df-convert');\n",
              "        buttonEl.style.display =\n",
              "          google.colab.kernel.accessAllowed ? 'block' : 'none';\n",
              "\n",
              "        async function convertToInteractive(key) {\n",
              "          const element = document.querySelector('#df-896c05d0-b5ca-43c6-ad90-e9b18714e4d8');\n",
              "          const dataTable =\n",
              "            await google.colab.kernel.invokeFunction('convertToInteractive',\n",
              "                                                     [key], {});\n",
              "          if (!dataTable) return;\n",
              "\n",
              "          const docLinkHtml = 'Like what you see? Visit the ' +\n",
              "            '<a target=\"_blank\" href=https://colab.research.google.com/notebooks/data_table.ipynb>data table notebook</a>'\n",
              "            + ' to learn more about interactive tables.';\n",
              "          element.innerHTML = '';\n",
              "          dataTable['output_type'] = 'display_data';\n",
              "          await google.colab.output.renderOutput(dataTable, element);\n",
              "          const docLink = document.createElement('div');\n",
              "          docLink.innerHTML = docLinkHtml;\n",
              "          element.appendChild(docLink);\n",
              "        }\n",
              "      </script>\n",
              "    </div>\n",
              "  </div>\n",
              "  "
            ]
          },
          "metadata": {},
          "execution_count": 65
        }
      ]
    },
    {
      "cell_type": "code",
      "source": [
        "standardisation=StandardScaler()\n",
        "x=standardisation.fit_transform(x)"
      ],
      "metadata": {
        "id": "XA-_vybo1m4T"
      },
      "execution_count": null,
      "outputs": []
    },
    {
      "cell_type": "code",
      "source": [
        "x=pd.DataFrame(x)\n"
      ],
      "metadata": {
        "id": "Hf5Wqq-A3wDj"
      },
      "execution_count": null,
      "outputs": []
    },
    {
      "cell_type": "code",
      "source": [
        "x.describe()"
      ],
      "metadata": {
        "colab": {
          "base_uri": "https://localhost:8080/",
          "height": 480
        },
        "id": "_Bv_3Lb4AytQ",
        "outputId": "60f9f874-7ac2-44bb-af7a-98ff956a3b83"
      },
      "execution_count": null,
      "outputs": [
        {
          "output_type": "execute_result",
          "data": {
            "text/plain": [
              "                 0             1             2             3             4   \\\n",
              "count  1.092710e+05  1.092710e+05  1.092710e+05  1.092710e+05  1.092710e+05   \n",
              "mean  -1.422763e-16  4.493278e-17 -2.692066e-17  4.182455e-16 -7.764073e-17   \n",
              "std    1.000005e+00  1.000005e+00  1.000005e+00  1.000005e+00  1.000005e+00   \n",
              "min   -1.729210e+00 -8.174589e-01 -1.463568e+00 -3.240191e+00 -1.718914e+00   \n",
              "25%   -8.662875e-01 -8.174589e-01 -1.238986e+00 -7.993607e-01 -7.689125e-01   \n",
              "50%   -2.921795e-03 -8.174589e-01  3.330858e-01  1.424954e-02 -2.285446e-01   \n",
              "75%    8.653621e-01  6.018329e-01  3.330858e-01  5.566563e-01  6.168698e-01   \n",
              "max    1.734696e+00  2.021125e+00  2.578903e+00  6.251928e+00  8.643948e+00   \n",
              "\n",
              "                 5             6             7             8             9   \\\n",
              "count  1.092710e+05  1.092710e+05  1.092710e+05  1.092710e+05  1.092710e+05   \n",
              "mean  -3.123836e-16 -1.183468e-17 -9.883912e-18 -4.108164e-16 -2.958671e-17   \n",
              "std    1.000005e+00  1.000005e+00  1.000005e+00  1.000005e+00  1.000005e+00   \n",
              "min   -2.584657e+00 -1.034939e+00 -2.482680e+00 -2.760010e+00 -1.205973e+00   \n",
              "25%   -1.248381e+00 -1.034939e+00 -1.030102e+00 -6.193242e-01 -1.205973e+00   \n",
              "50%    7.560320e-01  4.378975e-01  4.224760e-01  2.369501e-01  8.292063e-01   \n",
              "75%    7.560320e-01  4.378975e-01  4.224760e-01  7.262497e-01  8.292063e-01   \n",
              "max    7.560320e-01  1.910734e+00  1.875054e+00  1.766011e+00  8.292063e-01   \n",
              "\n",
              "       ...            18            19            20            21  \\\n",
              "count  ...  1.092710e+05  1.092710e+05  1.092710e+05  1.092710e+05   \n",
              "mean   ... -8.729705e-18  1.131448e-17  4.681853e-18  7.933140e-18   \n",
              "std    ...  1.000005e+00  1.000005e+00  1.000005e+00  1.000005e+00   \n",
              "min    ... -3.558785e-02 -3.550012e-02 -4.296778e-02 -3.968962e-02   \n",
              "25%    ... -3.558785e-02 -3.550012e-02 -4.296778e-02 -3.968962e-02   \n",
              "50%    ... -3.558785e-02 -3.550012e-02 -4.296778e-02 -3.968962e-02   \n",
              "75%    ... -3.558785e-02 -3.550012e-02 -4.296778e-02 -3.968962e-02   \n",
              "max    ...  8.874797e+01  9.457751e+01  8.358535e+01  9.031290e+01   \n",
              "\n",
              "                 22            23            24            25            26  \\\n",
              "count  1.092710e+05  1.092710e+05  1.092710e+05  1.092710e+05  1.092710e+05   \n",
              "mean  -1.105438e-18 -1.333028e-18  3.901544e-19  1.560618e-18  1.716679e-17   \n",
              "std    1.000005e+00  1.000005e+00  1.000005e+00  1.000005e+00  1.000005e+00   \n",
              "min   -4.171401e-02 -4.327865e-02 -4.242469e-02 -4.477733e-02 -4.441268e-02   \n",
              "25%   -4.171401e-02 -4.327865e-02 -4.242469e-02 -4.477733e-02 -4.441268e-02   \n",
              "50%   -4.171401e-02 -4.327865e-02 -4.242469e-02 -4.477733e-02 -4.441268e-02   \n",
              "75%   -4.171401e-02 -4.327865e-02 -4.242469e-02 -4.477733e-02 -4.441268e-02   \n",
              "max    8.780236e+01  8.720952e+01  8.466467e+01  7.994754e+01  7.823008e+01   \n",
              "\n",
              "                 27  \n",
              "count  1.092710e+05  \n",
              "mean  -7.803088e-18  \n",
              "std    1.000005e+00  \n",
              "min   -4.596466e-02  \n",
              "25%   -4.596466e-02  \n",
              "50%   -4.596466e-02  \n",
              "75%   -4.596466e-02  \n",
              "max    7.638498e+01  \n",
              "\n",
              "[8 rows x 28 columns]"
            ],
            "text/html": [
              "\n",
              "  <div id=\"df-dc0ddb73-1633-41b0-9558-aa7a7b77980a\">\n",
              "    <div class=\"colab-df-container\">\n",
              "      <div>\n",
              "<style scoped>\n",
              "    .dataframe tbody tr th:only-of-type {\n",
              "        vertical-align: middle;\n",
              "    }\n",
              "\n",
              "    .dataframe tbody tr th {\n",
              "        vertical-align: top;\n",
              "    }\n",
              "\n",
              "    .dataframe thead th {\n",
              "        text-align: right;\n",
              "    }\n",
              "</style>\n",
              "<table border=\"1\" class=\"dataframe\">\n",
              "  <thead>\n",
              "    <tr style=\"text-align: right;\">\n",
              "      <th></th>\n",
              "      <th>0</th>\n",
              "      <th>1</th>\n",
              "      <th>2</th>\n",
              "      <th>3</th>\n",
              "      <th>4</th>\n",
              "      <th>5</th>\n",
              "      <th>6</th>\n",
              "      <th>7</th>\n",
              "      <th>8</th>\n",
              "      <th>9</th>\n",
              "      <th>...</th>\n",
              "      <th>18</th>\n",
              "      <th>19</th>\n",
              "      <th>20</th>\n",
              "      <th>21</th>\n",
              "      <th>22</th>\n",
              "      <th>23</th>\n",
              "      <th>24</th>\n",
              "      <th>25</th>\n",
              "      <th>26</th>\n",
              "      <th>27</th>\n",
              "    </tr>\n",
              "  </thead>\n",
              "  <tbody>\n",
              "    <tr>\n",
              "      <th>count</th>\n",
              "      <td>1.092710e+05</td>\n",
              "      <td>1.092710e+05</td>\n",
              "      <td>1.092710e+05</td>\n",
              "      <td>1.092710e+05</td>\n",
              "      <td>1.092710e+05</td>\n",
              "      <td>1.092710e+05</td>\n",
              "      <td>1.092710e+05</td>\n",
              "      <td>1.092710e+05</td>\n",
              "      <td>1.092710e+05</td>\n",
              "      <td>1.092710e+05</td>\n",
              "      <td>...</td>\n",
              "      <td>1.092710e+05</td>\n",
              "      <td>1.092710e+05</td>\n",
              "      <td>1.092710e+05</td>\n",
              "      <td>1.092710e+05</td>\n",
              "      <td>1.092710e+05</td>\n",
              "      <td>1.092710e+05</td>\n",
              "      <td>1.092710e+05</td>\n",
              "      <td>1.092710e+05</td>\n",
              "      <td>1.092710e+05</td>\n",
              "      <td>1.092710e+05</td>\n",
              "    </tr>\n",
              "    <tr>\n",
              "      <th>mean</th>\n",
              "      <td>-1.422763e-16</td>\n",
              "      <td>4.493278e-17</td>\n",
              "      <td>-2.692066e-17</td>\n",
              "      <td>4.182455e-16</td>\n",
              "      <td>-7.764073e-17</td>\n",
              "      <td>-3.123836e-16</td>\n",
              "      <td>-1.183468e-17</td>\n",
              "      <td>-9.883912e-18</td>\n",
              "      <td>-4.108164e-16</td>\n",
              "      <td>-2.958671e-17</td>\n",
              "      <td>...</td>\n",
              "      <td>-8.729705e-18</td>\n",
              "      <td>1.131448e-17</td>\n",
              "      <td>4.681853e-18</td>\n",
              "      <td>7.933140e-18</td>\n",
              "      <td>-1.105438e-18</td>\n",
              "      <td>-1.333028e-18</td>\n",
              "      <td>3.901544e-19</td>\n",
              "      <td>1.560618e-18</td>\n",
              "      <td>1.716679e-17</td>\n",
              "      <td>-7.803088e-18</td>\n",
              "    </tr>\n",
              "    <tr>\n",
              "      <th>std</th>\n",
              "      <td>1.000005e+00</td>\n",
              "      <td>1.000005e+00</td>\n",
              "      <td>1.000005e+00</td>\n",
              "      <td>1.000005e+00</td>\n",
              "      <td>1.000005e+00</td>\n",
              "      <td>1.000005e+00</td>\n",
              "      <td>1.000005e+00</td>\n",
              "      <td>1.000005e+00</td>\n",
              "      <td>1.000005e+00</td>\n",
              "      <td>1.000005e+00</td>\n",
              "      <td>...</td>\n",
              "      <td>1.000005e+00</td>\n",
              "      <td>1.000005e+00</td>\n",
              "      <td>1.000005e+00</td>\n",
              "      <td>1.000005e+00</td>\n",
              "      <td>1.000005e+00</td>\n",
              "      <td>1.000005e+00</td>\n",
              "      <td>1.000005e+00</td>\n",
              "      <td>1.000005e+00</td>\n",
              "      <td>1.000005e+00</td>\n",
              "      <td>1.000005e+00</td>\n",
              "    </tr>\n",
              "    <tr>\n",
              "      <th>min</th>\n",
              "      <td>-1.729210e+00</td>\n",
              "      <td>-8.174589e-01</td>\n",
              "      <td>-1.463568e+00</td>\n",
              "      <td>-3.240191e+00</td>\n",
              "      <td>-1.718914e+00</td>\n",
              "      <td>-2.584657e+00</td>\n",
              "      <td>-1.034939e+00</td>\n",
              "      <td>-2.482680e+00</td>\n",
              "      <td>-2.760010e+00</td>\n",
              "      <td>-1.205973e+00</td>\n",
              "      <td>...</td>\n",
              "      <td>-3.558785e-02</td>\n",
              "      <td>-3.550012e-02</td>\n",
              "      <td>-4.296778e-02</td>\n",
              "      <td>-3.968962e-02</td>\n",
              "      <td>-4.171401e-02</td>\n",
              "      <td>-4.327865e-02</td>\n",
              "      <td>-4.242469e-02</td>\n",
              "      <td>-4.477733e-02</td>\n",
              "      <td>-4.441268e-02</td>\n",
              "      <td>-4.596466e-02</td>\n",
              "    </tr>\n",
              "    <tr>\n",
              "      <th>25%</th>\n",
              "      <td>-8.662875e-01</td>\n",
              "      <td>-8.174589e-01</td>\n",
              "      <td>-1.238986e+00</td>\n",
              "      <td>-7.993607e-01</td>\n",
              "      <td>-7.689125e-01</td>\n",
              "      <td>-1.248381e+00</td>\n",
              "      <td>-1.034939e+00</td>\n",
              "      <td>-1.030102e+00</td>\n",
              "      <td>-6.193242e-01</td>\n",
              "      <td>-1.205973e+00</td>\n",
              "      <td>...</td>\n",
              "      <td>-3.558785e-02</td>\n",
              "      <td>-3.550012e-02</td>\n",
              "      <td>-4.296778e-02</td>\n",
              "      <td>-3.968962e-02</td>\n",
              "      <td>-4.171401e-02</td>\n",
              "      <td>-4.327865e-02</td>\n",
              "      <td>-4.242469e-02</td>\n",
              "      <td>-4.477733e-02</td>\n",
              "      <td>-4.441268e-02</td>\n",
              "      <td>-4.596466e-02</td>\n",
              "    </tr>\n",
              "    <tr>\n",
              "      <th>50%</th>\n",
              "      <td>-2.921795e-03</td>\n",
              "      <td>-8.174589e-01</td>\n",
              "      <td>3.330858e-01</td>\n",
              "      <td>1.424954e-02</td>\n",
              "      <td>-2.285446e-01</td>\n",
              "      <td>7.560320e-01</td>\n",
              "      <td>4.378975e-01</td>\n",
              "      <td>4.224760e-01</td>\n",
              "      <td>2.369501e-01</td>\n",
              "      <td>8.292063e-01</td>\n",
              "      <td>...</td>\n",
              "      <td>-3.558785e-02</td>\n",
              "      <td>-3.550012e-02</td>\n",
              "      <td>-4.296778e-02</td>\n",
              "      <td>-3.968962e-02</td>\n",
              "      <td>-4.171401e-02</td>\n",
              "      <td>-4.327865e-02</td>\n",
              "      <td>-4.242469e-02</td>\n",
              "      <td>-4.477733e-02</td>\n",
              "      <td>-4.441268e-02</td>\n",
              "      <td>-4.596466e-02</td>\n",
              "    </tr>\n",
              "    <tr>\n",
              "      <th>75%</th>\n",
              "      <td>8.653621e-01</td>\n",
              "      <td>6.018329e-01</td>\n",
              "      <td>3.330858e-01</td>\n",
              "      <td>5.566563e-01</td>\n",
              "      <td>6.168698e-01</td>\n",
              "      <td>7.560320e-01</td>\n",
              "      <td>4.378975e-01</td>\n",
              "      <td>4.224760e-01</td>\n",
              "      <td>7.262497e-01</td>\n",
              "      <td>8.292063e-01</td>\n",
              "      <td>...</td>\n",
              "      <td>-3.558785e-02</td>\n",
              "      <td>-3.550012e-02</td>\n",
              "      <td>-4.296778e-02</td>\n",
              "      <td>-3.968962e-02</td>\n",
              "      <td>-4.171401e-02</td>\n",
              "      <td>-4.327865e-02</td>\n",
              "      <td>-4.242469e-02</td>\n",
              "      <td>-4.477733e-02</td>\n",
              "      <td>-4.441268e-02</td>\n",
              "      <td>-4.596466e-02</td>\n",
              "    </tr>\n",
              "    <tr>\n",
              "      <th>max</th>\n",
              "      <td>1.734696e+00</td>\n",
              "      <td>2.021125e+00</td>\n",
              "      <td>2.578903e+00</td>\n",
              "      <td>6.251928e+00</td>\n",
              "      <td>8.643948e+00</td>\n",
              "      <td>7.560320e-01</td>\n",
              "      <td>1.910734e+00</td>\n",
              "      <td>1.875054e+00</td>\n",
              "      <td>1.766011e+00</td>\n",
              "      <td>8.292063e-01</td>\n",
              "      <td>...</td>\n",
              "      <td>8.874797e+01</td>\n",
              "      <td>9.457751e+01</td>\n",
              "      <td>8.358535e+01</td>\n",
              "      <td>9.031290e+01</td>\n",
              "      <td>8.780236e+01</td>\n",
              "      <td>8.720952e+01</td>\n",
              "      <td>8.466467e+01</td>\n",
              "      <td>7.994754e+01</td>\n",
              "      <td>7.823008e+01</td>\n",
              "      <td>7.638498e+01</td>\n",
              "    </tr>\n",
              "  </tbody>\n",
              "</table>\n",
              "<p>8 rows × 28 columns</p>\n",
              "</div>\n",
              "      <button class=\"colab-df-convert\" onclick=\"convertToInteractive('df-dc0ddb73-1633-41b0-9558-aa7a7b77980a')\"\n",
              "              title=\"Convert this dataframe to an interactive table.\"\n",
              "              style=\"display:none;\">\n",
              "        \n",
              "  <svg xmlns=\"http://www.w3.org/2000/svg\" height=\"24px\"viewBox=\"0 0 24 24\"\n",
              "       width=\"24px\">\n",
              "    <path d=\"M0 0h24v24H0V0z\" fill=\"none\"/>\n",
              "    <path d=\"M18.56 5.44l.94 2.06.94-2.06 2.06-.94-2.06-.94-.94-2.06-.94 2.06-2.06.94zm-11 1L8.5 8.5l.94-2.06 2.06-.94-2.06-.94L8.5 2.5l-.94 2.06-2.06.94zm10 10l.94 2.06.94-2.06 2.06-.94-2.06-.94-.94-2.06-.94 2.06-2.06.94z\"/><path d=\"M17.41 7.96l-1.37-1.37c-.4-.4-.92-.59-1.43-.59-.52 0-1.04.2-1.43.59L10.3 9.45l-7.72 7.72c-.78.78-.78 2.05 0 2.83L4 21.41c.39.39.9.59 1.41.59.51 0 1.02-.2 1.41-.59l7.78-7.78 2.81-2.81c.8-.78.8-2.07 0-2.86zM5.41 20L4 18.59l7.72-7.72 1.47 1.35L5.41 20z\"/>\n",
              "  </svg>\n",
              "      </button>\n",
              "      \n",
              "  <style>\n",
              "    .colab-df-container {\n",
              "      display:flex;\n",
              "      flex-wrap:wrap;\n",
              "      gap: 12px;\n",
              "    }\n",
              "\n",
              "    .colab-df-convert {\n",
              "      background-color: #E8F0FE;\n",
              "      border: none;\n",
              "      border-radius: 50%;\n",
              "      cursor: pointer;\n",
              "      display: none;\n",
              "      fill: #1967D2;\n",
              "      height: 32px;\n",
              "      padding: 0 0 0 0;\n",
              "      width: 32px;\n",
              "    }\n",
              "\n",
              "    .colab-df-convert:hover {\n",
              "      background-color: #E2EBFA;\n",
              "      box-shadow: 0px 1px 2px rgba(60, 64, 67, 0.3), 0px 1px 3px 1px rgba(60, 64, 67, 0.15);\n",
              "      fill: #174EA6;\n",
              "    }\n",
              "\n",
              "    [theme=dark] .colab-df-convert {\n",
              "      background-color: #3B4455;\n",
              "      fill: #D2E3FC;\n",
              "    }\n",
              "\n",
              "    [theme=dark] .colab-df-convert:hover {\n",
              "      background-color: #434B5C;\n",
              "      box-shadow: 0px 1px 3px 1px rgba(0, 0, 0, 0.15);\n",
              "      filter: drop-shadow(0px 1px 2px rgba(0, 0, 0, 0.3));\n",
              "      fill: #FFFFFF;\n",
              "    }\n",
              "  </style>\n",
              "\n",
              "      <script>\n",
              "        const buttonEl =\n",
              "          document.querySelector('#df-dc0ddb73-1633-41b0-9558-aa7a7b77980a button.colab-df-convert');\n",
              "        buttonEl.style.display =\n",
              "          google.colab.kernel.accessAllowed ? 'block' : 'none';\n",
              "\n",
              "        async function convertToInteractive(key) {\n",
              "          const element = document.querySelector('#df-dc0ddb73-1633-41b0-9558-aa7a7b77980a');\n",
              "          const dataTable =\n",
              "            await google.colab.kernel.invokeFunction('convertToInteractive',\n",
              "                                                     [key], {});\n",
              "          if (!dataTable) return;\n",
              "\n",
              "          const docLinkHtml = 'Like what you see? Visit the ' +\n",
              "            '<a target=\"_blank\" href=https://colab.research.google.com/notebooks/data_table.ipynb>data table notebook</a>'\n",
              "            + ' to learn more about interactive tables.';\n",
              "          element.innerHTML = '';\n",
              "          dataTable['output_type'] = 'display_data';\n",
              "          await google.colab.output.renderOutput(dataTable, element);\n",
              "          const docLink = document.createElement('div');\n",
              "          docLink.innerHTML = docLinkHtml;\n",
              "          element.appendChild(docLink);\n",
              "        }\n",
              "      </script>\n",
              "    </div>\n",
              "  </div>\n",
              "  "
            ]
          },
          "metadata": {},
          "execution_count": 68
        }
      ]
    },
    {
      "cell_type": "markdown",
      "source": [
        "**Splitting data into train set and test tes**"
      ],
      "metadata": {
        "id": "E9n9eggUB1N3"
      }
    },
    {
      "cell_type": "code",
      "source": [
        "from sklearn.model_selection import train_test_split\n",
        "x_train,x_test,y_train,y_test=train_test_split(x,y,random_state=42,test_size=0.2)"
      ],
      "metadata": {
        "id": "Q56ZAOn7BgF1"
      },
      "execution_count": null,
      "outputs": []
    },
    {
      "cell_type": "code",
      "source": [
        "x_train.shape"
      ],
      "metadata": {
        "colab": {
          "base_uri": "https://localhost:8080/"
        },
        "id": "X0Jbj0O7Caua",
        "outputId": "7e1c19a0-4f17-45eb-ca43-59bfbb58bc62"
      },
      "execution_count": null,
      "outputs": [
        {
          "output_type": "execute_result",
          "data": {
            "text/plain": [
              "(87416, 28)"
            ]
          },
          "metadata": {},
          "execution_count": 72
        }
      ]
    },
    {
      "cell_type": "code",
      "source": [
        "x_test.shape"
      ],
      "metadata": {
        "colab": {
          "base_uri": "https://localhost:8080/"
        },
        "id": "4qtvOaQXDQ41",
        "outputId": "6e082f0a-efa7-4c32-87b1-47d8893c206f"
      },
      "execution_count": null,
      "outputs": [
        {
          "output_type": "execute_result",
          "data": {
            "text/plain": [
              "(21855, 28)"
            ]
          },
          "metadata": {},
          "execution_count": 73
        }
      ]
    },
    {
      "cell_type": "code",
      "source": [
        "y_train.shape"
      ],
      "metadata": {
        "colab": {
          "base_uri": "https://localhost:8080/"
        },
        "id": "64vCY6cPDUzq",
        "outputId": "f38a4c1f-d287-47d3-8002-3a4d8a57d292"
      },
      "execution_count": null,
      "outputs": [
        {
          "output_type": "execute_result",
          "data": {
            "text/plain": [
              "(87416,)"
            ]
          },
          "metadata": {},
          "execution_count": 74
        }
      ]
    },
    {
      "cell_type": "code",
      "source": [
        "y_test.shape"
      ],
      "metadata": {
        "colab": {
          "base_uri": "https://localhost:8080/"
        },
        "id": "U5hRmqEqDWxV",
        "outputId": "073ce9b2-9079-4d71-a6ce-55a7257153e8"
      },
      "execution_count": null,
      "outputs": [
        {
          "output_type": "execute_result",
          "data": {
            "text/plain": [
              "(21855,)"
            ]
          },
          "metadata": {},
          "execution_count": 75
        }
      ]
    },
    {
      "cell_type": "markdown",
      "source": [
        "**MODELLING**"
      ],
      "metadata": {
        "id": "BtdRK4_kDbwI"
      }
    },
    {
      "cell_type": "code",
      "source": [
        "from sklearn.linear_model import LogisticRegression\n",
        "from sklearn import linear_model\n",
        "from sklearn.metrics import confusion_matrix,classification_report,accuracy_score\n",
        "from sklearn.metrics import ConfusionMatrixDisplay"
      ],
      "metadata": {
        "id": "p6-I-T3pDZ9B"
      },
      "execution_count": null,
      "outputs": []
    },
    {
      "cell_type": "code",
      "source": [
        "#Logistic Regreesion\n",
        "\n",
        "lr=linear_model.LogisticRegression()\n",
        "model=lr.fit(x_train,y_train)\n",
        "predictions=model.predict(x_test)\n",
        "cm=confusion_matrix(y_test,predictions)\n",
        "disp=ConfusionMatrixDisplay(confusion_matrix=cm,)\n",
        "disp.plot()\n",
        "print(classification_report(y_test,predictions))"
      ],
      "metadata": {
        "colab": {
          "base_uri": "https://localhost:8080/",
          "height": 605
        },
        "id": "kUKwOaIiEZhO",
        "outputId": "321a214e-1ed8-49a7-b633-55c1ccb4dda6"
      },
      "execution_count": null,
      "outputs": [
        {
          "output_type": "stream",
          "name": "stdout",
          "text": [
            "              precision    recall  f1-score   support\n",
            "\n",
            "           0       1.00      1.00      1.00     21717\n",
            "           1       0.81      0.34      0.48       138\n",
            "\n",
            "    accuracy                           1.00     21855\n",
            "   macro avg       0.90      0.67      0.74     21855\n",
            "weighted avg       0.99      1.00      0.99     21855\n",
            "\n"
          ]
        },
        {
          "output_type": "display_data",
          "data": {
            "text/plain": [
              "<Figure size 640x480 with 2 Axes>"
            ],
            "image/png": "[encoded data removed]"
          },
          "metadata": {}
        }
      ]
    },
    {
      "cell_type": "code",
      "source": [
        "#KNN\n",
        "from sklearn.neighbors import KNeighborsClassifier\n",
        "\n"
      ],
      "metadata": {
        "id": "a0gxLzLSFFm2"
      },
      "execution_count": null,
      "outputs": []
    },
    {
      "cell_type": "code",
      "source": [
        "#Model fine tuning\n",
        "#Identfty the best values for n)neighbors\n",
        "\n",
        "acc_values=[]\n",
        "neighbors=np.arange(3,15)\n",
        "for k in neighbors:\n",
        "  kncdf=KNeighborsClassifier(n_neighbors=k,metric='minkowski')\n",
        "  model=kncdf.fit(x_train,y_train)\n",
        "  predictions=model.predict(x_test)\n",
        "  acc_values.append(accuracy_score(y_test,predictions))"
      ],
      "metadata": {
        "id": "s_u9rRlWFi4q"
      },
      "execution_count": null,
      "outputs": []
    },
    {
      "cell_type": "code",
      "source": [
        "acc_values"
      ],
      "metadata": {
        "colab": {
          "base_uri": "https://localhost:8080/"
        },
        "id": "Dhe1Y2gvGrnw",
        "outputId": "5cf40637-9587-4b5b-a4a4-fe7952c5ae81"
      },
      "execution_count": null,
      "outputs": [
        {
          "output_type": "execute_result",
          "data": {
            "text/plain": [
              "[0.9948753145733242,\n",
              " 0.9947838023335621,\n",
              " 0.9948295584534431,\n",
              " 0.9948295584534431,\n",
              " 0.9950125829329672,\n",
              " 0.9949210706932052,\n",
              " 0.9949210706932052,\n",
              " 0.9949668268130862,\n",
              " 0.9950583390528484,\n",
              " 0.9949668268130862,\n",
              " 0.9949210706932052,\n",
              " 0.9948753145733242]"
            ]
          },
          "metadata": {},
          "execution_count": 85
        }
      ]
    },
    {
      "cell_type": "code",
      "source": [
        "plt.plot(neighbors,acc_values,'o-')\n",
        "plt.xlabel(\"K-value\")\n",
        "plt.ylabel(\"Accuracy\")"
      ],
      "metadata": {
        "colab": {
          "base_uri": "https://localhost:8080/",
          "height": 466
        },
        "id": "61CAKrfOHZFi",
        "outputId": "971e5020-5b8a-450f-83e8-db2948f46f80"
      },
      "execution_count": null,
      "outputs": [
        {
          "output_type": "execute_result",
          "data": {
            "text/plain": [
              "Text(0, 0.5, 'Accuracy')"
            ]
          },
          "metadata": {},
          "execution_count": 86
        },
        {
          "output_type": "display_data",
          "data": {
            "text/plain": [
              "<Figure size 640x480 with 1 Axes>"
            ],
            "image/png": "[encoded data removed]"
          },
          "metadata": {}
        }
      ]
    },
    {
      "cell_type": "code",
      "source": [
        "kncdf=KNeighborsClassifier(leaf_size=1,n_neighbors=11,metric='minkowski',p=1)\n",
        "model=kncdf.fit(x_train,y_train)\n",
        "predictions=model.predict(x_test)\n",
        "cm=confusion_matrix(y_test,predictions)\n",
        "disp=ConfusionMatrixDisplay(confusion_matrix=cm,)\n",
        "disp.plot()\n",
        "print(classification_report(y_test,predictions))"
      ],
      "metadata": {
        "colab": {
          "base_uri": "https://localhost:8080/",
          "height": 605
        },
        "id": "mUNl-_4kHpZw",
        "outputId": "ad57b4ef-9802-48a6-cc56-7719a364e5a3"
      },
      "execution_count": null,
      "outputs": [
        {
          "output_type": "stream",
          "name": "stdout",
          "text": [
            "              precision    recall  f1-score   support\n",
            "\n",
            "           0       1.00      1.00      1.00     21717\n",
            "           1       0.78      0.30      0.44       138\n",
            "\n",
            "    accuracy                           1.00     21855\n",
            "   macro avg       0.89      0.65      0.72     21855\n",
            "weighted avg       0.99      1.00      0.99     21855\n",
            "\n"
          ]
        },
        {
          "output_type": "display_data",
          "data": {
            "text/plain": [
              "<Figure size 640x480 with 2 Axes>"
            ],
            "image/png": "[encoded data removed]"
          },
          "metadata": {}
        }
      ]
    },
    {
      "cell_type": "code",
      "source": [
        "#Decision Tree\n",
        "from sklearn.tree import DecisionTreeClassifier"
      ],
      "metadata": {
        "id": "6JNjxf-eIN__"
      },
      "execution_count": null,
      "outputs": []
    },
    {
      "cell_type": "code",
      "source": [
        "dt=DecisionTreeClassifier()\n",
        "dt.fit(x_train,y_train)\n",
        "predictions=dt.predict(x_test)\n",
        "cm=confusion_matrix(y_test,predictions)\n",
        "disp=ConfusionMatrixDisplay(confusion_matrix=cm,)\n",
        "disp.plot()\n",
        "print(classification_report(y_test,predictions))"
      ],
      "metadata": {
        "colab": {
          "base_uri": "https://localhost:8080/",
          "height": 605
        },
        "id": "sPXfgxowJS2h",
        "outputId": "aa438af6-8e07-46e6-d8fc-a44c00cec6b8"
      },
      "execution_count": null,
      "outputs": [
        {
          "output_type": "stream",
          "name": "stdout",
          "text": [
            "              precision    recall  f1-score   support\n",
            "\n",
            "           0       1.00      1.00      1.00     21728\n",
            "           1       0.31      0.36      0.33       127\n",
            "\n",
            "    accuracy                           0.99     21855\n",
            "   macro avg       0.65      0.68      0.66     21855\n",
            "weighted avg       0.99      0.99      0.99     21855\n",
            "\n"
          ]
        },
        {
          "output_type": "display_data",
          "data": {
            "text/plain": [
              "<Figure size 640x480 with 2 Axes>"
            ],
            "image/png": "[encoded data removed]"
          },
          "metadata": {}
        }
      ]
    },
    {
      "cell_type": "code",
      "source": [
        "#bagging classifier\n",
        "from sklearn.ensemble import BaggingClassifier\n",
        "dt=DecisionTreeClassifier()\n",
        "bg=BaggingClassifier(estimator=dt,n_estimators=50)\n",
        "bg=BaggingClassifier()\n",
        "bg.fit(x_train,y_train)\n",
        "predictions=bg.predict(x_test)"
      ],
      "metadata": {
        "id": "_TLQRnEbJjzs"
      },
      "execution_count": null,
      "outputs": []
    },
    {
      "cell_type": "code",
      "source": [
        "cm=confusion_matrix(y_test,predictions)\n",
        "disp=ConfusionMatrixDisplay(confusion_matrix=cm,)\n",
        "disp.plot()\n",
        "print(classification_report(y_test,predictions))"
      ],
      "metadata": {
        "colab": {
          "base_uri": "https://localhost:8080/",
          "height": 605
        },
        "id": "iQwlJQlWKxa1",
        "outputId": "1b41082a-d315-4448-eb22-f7c9632cacaa"
      },
      "execution_count": null,
      "outputs": [
        {
          "output_type": "stream",
          "name": "stdout",
          "text": [
            "              precision    recall  f1-score   support\n",
            "\n",
            "           0       1.00      1.00      1.00     21728\n",
            "           1       0.31      0.36      0.33       127\n",
            "\n",
            "    accuracy                           0.99     21855\n",
            "   macro avg       0.65      0.68      0.66     21855\n",
            "weighted avg       0.99      0.99      0.99     21855\n",
            "\n"
          ]
        },
        {
          "output_type": "display_data",
          "data": {
            "text/plain": [
              "<Figure size 640x480 with 2 Axes>"
            ],
            "image/png": "[encoded data removed]"
          },
          "metadata": {}
        }
      ]
    },
    {
      "cell_type": "code",
      "source": [
        "#voting classifier\n",
        "from sklearn.ensemble import VotingClassifier"
      ],
      "metadata": {
        "id": "1q0M2kESK7K7"
      },
      "execution_count": null,
      "outputs": []
    },
    {
      "cell_type": "code",
      "source": [
        "SEED=1"
      ],
      "metadata": {
        "id": "6ou8R2R2LxBy"
      },
      "execution_count": null,
      "outputs": []
    },
    {
      "cell_type": "code",
      "source": [
        "x_train,x_test,y_train,y_test=train_test_split(x,y,test_size=0.2, random_state=SEED,stratify=y)"
      ],
      "metadata": {
        "id": "OjCDdh2ALy9i"
      },
      "execution_count": null,
      "outputs": []
    },
    {
      "cell_type": "code",
      "source": [
        "lr=LogisticRegression(random_state=SEED)\n",
        "dt=DecisionTreeClassifier(random_state=SEED)\n",
        "knn=KNeighborsClassifier()"
      ],
      "metadata": {
        "id": "f_xPJmXaL3aH"
      },
      "execution_count": null,
      "outputs": []
    },
    {
      "cell_type": "code",
      "source": [
        "classifiers=[('Logistic Regression',lr),('K Nearest Neighbors',knn),('Classification Tree',dt)]"
      ],
      "metadata": {
        "id": "S-vqBbtWL5xp"
      },
      "execution_count": null,
      "outputs": []
    },
    {
      "cell_type": "code",
      "source": [
        "for i in classifiers:\n",
        "  cm=confusion_matrix(y_test,predictions)\n",
        "  disp=ConfusionMatrixDisplay(confusion_matrix=cm,)\n",
        "  disp.plot()\n",
        "  print(classification_report(y_test,predictions))"
      ],
      "metadata": {
        "colab": {
          "base_uri": "https://localhost:8080/",
          "height": 1000
        },
        "id": "mjRAiDDKL77N",
        "outputId": "b8c669fc-1c6c-4f6c-e8b9-55f717f33836"
      },
      "execution_count": null,
      "outputs": [
        {
          "output_type": "stream",
          "name": "stdout",
          "text": [
            "              precision    recall  f1-score   support\n",
            "\n",
            "           0       1.00      1.00      1.00     21728\n",
            "           1       0.31      0.36      0.33       127\n",
            "\n",
            "    accuracy                           0.99     21855\n",
            "   macro avg       0.65      0.68      0.66     21855\n",
            "weighted avg       0.99      0.99      0.99     21855\n",
            "\n",
            "              precision    recall  f1-score   support\n",
            "\n",
            "           0       1.00      1.00      1.00     21728\n",
            "           1       0.31      0.36      0.33       127\n",
            "\n",
            "    accuracy                           0.99     21855\n",
            "   macro avg       0.65      0.68      0.66     21855\n",
            "weighted avg       0.99      0.99      0.99     21855\n",
            "\n",
            "              precision    recall  f1-score   support\n",
            "\n",
            "           0       1.00      1.00      1.00     21728\n",
            "           1       0.31      0.36      0.33       127\n",
            "\n",
            "    accuracy                           0.99     21855\n",
            "   macro avg       0.65      0.68      0.66     21855\n",
            "weighted avg       0.99      0.99      0.99     21855\n",
            "\n"
          ]
        },
        {
          "output_type": "display_data",
          "data": {
            "text/plain": [
              "<Figure size 640x480 with 2 Axes>"
            ],
            "image/png": "[encoded data removed]"
          },
          "metadata": {}
        },
        {
          "output_type": "display_data",
          "data": {
            "text/plain": [
              "<Figure size 640x480 with 2 Axes>"
            ],
            "image/png": "[encoded data removed]"
          },
          "metadata": {}
        },
        {
          "output_type": "display_data",
          "data": {
            "text/plain": [
              "<Figure size 640x480 with 2 Axes>"
            ],
            "image/png": "[encoded data removed]"
          },
          "metadata": {}
        }
      ]
    },
    {
      "cell_type": "code",
      "source": [],
      "metadata": {
        "id": "LmK8oJY4L9u-"
      },
      "execution_count": null,
      "outputs": []
    }
  ]
}