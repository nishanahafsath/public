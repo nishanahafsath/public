{
 "cells": [
  {
   "cell_type": "markdown",
   "id": "4cf6b46a",
   "metadata": {},
   "source": [
    "**PROBLEM STATEMENT**\n",
    "\n",
    "Sales Prediction for Big Mart Outlets\n",
    "The data scientists at BigMart have collected 2013 sales data for 1559 products across 10 stores in different cities. Also, certain attributes of each product and store have been defined. The aim is to build a predictive model and predict the sales of each product at a particular outlet.\n",
    "Using this model, BigMart will try to understand the properties of products and outlets which play a key role in increasing sales."
   ]
  },
  {
   "cell_type": "code",
   "execution_count": 1,
   "id": "7b8fb31f",
   "metadata": {},
   "outputs": [],
   "source": [
    "#importing libraries\n",
    "import pandas as pd\n",
    "import numpy as np \n",
    "import seaborn as sns \n",
    "import matplotlib.pyplot as plt"
   ]
  },
  {
   "cell_type": "code",
   "execution_count": 2,
   "id": "f606f04d",
   "metadata": {},
   "outputs": [
    {
     "data": {
      "text/html": [
       "<div>\n",
       "<style scoped>\n",
       "    .dataframe tbody tr th:only-of-type {\n",
       "        vertical-align: middle;\n",
       "    }\n",
       "\n",
       "    .dataframe tbody tr th {\n",
       "        vertical-align: top;\n",
       "    }\n",
       "\n",
       "    .dataframe thead th {\n",
       "        text-align: right;\n",
       "    }\n",
       "</style>\n",
       "<table border=\"1\" class=\"dataframe\">\n",
       "  <thead>\n",
       "    <tr style=\"text-align: right;\">\n",
       "      <th></th>\n",
       "      <th>Item_Identifier</th>\n",
       "      <th>Item_Weight</th>\n",
       "      <th>Item_Fat_Content</th>\n",
       "      <th>Item_Visibility</th>\n",
       "      <th>Item_Type</th>\n",
       "      <th>Item_MRP</th>\n",
       "      <th>Outlet_Identifier</th>\n",
       "      <th>Outlet_Establishment_Year</th>\n",
       "      <th>Outlet_Size</th>\n",
       "      <th>Outlet_Location_Type</th>\n",
       "      <th>Outlet_Type</th>\n",
       "      <th>Item_Outlet_Sales</th>\n",
       "    </tr>\n",
       "  </thead>\n",
       "  <tbody>\n",
       "    <tr>\n",
       "      <th>0</th>\n",
       "      <td>FDA15</td>\n",
       "      <td>9.30</td>\n",
       "      <td>Low Fat</td>\n",
       "      <td>0.016047</td>\n",
       "      <td>Dairy</td>\n",
       "      <td>249.8092</td>\n",
       "      <td>OUT049</td>\n",
       "      <td>1999</td>\n",
       "      <td>Medium</td>\n",
       "      <td>Tier 1</td>\n",
       "      <td>Supermarket Type1</td>\n",
       "      <td>3735.1380</td>\n",
       "    </tr>\n",
       "    <tr>\n",
       "      <th>1</th>\n",
       "      <td>DRC01</td>\n",
       "      <td>5.92</td>\n",
       "      <td>Regular</td>\n",
       "      <td>0.019278</td>\n",
       "      <td>Soft Drinks</td>\n",
       "      <td>48.2692</td>\n",
       "      <td>OUT018</td>\n",
       "      <td>2009</td>\n",
       "      <td>Medium</td>\n",
       "      <td>Tier 3</td>\n",
       "      <td>Supermarket Type2</td>\n",
       "      <td>443.4228</td>\n",
       "    </tr>\n",
       "    <tr>\n",
       "      <th>2</th>\n",
       "      <td>FDN15</td>\n",
       "      <td>17.50</td>\n",
       "      <td>Low Fat</td>\n",
       "      <td>0.016760</td>\n",
       "      <td>Meat</td>\n",
       "      <td>141.6180</td>\n",
       "      <td>OUT049</td>\n",
       "      <td>1999</td>\n",
       "      <td>Medium</td>\n",
       "      <td>Tier 1</td>\n",
       "      <td>Supermarket Type1</td>\n",
       "      <td>2097.2700</td>\n",
       "    </tr>\n",
       "    <tr>\n",
       "      <th>3</th>\n",
       "      <td>FDX07</td>\n",
       "      <td>19.20</td>\n",
       "      <td>Regular</td>\n",
       "      <td>0.000000</td>\n",
       "      <td>Fruits and Vegetables</td>\n",
       "      <td>182.0950</td>\n",
       "      <td>OUT010</td>\n",
       "      <td>1998</td>\n",
       "      <td>NaN</td>\n",
       "      <td>Tier 3</td>\n",
       "      <td>Grocery Store</td>\n",
       "      <td>732.3800</td>\n",
       "    </tr>\n",
       "    <tr>\n",
       "      <th>4</th>\n",
       "      <td>NCD19</td>\n",
       "      <td>8.93</td>\n",
       "      <td>Low Fat</td>\n",
       "      <td>0.000000</td>\n",
       "      <td>Household</td>\n",
       "      <td>53.8614</td>\n",
       "      <td>OUT013</td>\n",
       "      <td>1987</td>\n",
       "      <td>High</td>\n",
       "      <td>Tier 3</td>\n",
       "      <td>Supermarket Type1</td>\n",
       "      <td>994.7052</td>\n",
       "    </tr>\n",
       "  </tbody>\n",
       "</table>\n",
       "</div>"
      ],
      "text/plain": [
       "  Item_Identifier  Item_Weight Item_Fat_Content  Item_Visibility  \\\n",
       "0           FDA15         9.30          Low Fat         0.016047   \n",
       "1           DRC01         5.92          Regular         0.019278   \n",
       "2           FDN15        17.50          Low Fat         0.016760   \n",
       "3           FDX07        19.20          Regular         0.000000   \n",
       "4           NCD19         8.93          Low Fat         0.000000   \n",
       "\n",
       "               Item_Type  Item_MRP Outlet_Identifier  \\\n",
       "0                  Dairy  249.8092            OUT049   \n",
       "1            Soft Drinks   48.2692            OUT018   \n",
       "2                   Meat  141.6180            OUT049   \n",
       "3  Fruits and Vegetables  182.0950            OUT010   \n",
       "4              Household   53.8614            OUT013   \n",
       "\n",
       "   Outlet_Establishment_Year Outlet_Size Outlet_Location_Type  \\\n",
       "0                       1999      Medium               Tier 1   \n",
       "1                       2009      Medium               Tier 3   \n",
       "2                       1999      Medium               Tier 1   \n",
       "3                       1998         NaN               Tier 3   \n",
       "4                       1987        High               Tier 3   \n",
       "\n",
       "         Outlet_Type  Item_Outlet_Sales  \n",
       "0  Supermarket Type1          3735.1380  \n",
       "1  Supermarket Type2           443.4228  \n",
       "2  Supermarket Type1          2097.2700  \n",
       "3      Grocery Store           732.3800  \n",
       "4  Supermarket Type1           994.7052  "
      ]
     },
     "execution_count": 2,
     "metadata": {},
     "output_type": "execute_result"
    }
   ],
   "source": [
    "#reading dataset\n",
    "traindf=pd.read_csv(\"train_v9rqX0R.csv\")\n",
    "traindf.head()"
   ]
  },
  {
   "cell_type": "code",
   "execution_count": 3,
   "id": "5de00a86",
   "metadata": {},
   "outputs": [
    {
     "data": {
      "text/html": [
       "<div>\n",
       "<style scoped>\n",
       "    .dataframe tbody tr th:only-of-type {\n",
       "        vertical-align: middle;\n",
       "    }\n",
       "\n",
       "    .dataframe tbody tr th {\n",
       "        vertical-align: top;\n",
       "    }\n",
       "\n",
       "    .dataframe thead th {\n",
       "        text-align: right;\n",
       "    }\n",
       "</style>\n",
       "<table border=\"1\" class=\"dataframe\">\n",
       "  <thead>\n",
       "    <tr style=\"text-align: right;\">\n",
       "      <th></th>\n",
       "      <th>Item_Identifier</th>\n",
       "      <th>Item_Weight</th>\n",
       "      <th>Item_Fat_Content</th>\n",
       "      <th>Item_Visibility</th>\n",
       "      <th>Item_Type</th>\n",
       "      <th>Item_MRP</th>\n",
       "      <th>Outlet_Identifier</th>\n",
       "      <th>Outlet_Establishment_Year</th>\n",
       "      <th>Outlet_Size</th>\n",
       "      <th>Outlet_Location_Type</th>\n",
       "      <th>Outlet_Type</th>\n",
       "    </tr>\n",
       "  </thead>\n",
       "  <tbody>\n",
       "    <tr>\n",
       "      <th>0</th>\n",
       "      <td>FDW58</td>\n",
       "      <td>20.750</td>\n",
       "      <td>Low Fat</td>\n",
       "      <td>0.007565</td>\n",
       "      <td>Snack Foods</td>\n",
       "      <td>107.8622</td>\n",
       "      <td>OUT049</td>\n",
       "      <td>1999</td>\n",
       "      <td>Medium</td>\n",
       "      <td>Tier 1</td>\n",
       "      <td>Supermarket Type1</td>\n",
       "    </tr>\n",
       "    <tr>\n",
       "      <th>1</th>\n",
       "      <td>FDW14</td>\n",
       "      <td>8.300</td>\n",
       "      <td>reg</td>\n",
       "      <td>0.038428</td>\n",
       "      <td>Dairy</td>\n",
       "      <td>87.3198</td>\n",
       "      <td>OUT017</td>\n",
       "      <td>2007</td>\n",
       "      <td>NaN</td>\n",
       "      <td>Tier 2</td>\n",
       "      <td>Supermarket Type1</td>\n",
       "    </tr>\n",
       "    <tr>\n",
       "      <th>2</th>\n",
       "      <td>NCN55</td>\n",
       "      <td>14.600</td>\n",
       "      <td>Low Fat</td>\n",
       "      <td>0.099575</td>\n",
       "      <td>Others</td>\n",
       "      <td>241.7538</td>\n",
       "      <td>OUT010</td>\n",
       "      <td>1998</td>\n",
       "      <td>NaN</td>\n",
       "      <td>Tier 3</td>\n",
       "      <td>Grocery Store</td>\n",
       "    </tr>\n",
       "    <tr>\n",
       "      <th>3</th>\n",
       "      <td>FDQ58</td>\n",
       "      <td>7.315</td>\n",
       "      <td>Low Fat</td>\n",
       "      <td>0.015388</td>\n",
       "      <td>Snack Foods</td>\n",
       "      <td>155.0340</td>\n",
       "      <td>OUT017</td>\n",
       "      <td>2007</td>\n",
       "      <td>NaN</td>\n",
       "      <td>Tier 2</td>\n",
       "      <td>Supermarket Type1</td>\n",
       "    </tr>\n",
       "    <tr>\n",
       "      <th>4</th>\n",
       "      <td>FDY38</td>\n",
       "      <td>NaN</td>\n",
       "      <td>Regular</td>\n",
       "      <td>0.118599</td>\n",
       "      <td>Dairy</td>\n",
       "      <td>234.2300</td>\n",
       "      <td>OUT027</td>\n",
       "      <td>1985</td>\n",
       "      <td>Medium</td>\n",
       "      <td>Tier 3</td>\n",
       "      <td>Supermarket Type3</td>\n",
       "    </tr>\n",
       "  </tbody>\n",
       "</table>\n",
       "</div>"
      ],
      "text/plain": [
       "  Item_Identifier  Item_Weight Item_Fat_Content  Item_Visibility    Item_Type  \\\n",
       "0           FDW58       20.750          Low Fat         0.007565  Snack Foods   \n",
       "1           FDW14        8.300              reg         0.038428        Dairy   \n",
       "2           NCN55       14.600          Low Fat         0.099575       Others   \n",
       "3           FDQ58        7.315          Low Fat         0.015388  Snack Foods   \n",
       "4           FDY38          NaN          Regular         0.118599        Dairy   \n",
       "\n",
       "   Item_MRP Outlet_Identifier  Outlet_Establishment_Year Outlet_Size  \\\n",
       "0  107.8622            OUT049                       1999      Medium   \n",
       "1   87.3198            OUT017                       2007         NaN   \n",
       "2  241.7538            OUT010                       1998         NaN   \n",
       "3  155.0340            OUT017                       2007         NaN   \n",
       "4  234.2300            OUT027                       1985      Medium   \n",
       "\n",
       "  Outlet_Location_Type        Outlet_Type  \n",
       "0               Tier 1  Supermarket Type1  \n",
       "1               Tier 2  Supermarket Type1  \n",
       "2               Tier 3      Grocery Store  \n",
       "3               Tier 2  Supermarket Type1  \n",
       "4               Tier 3  Supermarket Type3  "
      ]
     },
     "execution_count": 3,
     "metadata": {},
     "output_type": "execute_result"
    }
   ],
   "source": [
    "testdf=pd.read_csv(\"test_AbJTz2l.csv\")\n",
    "testdf.head()"
   ]
  },
  {
   "cell_type": "code",
   "execution_count": 4,
   "id": "1a2c049d",
   "metadata": {},
   "outputs": [
    {
     "data": {
      "text/plain": [
       "(8523, 12)"
      ]
     },
     "execution_count": 4,
     "metadata": {},
     "output_type": "execute_result"
    }
   ],
   "source": [
    "traindf.shape"
   ]
  },
  {
   "cell_type": "code",
   "execution_count": 5,
   "id": "f54cc03a",
   "metadata": {},
   "outputs": [
    {
     "data": {
      "text/plain": [
       "(5681, 11)"
      ]
     },
     "execution_count": 5,
     "metadata": {},
     "output_type": "execute_result"
    }
   ],
   "source": [
    "testdf.shape"
   ]
  },
  {
   "cell_type": "code",
   "execution_count": 6,
   "id": "5476bd6d",
   "metadata": {},
   "outputs": [
    {
     "name": "stdout",
     "output_type": "stream",
     "text": [
      "<class 'pandas.core.frame.DataFrame'>\n",
      "RangeIndex: 8523 entries, 0 to 8522\n",
      "Data columns (total 12 columns):\n",
      " #   Column                     Non-Null Count  Dtype  \n",
      "---  ------                     --------------  -----  \n",
      " 0   Item_Identifier            8523 non-null   object \n",
      " 1   Item_Weight                7060 non-null   float64\n",
      " 2   Item_Fat_Content           8523 non-null   object \n",
      " 3   Item_Visibility            8523 non-null   float64\n",
      " 4   Item_Type                  8523 non-null   object \n",
      " 5   Item_MRP                   8523 non-null   float64\n",
      " 6   Outlet_Identifier          8523 non-null   object \n",
      " 7   Outlet_Establishment_Year  8523 non-null   int64  \n",
      " 8   Outlet_Size                6113 non-null   object \n",
      " 9   Outlet_Location_Type       8523 non-null   object \n",
      " 10  Outlet_Type                8523 non-null   object \n",
      " 11  Item_Outlet_Sales          8523 non-null   float64\n",
      "dtypes: float64(4), int64(1), object(7)\n",
      "memory usage: 799.2+ KB\n"
     ]
    }
   ],
   "source": [
    "traindf.info()"
   ]
  },
  {
   "cell_type": "code",
   "execution_count": 7,
   "id": "c2048a3c",
   "metadata": {
    "scrolled": true
   },
   "outputs": [
    {
     "name": "stdout",
     "output_type": "stream",
     "text": [
      "<class 'pandas.core.frame.DataFrame'>\n",
      "RangeIndex: 5681 entries, 0 to 5680\n",
      "Data columns (total 11 columns):\n",
      " #   Column                     Non-Null Count  Dtype  \n",
      "---  ------                     --------------  -----  \n",
      " 0   Item_Identifier            5681 non-null   object \n",
      " 1   Item_Weight                4705 non-null   float64\n",
      " 2   Item_Fat_Content           5681 non-null   object \n",
      " 3   Item_Visibility            5681 non-null   float64\n",
      " 4   Item_Type                  5681 non-null   object \n",
      " 5   Item_MRP                   5681 non-null   float64\n",
      " 6   Outlet_Identifier          5681 non-null   object \n",
      " 7   Outlet_Establishment_Year  5681 non-null   int64  \n",
      " 8   Outlet_Size                4075 non-null   object \n",
      " 9   Outlet_Location_Type       5681 non-null   object \n",
      " 10  Outlet_Type                5681 non-null   object \n",
      "dtypes: float64(3), int64(1), object(7)\n",
      "memory usage: 488.3+ KB\n"
     ]
    }
   ],
   "source": [
    "testdf.info()"
   ]
  },
  {
   "cell_type": "markdown",
   "id": "5ff1b3d5",
   "metadata": {},
   "source": [
    "# Data Preprocessing"
   ]
  },
  {
   "cell_type": "markdown",
   "id": "a7e50ed5",
   "metadata": {},
   "source": [
    "## 1.Data preprocessing on training data set"
   ]
  },
  {
   "cell_type": "code",
   "execution_count": 8,
   "id": "de5ac7b4",
   "metadata": {},
   "outputs": [
    {
     "data": {
      "text/plain": [
       "Item_Identifier                 0\n",
       "Item_Weight                  1463\n",
       "Item_Fat_Content                0\n",
       "Item_Visibility                 0\n",
       "Item_Type                       0\n",
       "Item_MRP                        0\n",
       "Outlet_Identifier               0\n",
       "Outlet_Establishment_Year       0\n",
       "Outlet_Size                  2410\n",
       "Outlet_Location_Type            0\n",
       "Outlet_Type                     0\n",
       "Item_Outlet_Sales               0\n",
       "dtype: int64"
      ]
     },
     "execution_count": 8,
     "metadata": {},
     "output_type": "execute_result"
    }
   ],
   "source": [
    "traindf.isna().sum()"
   ]
  },
  {
   "cell_type": "markdown",
   "id": "7e8d513f",
   "metadata": {},
   "source": [
    "**HEATMAP**"
   ]
  },
  {
   "cell_type": "code",
   "execution_count": 9,
   "id": "7aaa5086",
   "metadata": {
    "scrolled": true
   },
   "outputs": [
    {
     "data": {
      "image/png": "[encoded data removed]",
      "text/plain": [
       "<Figure size 720x720 with 2 Axes>"
      ]
     },
     "metadata": {
      "needs_background": "light"
     },
     "output_type": "display_data"
    }
   ],
   "source": [
    "plt.figure(figsize=(10,10))\n",
    "sns.heatmap(traindf.corr(),annot=True)\n",
    "plt.show()"
   ]
  },
  {
   "cell_type": "code",
   "execution_count": 10,
   "id": "677ed77e",
   "metadata": {
    "scrolled": true
   },
   "outputs": [
    {
     "data": {
      "text/plain": [
       "Fruits and Vegetables    1232\n",
       "Snack Foods              1200\n",
       "Household                 910\n",
       "Frozen Foods              856\n",
       "Dairy                     682\n",
       "Canned                    649\n",
       "Baking Goods              648\n",
       "Health and Hygiene        520\n",
       "Soft Drinks               445\n",
       "Meat                      425\n",
       "Breads                    251\n",
       "Hard Drinks               214\n",
       "Others                    169\n",
       "Starchy Foods             148\n",
       "Breakfast                 110\n",
       "Seafood                    64\n",
       "Name: Item_Type, dtype: int64"
      ]
     },
     "execution_count": 10,
     "metadata": {},
     "output_type": "execute_result"
    }
   ],
   "source": [
    "traindf['Item_Type'].value_counts()"
   ]
  },
  {
   "cell_type": "code",
   "execution_count": 11,
   "id": "37835065",
   "metadata": {
    "scrolled": true
   },
   "outputs": [
    {
     "data": {
      "text/plain": [
       "Item_Type\n",
       "Baking Goods             11.650\n",
       "Breads                   10.600\n",
       "Breakfast                10.695\n",
       "Canned                   12.150\n",
       "Dairy                    13.350\n",
       "Frozen Foods             12.850\n",
       "Fruits and Vegetables    13.100\n",
       "Hard Drinks              10.100\n",
       "Health and Hygiene       12.150\n",
       "Household                13.150\n",
       "Meat                     12.350\n",
       "Others                   14.500\n",
       "Seafood                  11.650\n",
       "Snack Foods              13.150\n",
       "Soft Drinks              11.800\n",
       "Starchy Foods            13.175\n",
       "Name: Item_Weight, dtype: float64"
      ]
     },
     "execution_count": 11,
     "metadata": {},
     "output_type": "execute_result"
    }
   ],
   "source": [
    "traindf.groupby('Item_Type')['Item_Weight'].median()"
   ]
  },
  {
   "cell_type": "code",
   "execution_count": 12,
   "id": "f76e2f02",
   "metadata": {},
   "outputs": [
    {
     "data": {
      "text/html": [
       "<div>\n",
       "<style scoped>\n",
       "    .dataframe tbody tr th:only-of-type {\n",
       "        vertical-align: middle;\n",
       "    }\n",
       "\n",
       "    .dataframe tbody tr th {\n",
       "        vertical-align: top;\n",
       "    }\n",
       "\n",
       "    .dataframe thead th {\n",
       "        text-align: right;\n",
       "    }\n",
       "</style>\n",
       "<table border=\"1\" class=\"dataframe\">\n",
       "  <thead>\n",
       "    <tr style=\"text-align: right;\">\n",
       "      <th></th>\n",
       "      <th>Item_Weight</th>\n",
       "      <th>Item_Visibility</th>\n",
       "      <th>Item_MRP</th>\n",
       "      <th>Outlet_Establishment_Year</th>\n",
       "      <th>Item_Outlet_Sales</th>\n",
       "    </tr>\n",
       "  </thead>\n",
       "  <tbody>\n",
       "    <tr>\n",
       "      <th>count</th>\n",
       "      <td>7060.000000</td>\n",
       "      <td>8523.000000</td>\n",
       "      <td>8523.000000</td>\n",
       "      <td>8523.000000</td>\n",
       "      <td>8523.000000</td>\n",
       "    </tr>\n",
       "    <tr>\n",
       "      <th>mean</th>\n",
       "      <td>12.857645</td>\n",
       "      <td>0.066132</td>\n",
       "      <td>140.992782</td>\n",
       "      <td>1997.831867</td>\n",
       "      <td>2181.288914</td>\n",
       "    </tr>\n",
       "    <tr>\n",
       "      <th>std</th>\n",
       "      <td>4.643456</td>\n",
       "      <td>0.051598</td>\n",
       "      <td>62.275067</td>\n",
       "      <td>8.371760</td>\n",
       "      <td>1706.499616</td>\n",
       "    </tr>\n",
       "    <tr>\n",
       "      <th>min</th>\n",
       "      <td>4.555000</td>\n",
       "      <td>0.000000</td>\n",
       "      <td>31.290000</td>\n",
       "      <td>1985.000000</td>\n",
       "      <td>33.290000</td>\n",
       "    </tr>\n",
       "    <tr>\n",
       "      <th>25%</th>\n",
       "      <td>8.773750</td>\n",
       "      <td>0.026989</td>\n",
       "      <td>93.826500</td>\n",
       "      <td>1987.000000</td>\n",
       "      <td>834.247400</td>\n",
       "    </tr>\n",
       "    <tr>\n",
       "      <th>50%</th>\n",
       "      <td>12.600000</td>\n",
       "      <td>0.053931</td>\n",
       "      <td>143.012800</td>\n",
       "      <td>1999.000000</td>\n",
       "      <td>1794.331000</td>\n",
       "    </tr>\n",
       "    <tr>\n",
       "      <th>75%</th>\n",
       "      <td>16.850000</td>\n",
       "      <td>0.094585</td>\n",
       "      <td>185.643700</td>\n",
       "      <td>2004.000000</td>\n",
       "      <td>3101.296400</td>\n",
       "    </tr>\n",
       "    <tr>\n",
       "      <th>max</th>\n",
       "      <td>21.350000</td>\n",
       "      <td>0.328391</td>\n",
       "      <td>266.888400</td>\n",
       "      <td>2009.000000</td>\n",
       "      <td>13086.964800</td>\n",
       "    </tr>\n",
       "  </tbody>\n",
       "</table>\n",
       "</div>"
      ],
      "text/plain": [
       "       Item_Weight  Item_Visibility     Item_MRP  Outlet_Establishment_Year  \\\n",
       "count  7060.000000      8523.000000  8523.000000                8523.000000   \n",
       "mean     12.857645         0.066132   140.992782                1997.831867   \n",
       "std       4.643456         0.051598    62.275067                   8.371760   \n",
       "min       4.555000         0.000000    31.290000                1985.000000   \n",
       "25%       8.773750         0.026989    93.826500                1987.000000   \n",
       "50%      12.600000         0.053931   143.012800                1999.000000   \n",
       "75%      16.850000         0.094585   185.643700                2004.000000   \n",
       "max      21.350000         0.328391   266.888400                2009.000000   \n",
       "\n",
       "       Item_Outlet_Sales  \n",
       "count        8523.000000  \n",
       "mean         2181.288914  \n",
       "std          1706.499616  \n",
       "min            33.290000  \n",
       "25%           834.247400  \n",
       "50%          1794.331000  \n",
       "75%          3101.296400  \n",
       "max         13086.964800  "
      ]
     },
     "execution_count": 12,
     "metadata": {},
     "output_type": "execute_result"
    }
   ],
   "source": [
    "traindf.describe()"
   ]
  },
  {
   "cell_type": "code",
   "execution_count": 13,
   "id": "7a9224a2",
   "metadata": {},
   "outputs": [],
   "source": [
    "#handling the missing values in Item__Weight\n",
    "traindf['Item_Weight'].fillna(traindf.groupby('Item_Type')['Item_Weight'].transform('median'),inplace=True) "
   ]
  },
  {
   "cell_type": "code",
   "execution_count": 14,
   "id": "48a415a2",
   "metadata": {},
   "outputs": [
    {
     "data": {
      "text/plain": [
       "Item_Identifier                 0\n",
       "Item_Weight                     0\n",
       "Item_Fat_Content                0\n",
       "Item_Visibility                 0\n",
       "Item_Type                       0\n",
       "Item_MRP                        0\n",
       "Outlet_Identifier               0\n",
       "Outlet_Establishment_Year       0\n",
       "Outlet_Size                  2410\n",
       "Outlet_Location_Type            0\n",
       "Outlet_Type                     0\n",
       "Item_Outlet_Sales               0\n",
       "dtype: int64"
      ]
     },
     "execution_count": 14,
     "metadata": {},
     "output_type": "execute_result"
    }
   ],
   "source": [
    "traindf.isna().sum()"
   ]
  },
  {
   "cell_type": "code",
   "execution_count": 15,
   "id": "a892c2f2",
   "metadata": {},
   "outputs": [
    {
     "data": {
      "text/html": [
       "<div>\n",
       "<style scoped>\n",
       "    .dataframe tbody tr th:only-of-type {\n",
       "        vertical-align: middle;\n",
       "    }\n",
       "\n",
       "    .dataframe tbody tr th {\n",
       "        vertical-align: top;\n",
       "    }\n",
       "\n",
       "    .dataframe thead th {\n",
       "        text-align: right;\n",
       "    }\n",
       "</style>\n",
       "<table border=\"1\" class=\"dataframe\">\n",
       "  <thead>\n",
       "    <tr style=\"text-align: right;\">\n",
       "      <th></th>\n",
       "      <th>Outlet_Size</th>\n",
       "      <th>Outlet_Location_Type</th>\n",
       "      <th>Outlet_Type</th>\n",
       "    </tr>\n",
       "  </thead>\n",
       "  <tbody>\n",
       "    <tr>\n",
       "      <th>0</th>\n",
       "      <td>Medium</td>\n",
       "      <td>Tier 1</td>\n",
       "      <td>Supermarket Type1</td>\n",
       "    </tr>\n",
       "    <tr>\n",
       "      <th>1</th>\n",
       "      <td>Medium</td>\n",
       "      <td>Tier 3</td>\n",
       "      <td>Supermarket Type2</td>\n",
       "    </tr>\n",
       "    <tr>\n",
       "      <th>2</th>\n",
       "      <td>Medium</td>\n",
       "      <td>Tier 1</td>\n",
       "      <td>Supermarket Type1</td>\n",
       "    </tr>\n",
       "    <tr>\n",
       "      <th>3</th>\n",
       "      <td>NaN</td>\n",
       "      <td>Tier 3</td>\n",
       "      <td>Grocery Store</td>\n",
       "    </tr>\n",
       "    <tr>\n",
       "      <th>4</th>\n",
       "      <td>High</td>\n",
       "      <td>Tier 3</td>\n",
       "      <td>Supermarket Type1</td>\n",
       "    </tr>\n",
       "    <tr>\n",
       "      <th>...</th>\n",
       "      <td>...</td>\n",
       "      <td>...</td>\n",
       "      <td>...</td>\n",
       "    </tr>\n",
       "    <tr>\n",
       "      <th>8518</th>\n",
       "      <td>High</td>\n",
       "      <td>Tier 3</td>\n",
       "      <td>Supermarket Type1</td>\n",
       "    </tr>\n",
       "    <tr>\n",
       "      <th>8519</th>\n",
       "      <td>NaN</td>\n",
       "      <td>Tier 2</td>\n",
       "      <td>Supermarket Type1</td>\n",
       "    </tr>\n",
       "    <tr>\n",
       "      <th>8520</th>\n",
       "      <td>Small</td>\n",
       "      <td>Tier 2</td>\n",
       "      <td>Supermarket Type1</td>\n",
       "    </tr>\n",
       "    <tr>\n",
       "      <th>8521</th>\n",
       "      <td>Medium</td>\n",
       "      <td>Tier 3</td>\n",
       "      <td>Supermarket Type2</td>\n",
       "    </tr>\n",
       "    <tr>\n",
       "      <th>8522</th>\n",
       "      <td>Small</td>\n",
       "      <td>Tier 1</td>\n",
       "      <td>Supermarket Type1</td>\n",
       "    </tr>\n",
       "  </tbody>\n",
       "</table>\n",
       "<p>8523 rows × 3 columns</p>\n",
       "</div>"
      ],
      "text/plain": [
       "     Outlet_Size Outlet_Location_Type        Outlet_Type\n",
       "0         Medium               Tier 1  Supermarket Type1\n",
       "1         Medium               Tier 3  Supermarket Type2\n",
       "2         Medium               Tier 1  Supermarket Type1\n",
       "3            NaN               Tier 3      Grocery Store\n",
       "4           High               Tier 3  Supermarket Type1\n",
       "...          ...                  ...                ...\n",
       "8518        High               Tier 3  Supermarket Type1\n",
       "8519         NaN               Tier 2  Supermarket Type1\n",
       "8520       Small               Tier 2  Supermarket Type1\n",
       "8521      Medium               Tier 3  Supermarket Type2\n",
       "8522       Small               Tier 1  Supermarket Type1\n",
       "\n",
       "[8523 rows x 3 columns]"
      ]
     },
     "execution_count": 15,
     "metadata": {},
     "output_type": "execute_result"
    }
   ],
   "source": [
    "df=traindf[['Outlet_Size','Outlet_Location_Type','Outlet_Type']]\n",
    "df"
   ]
  },
  {
   "cell_type": "code",
   "execution_count": 16,
   "id": "65f0f61c",
   "metadata": {
    "scrolled": true
   },
   "outputs": [
    {
     "data": {
      "text/html": [
       "<div>\n",
       "<style scoped>\n",
       "    .dataframe tbody tr th:only-of-type {\n",
       "        vertical-align: middle;\n",
       "    }\n",
       "\n",
       "    .dataframe tbody tr th {\n",
       "        vertical-align: top;\n",
       "    }\n",
       "\n",
       "    .dataframe thead th {\n",
       "        text-align: right;\n",
       "    }\n",
       "</style>\n",
       "<table border=\"1\" class=\"dataframe\">\n",
       "  <thead>\n",
       "    <tr style=\"text-align: right;\">\n",
       "      <th></th>\n",
       "      <th>Outlet_Size</th>\n",
       "      <th>Outlet_Location_Type</th>\n",
       "      <th>Outlet_Type</th>\n",
       "    </tr>\n",
       "  </thead>\n",
       "  <tbody>\n",
       "    <tr>\n",
       "      <th>3</th>\n",
       "      <td>NaN</td>\n",
       "      <td>Tier 3</td>\n",
       "      <td>Grocery Store</td>\n",
       "    </tr>\n",
       "    <tr>\n",
       "      <th>8</th>\n",
       "      <td>NaN</td>\n",
       "      <td>Tier 2</td>\n",
       "      <td>Supermarket Type1</td>\n",
       "    </tr>\n",
       "    <tr>\n",
       "      <th>9</th>\n",
       "      <td>NaN</td>\n",
       "      <td>Tier 2</td>\n",
       "      <td>Supermarket Type1</td>\n",
       "    </tr>\n",
       "    <tr>\n",
       "      <th>25</th>\n",
       "      <td>NaN</td>\n",
       "      <td>Tier 2</td>\n",
       "      <td>Supermarket Type1</td>\n",
       "    </tr>\n",
       "    <tr>\n",
       "      <th>28</th>\n",
       "      <td>NaN</td>\n",
       "      <td>Tier 3</td>\n",
       "      <td>Grocery Store</td>\n",
       "    </tr>\n",
       "    <tr>\n",
       "      <th>...</th>\n",
       "      <td>...</td>\n",
       "      <td>...</td>\n",
       "      <td>...</td>\n",
       "    </tr>\n",
       "    <tr>\n",
       "      <th>8502</th>\n",
       "      <td>NaN</td>\n",
       "      <td>Tier 2</td>\n",
       "      <td>Supermarket Type1</td>\n",
       "    </tr>\n",
       "    <tr>\n",
       "      <th>8508</th>\n",
       "      <td>NaN</td>\n",
       "      <td>Tier 2</td>\n",
       "      <td>Supermarket Type1</td>\n",
       "    </tr>\n",
       "    <tr>\n",
       "      <th>8509</th>\n",
       "      <td>NaN</td>\n",
       "      <td>Tier 3</td>\n",
       "      <td>Grocery Store</td>\n",
       "    </tr>\n",
       "    <tr>\n",
       "      <th>8514</th>\n",
       "      <td>NaN</td>\n",
       "      <td>Tier 2</td>\n",
       "      <td>Supermarket Type1</td>\n",
       "    </tr>\n",
       "    <tr>\n",
       "      <th>8519</th>\n",
       "      <td>NaN</td>\n",
       "      <td>Tier 2</td>\n",
       "      <td>Supermarket Type1</td>\n",
       "    </tr>\n",
       "  </tbody>\n",
       "</table>\n",
       "<p>2410 rows × 3 columns</p>\n",
       "</div>"
      ],
      "text/plain": [
       "     Outlet_Size Outlet_Location_Type        Outlet_Type\n",
       "3            NaN               Tier 3      Grocery Store\n",
       "8            NaN               Tier 2  Supermarket Type1\n",
       "9            NaN               Tier 2  Supermarket Type1\n",
       "25           NaN               Tier 2  Supermarket Type1\n",
       "28           NaN               Tier 3      Grocery Store\n",
       "...          ...                  ...                ...\n",
       "8502         NaN               Tier 2  Supermarket Type1\n",
       "8508         NaN               Tier 2  Supermarket Type1\n",
       "8509         NaN               Tier 3      Grocery Store\n",
       "8514         NaN               Tier 2  Supermarket Type1\n",
       "8519         NaN               Tier 2  Supermarket Type1\n",
       "\n",
       "[2410 rows x 3 columns]"
      ]
     },
     "execution_count": 16,
     "metadata": {},
     "output_type": "execute_result"
    }
   ],
   "source": [
    "df[df.isnull().any(axis=1)]#to locate the missing values"
   ]
  },
  {
   "cell_type": "markdown",
   "id": "7ea11f48",
   "metadata": {},
   "source": [
    "We will handle the missing values in the column Outlet_size by features Outlet_Type & Outlet_Location_Type"
   ]
  },
  {
   "cell_type": "code",
   "execution_count": 17,
   "id": "542c7f20",
   "metadata": {
    "scrolled": false
   },
   "outputs": [
    {
     "data": {
      "text/plain": [
       "Outlet_Location_Type  Outlet_Type        Outlet_Size\n",
       "Tier 1                Grocery Store      Small          528\n",
       "                      Supermarket Type1  Medium         930\n",
       "                                         Small          930\n",
       "Tier 2                Supermarket Type1  Small          930\n",
       "Tier 3                Supermarket Type1  High           932\n",
       "                      Supermarket Type2  Medium         928\n",
       "                      Supermarket Type3  Medium         935\n",
       "Name: Outlet_Size, dtype: int64"
      ]
     },
     "execution_count": 17,
     "metadata": {},
     "output_type": "execute_result"
    }
   ],
   "source": [
    "traindf.groupby(['Outlet_Location_Type','Outlet_Type'])['Outlet_Size'].value_counts()"
   ]
  },
  {
   "cell_type": "code",
   "execution_count": 18,
   "id": "eebe64d3",
   "metadata": {
    "scrolled": true
   },
   "outputs": [
    {
     "data": {
      "text/plain": [
       "Outlet_Location_Type  Outlet_Type         \n",
       "Tier 1                Grocery Store      0     Small\n",
       "                      Supermarket Type1  0    Medium\n",
       "                                         1     Small\n",
       "Tier 2                Supermarket Type1  0     Small\n",
       "Tier 3                Supermarket Type1  0      High\n",
       "                      Supermarket Type2  0    Medium\n",
       "                      Supermarket Type3  0    Medium\n",
       "Name: Outlet_Size, dtype: object"
      ]
     },
     "execution_count": 18,
     "metadata": {},
     "output_type": "execute_result"
    }
   ],
   "source": [
    "traindf.groupby(['Outlet_Location_Type',\"Outlet_Type\"])['Outlet_Size'].apply(lambda x: x.mode())"
   ]
  },
  {
   "cell_type": "code",
   "execution_count": 19,
   "id": "4bc1d32a",
   "metadata": {
    "scrolled": false
   },
   "outputs": [
    {
     "data": {
      "text/plain": [
       "Outlet_Location_Type  Outlet_Type        Outlet_Size\n",
       "Tier 1                Grocery Store      Small          528\n",
       "                      Supermarket Type1  Medium         930\n",
       "                                         Small          930\n",
       "Tier 2                Supermarket Type1  Small          930\n",
       "Tier 3                Supermarket Type1  High           932\n",
       "                      Supermarket Type2  Medium         928\n",
       "                      Supermarket Type3  Medium         935\n",
       "Name: Outlet_Size, dtype: int64"
      ]
     },
     "execution_count": 19,
     "metadata": {},
     "output_type": "execute_result"
    }
   ],
   "source": [
    "traindf.groupby(['Outlet_Location_Type','Outlet_Type'])['Outlet_Size'].value_counts()"
   ]
  },
  {
   "cell_type": "code",
   "execution_count": 20,
   "id": "d9c2433a",
   "metadata": {},
   "outputs": [
    {
     "data": {
      "text/html": [
       "<div>\n",
       "<style scoped>\n",
       "    .dataframe tbody tr th:only-of-type {\n",
       "        vertical-align: middle;\n",
       "    }\n",
       "\n",
       "    .dataframe tbody tr th {\n",
       "        vertical-align: top;\n",
       "    }\n",
       "\n",
       "    .dataframe thead th {\n",
       "        text-align: right;\n",
       "    }\n",
       "</style>\n",
       "<table border=\"1\" class=\"dataframe\">\n",
       "  <thead>\n",
       "    <tr style=\"text-align: right;\">\n",
       "      <th></th>\n",
       "      <th>Item_Identifier</th>\n",
       "      <th>Item_Weight</th>\n",
       "      <th>Item_Fat_Content</th>\n",
       "      <th>Item_Visibility</th>\n",
       "      <th>Item_Type</th>\n",
       "      <th>Item_MRP</th>\n",
       "      <th>Outlet_Identifier</th>\n",
       "      <th>Outlet_Establishment_Year</th>\n",
       "      <th>Outlet_Size</th>\n",
       "      <th>Outlet_Location_Type</th>\n",
       "      <th>Outlet_Type</th>\n",
       "      <th>Item_Outlet_Sales</th>\n",
       "    </tr>\n",
       "  </thead>\n",
       "  <tbody>\n",
       "  </tbody>\n",
       "</table>\n",
       "</div>"
      ],
      "text/plain": [
       "Empty DataFrame\n",
       "Columns: [Item_Identifier, Item_Weight, Item_Fat_Content, Item_Visibility, Item_Type, Item_MRP, Outlet_Identifier, Outlet_Establishment_Year, Outlet_Size, Outlet_Location_Type, Outlet_Type, Item_Outlet_Sales]\n",
       "Index: []"
      ]
     },
     "execution_count": 20,
     "metadata": {},
     "output_type": "execute_result"
    }
   ],
   "source": [
    "filtered_df1 = traindf.loc[(traindf['Outlet_Size'].isna() &(traindf['Outlet_Type'] == 'Grocery Store') & (traindf['Outlet_Location_Type'] == 'Tier 1'))]\n",
    "filtered_df1"
   ]
  },
  {
   "cell_type": "code",
   "execution_count": 21,
   "id": "ed3287e6",
   "metadata": {},
   "outputs": [
    {
     "data": {
      "text/html": [
       "<div>\n",
       "<style scoped>\n",
       "    .dataframe tbody tr th:only-of-type {\n",
       "        vertical-align: middle;\n",
       "    }\n",
       "\n",
       "    .dataframe tbody tr th {\n",
       "        vertical-align: top;\n",
       "    }\n",
       "\n",
       "    .dataframe thead th {\n",
       "        text-align: right;\n",
       "    }\n",
       "</style>\n",
       "<table border=\"1\" class=\"dataframe\">\n",
       "  <thead>\n",
       "    <tr style=\"text-align: right;\">\n",
       "      <th></th>\n",
       "      <th>Item_Identifier</th>\n",
       "      <th>Item_Weight</th>\n",
       "      <th>Item_Fat_Content</th>\n",
       "      <th>Item_Visibility</th>\n",
       "      <th>Item_Type</th>\n",
       "      <th>Item_MRP</th>\n",
       "      <th>Outlet_Identifier</th>\n",
       "      <th>Outlet_Establishment_Year</th>\n",
       "      <th>Outlet_Size</th>\n",
       "      <th>Outlet_Location_Type</th>\n",
       "      <th>Outlet_Type</th>\n",
       "      <th>Item_Outlet_Sales</th>\n",
       "    </tr>\n",
       "  </thead>\n",
       "  <tbody>\n",
       "  </tbody>\n",
       "</table>\n",
       "</div>"
      ],
      "text/plain": [
       "Empty DataFrame\n",
       "Columns: [Item_Identifier, Item_Weight, Item_Fat_Content, Item_Visibility, Item_Type, Item_MRP, Outlet_Identifier, Outlet_Establishment_Year, Outlet_Size, Outlet_Location_Type, Outlet_Type, Item_Outlet_Sales]\n",
       "Index: []"
      ]
     },
     "execution_count": 21,
     "metadata": {},
     "output_type": "execute_result"
    }
   ],
   "source": [
    "filtered_df1 = traindf.loc[(traindf['Outlet_Size'].isna() &(traindf['Outlet_Type'] == 'Supermarket Type1') & (traindf['Outlet_Location_Type'] == 'Tier 1'))]\n",
    "filtered_df1"
   ]
  },
  {
   "cell_type": "code",
   "execution_count": 22,
   "id": "f4e6cad9",
   "metadata": {
    "scrolled": true
   },
   "outputs": [
    {
     "data": {
      "text/html": [
       "<div>\n",
       "<style scoped>\n",
       "    .dataframe tbody tr th:only-of-type {\n",
       "        vertical-align: middle;\n",
       "    }\n",
       "\n",
       "    .dataframe tbody tr th {\n",
       "        vertical-align: top;\n",
       "    }\n",
       "\n",
       "    .dataframe thead th {\n",
       "        text-align: right;\n",
       "    }\n",
       "</style>\n",
       "<table border=\"1\" class=\"dataframe\">\n",
       "  <thead>\n",
       "    <tr style=\"text-align: right;\">\n",
       "      <th></th>\n",
       "      <th>Item_Identifier</th>\n",
       "      <th>Item_Weight</th>\n",
       "      <th>Item_Fat_Content</th>\n",
       "      <th>Item_Visibility</th>\n",
       "      <th>Item_Type</th>\n",
       "      <th>Item_MRP</th>\n",
       "      <th>Outlet_Identifier</th>\n",
       "      <th>Outlet_Establishment_Year</th>\n",
       "      <th>Outlet_Size</th>\n",
       "      <th>Outlet_Location_Type</th>\n",
       "      <th>Outlet_Type</th>\n",
       "      <th>Item_Outlet_Sales</th>\n",
       "    </tr>\n",
       "  </thead>\n",
       "  <tbody>\n",
       "    <tr>\n",
       "      <th>8</th>\n",
       "      <td>FDH17</td>\n",
       "      <td>16.20</td>\n",
       "      <td>Regular</td>\n",
       "      <td>0.016687</td>\n",
       "      <td>Frozen Foods</td>\n",
       "      <td>96.9726</td>\n",
       "      <td>OUT045</td>\n",
       "      <td>2002</td>\n",
       "      <td>NaN</td>\n",
       "      <td>Tier 2</td>\n",
       "      <td>Supermarket Type1</td>\n",
       "      <td>1076.5986</td>\n",
       "    </tr>\n",
       "    <tr>\n",
       "      <th>9</th>\n",
       "      <td>FDU28</td>\n",
       "      <td>19.20</td>\n",
       "      <td>Regular</td>\n",
       "      <td>0.094450</td>\n",
       "      <td>Frozen Foods</td>\n",
       "      <td>187.8214</td>\n",
       "      <td>OUT017</td>\n",
       "      <td>2007</td>\n",
       "      <td>NaN</td>\n",
       "      <td>Tier 2</td>\n",
       "      <td>Supermarket Type1</td>\n",
       "      <td>4710.5350</td>\n",
       "    </tr>\n",
       "    <tr>\n",
       "      <th>25</th>\n",
       "      <td>NCD06</td>\n",
       "      <td>13.00</td>\n",
       "      <td>Low Fat</td>\n",
       "      <td>0.099887</td>\n",
       "      <td>Household</td>\n",
       "      <td>45.9060</td>\n",
       "      <td>OUT017</td>\n",
       "      <td>2007</td>\n",
       "      <td>NaN</td>\n",
       "      <td>Tier 2</td>\n",
       "      <td>Supermarket Type1</td>\n",
       "      <td>838.9080</td>\n",
       "    </tr>\n",
       "    <tr>\n",
       "      <th>33</th>\n",
       "      <td>FDO23</td>\n",
       "      <td>17.85</td>\n",
       "      <td>Low Fat</td>\n",
       "      <td>0.000000</td>\n",
       "      <td>Breads</td>\n",
       "      <td>93.1436</td>\n",
       "      <td>OUT045</td>\n",
       "      <td>2002</td>\n",
       "      <td>NaN</td>\n",
       "      <td>Tier 2</td>\n",
       "      <td>Supermarket Type1</td>\n",
       "      <td>2174.5028</td>\n",
       "    </tr>\n",
       "    <tr>\n",
       "      <th>46</th>\n",
       "      <td>NCP05</td>\n",
       "      <td>19.60</td>\n",
       "      <td>Low Fat</td>\n",
       "      <td>0.000000</td>\n",
       "      <td>Health and Hygiene</td>\n",
       "      <td>153.3024</td>\n",
       "      <td>OUT045</td>\n",
       "      <td>2002</td>\n",
       "      <td>NaN</td>\n",
       "      <td>Tier 2</td>\n",
       "      <td>Supermarket Type1</td>\n",
       "      <td>2428.8384</td>\n",
       "    </tr>\n",
       "    <tr>\n",
       "      <th>...</th>\n",
       "      <td>...</td>\n",
       "      <td>...</td>\n",
       "      <td>...</td>\n",
       "      <td>...</td>\n",
       "      <td>...</td>\n",
       "      <td>...</td>\n",
       "      <td>...</td>\n",
       "      <td>...</td>\n",
       "      <td>...</td>\n",
       "      <td>...</td>\n",
       "      <td>...</td>\n",
       "      <td>...</td>\n",
       "    </tr>\n",
       "    <tr>\n",
       "      <th>8501</th>\n",
       "      <td>FDW21</td>\n",
       "      <td>5.34</td>\n",
       "      <td>Regular</td>\n",
       "      <td>0.005998</td>\n",
       "      <td>Snack Foods</td>\n",
       "      <td>100.4358</td>\n",
       "      <td>OUT017</td>\n",
       "      <td>2007</td>\n",
       "      <td>NaN</td>\n",
       "      <td>Tier 2</td>\n",
       "      <td>Supermarket Type1</td>\n",
       "      <td>1508.0370</td>\n",
       "    </tr>\n",
       "    <tr>\n",
       "      <th>8502</th>\n",
       "      <td>NCH43</td>\n",
       "      <td>8.42</td>\n",
       "      <td>Low Fat</td>\n",
       "      <td>0.070712</td>\n",
       "      <td>Household</td>\n",
       "      <td>216.4192</td>\n",
       "      <td>OUT045</td>\n",
       "      <td>2002</td>\n",
       "      <td>NaN</td>\n",
       "      <td>Tier 2</td>\n",
       "      <td>Supermarket Type1</td>\n",
       "      <td>3020.0688</td>\n",
       "    </tr>\n",
       "    <tr>\n",
       "      <th>8508</th>\n",
       "      <td>FDW31</td>\n",
       "      <td>11.35</td>\n",
       "      <td>Regular</td>\n",
       "      <td>0.043246</td>\n",
       "      <td>Fruits and Vegetables</td>\n",
       "      <td>199.4742</td>\n",
       "      <td>OUT045</td>\n",
       "      <td>2002</td>\n",
       "      <td>NaN</td>\n",
       "      <td>Tier 2</td>\n",
       "      <td>Supermarket Type1</td>\n",
       "      <td>2587.9646</td>\n",
       "    </tr>\n",
       "    <tr>\n",
       "      <th>8514</th>\n",
       "      <td>FDA01</td>\n",
       "      <td>15.00</td>\n",
       "      <td>Regular</td>\n",
       "      <td>0.054489</td>\n",
       "      <td>Canned</td>\n",
       "      <td>57.5904</td>\n",
       "      <td>OUT045</td>\n",
       "      <td>2002</td>\n",
       "      <td>NaN</td>\n",
       "      <td>Tier 2</td>\n",
       "      <td>Supermarket Type1</td>\n",
       "      <td>468.7232</td>\n",
       "    </tr>\n",
       "    <tr>\n",
       "      <th>8519</th>\n",
       "      <td>FDS36</td>\n",
       "      <td>8.38</td>\n",
       "      <td>Regular</td>\n",
       "      <td>0.046982</td>\n",
       "      <td>Baking Goods</td>\n",
       "      <td>108.1570</td>\n",
       "      <td>OUT045</td>\n",
       "      <td>2002</td>\n",
       "      <td>NaN</td>\n",
       "      <td>Tier 2</td>\n",
       "      <td>Supermarket Type1</td>\n",
       "      <td>549.2850</td>\n",
       "    </tr>\n",
       "  </tbody>\n",
       "</table>\n",
       "<p>1855 rows × 12 columns</p>\n",
       "</div>"
      ],
      "text/plain": [
       "     Item_Identifier  Item_Weight Item_Fat_Content  Item_Visibility  \\\n",
       "8              FDH17        16.20          Regular         0.016687   \n",
       "9              FDU28        19.20          Regular         0.094450   \n",
       "25             NCD06        13.00          Low Fat         0.099887   \n",
       "33             FDO23        17.85          Low Fat         0.000000   \n",
       "46             NCP05        19.60          Low Fat         0.000000   \n",
       "...              ...          ...              ...              ...   \n",
       "8501           FDW21         5.34          Regular         0.005998   \n",
       "8502           NCH43         8.42          Low Fat         0.070712   \n",
       "8508           FDW31        11.35          Regular         0.043246   \n",
       "8514           FDA01        15.00          Regular         0.054489   \n",
       "8519           FDS36         8.38          Regular         0.046982   \n",
       "\n",
       "                  Item_Type  Item_MRP Outlet_Identifier  \\\n",
       "8              Frozen Foods   96.9726            OUT045   \n",
       "9              Frozen Foods  187.8214            OUT017   \n",
       "25                Household   45.9060            OUT017   \n",
       "33                   Breads   93.1436            OUT045   \n",
       "46       Health and Hygiene  153.3024            OUT045   \n",
       "...                     ...       ...               ...   \n",
       "8501            Snack Foods  100.4358            OUT017   \n",
       "8502              Household  216.4192            OUT045   \n",
       "8508  Fruits and Vegetables  199.4742            OUT045   \n",
       "8514                 Canned   57.5904            OUT045   \n",
       "8519           Baking Goods  108.1570            OUT045   \n",
       "\n",
       "      Outlet_Establishment_Year Outlet_Size Outlet_Location_Type  \\\n",
       "8                          2002         NaN               Tier 2   \n",
       "9                          2007         NaN               Tier 2   \n",
       "25                         2007         NaN               Tier 2   \n",
       "33                         2002         NaN               Tier 2   \n",
       "46                         2002         NaN               Tier 2   \n",
       "...                         ...         ...                  ...   \n",
       "8501                       2007         NaN               Tier 2   \n",
       "8502                       2002         NaN               Tier 2   \n",
       "8508                       2002         NaN               Tier 2   \n",
       "8514                       2002         NaN               Tier 2   \n",
       "8519                       2002         NaN               Tier 2   \n",
       "\n",
       "            Outlet_Type  Item_Outlet_Sales  \n",
       "8     Supermarket Type1          1076.5986  \n",
       "9     Supermarket Type1          4710.5350  \n",
       "25    Supermarket Type1           838.9080  \n",
       "33    Supermarket Type1          2174.5028  \n",
       "46    Supermarket Type1          2428.8384  \n",
       "...                 ...                ...  \n",
       "8501  Supermarket Type1          1508.0370  \n",
       "8502  Supermarket Type1          3020.0688  \n",
       "8508  Supermarket Type1          2587.9646  \n",
       "8514  Supermarket Type1           468.7232  \n",
       "8519  Supermarket Type1           549.2850  \n",
       "\n",
       "[1855 rows x 12 columns]"
      ]
     },
     "execution_count": 22,
     "metadata": {},
     "output_type": "execute_result"
    }
   ],
   "source": [
    "filtered_df = traindf.loc[(traindf['Outlet_Size'].isna() &(traindf['Outlet_Type'] == 'Supermarket Type1') & (traindf['Outlet_Location_Type'] == 'Tier 2'))]\n",
    "filtered_df"
   ]
  },
  {
   "cell_type": "code",
   "execution_count": 23,
   "id": "c353e91f",
   "metadata": {},
   "outputs": [
    {
     "name": "stdout",
     "output_type": "stream",
     "text": [
      "Int64Index([   8,    9,   25,   33,   46,   47,   53,   54,   56,   61,\n",
      "            ...\n",
      "            8483, 8493, 8494, 8496, 8500, 8501, 8502, 8508, 8514, 8519],\n",
      "           dtype='int64', length=1855)\n"
     ]
    }
   ],
   "source": [
    "missing_value_indices = filtered_df.index\n",
    "print(missing_value_indices)"
   ]
  },
  {
   "cell_type": "code",
   "execution_count": 24,
   "id": "e0e6d956",
   "metadata": {},
   "outputs": [],
   "source": [
    "traindf.loc[missing_value_indices] = traindf.loc[missing_value_indices].fillna('Small')"
   ]
  },
  {
   "cell_type": "code",
   "execution_count": 25,
   "id": "9a738563",
   "metadata": {},
   "outputs": [
    {
     "data": {
      "text/plain": [
       "Item_Identifier                0\n",
       "Item_Weight                    0\n",
       "Item_Fat_Content               0\n",
       "Item_Visibility                0\n",
       "Item_Type                      0\n",
       "Item_MRP                       0\n",
       "Outlet_Identifier              0\n",
       "Outlet_Establishment_Year      0\n",
       "Outlet_Size                  555\n",
       "Outlet_Location_Type           0\n",
       "Outlet_Type                    0\n",
       "Item_Outlet_Sales              0\n",
       "dtype: int64"
      ]
     },
     "execution_count": 25,
     "metadata": {},
     "output_type": "execute_result"
    }
   ],
   "source": [
    "traindf.isna().sum()"
   ]
  },
  {
   "cell_type": "code",
   "execution_count": 26,
   "id": "93320ffb",
   "metadata": {},
   "outputs": [
    {
     "data": {
      "text/html": [
       "<div>\n",
       "<style scoped>\n",
       "    .dataframe tbody tr th:only-of-type {\n",
       "        vertical-align: middle;\n",
       "    }\n",
       "\n",
       "    .dataframe tbody tr th {\n",
       "        vertical-align: top;\n",
       "    }\n",
       "\n",
       "    .dataframe thead th {\n",
       "        text-align: right;\n",
       "    }\n",
       "</style>\n",
       "<table border=\"1\" class=\"dataframe\">\n",
       "  <thead>\n",
       "    <tr style=\"text-align: right;\">\n",
       "      <th></th>\n",
       "      <th>Item_Identifier</th>\n",
       "      <th>Item_Weight</th>\n",
       "      <th>Item_Fat_Content</th>\n",
       "      <th>Item_Visibility</th>\n",
       "      <th>Item_Type</th>\n",
       "      <th>Item_MRP</th>\n",
       "      <th>Outlet_Identifier</th>\n",
       "      <th>Outlet_Establishment_Year</th>\n",
       "      <th>Outlet_Size</th>\n",
       "      <th>Outlet_Location_Type</th>\n",
       "      <th>Outlet_Type</th>\n",
       "      <th>Item_Outlet_Sales</th>\n",
       "    </tr>\n",
       "  </thead>\n",
       "  <tbody>\n",
       "  </tbody>\n",
       "</table>\n",
       "</div>"
      ],
      "text/plain": [
       "Empty DataFrame\n",
       "Columns: [Item_Identifier, Item_Weight, Item_Fat_Content, Item_Visibility, Item_Type, Item_MRP, Outlet_Identifier, Outlet_Establishment_Year, Outlet_Size, Outlet_Location_Type, Outlet_Type, Item_Outlet_Sales]\n",
       "Index: []"
      ]
     },
     "execution_count": 26,
     "metadata": {},
     "output_type": "execute_result"
    }
   ],
   "source": [
    "filtered_df1 = traindf.loc[(df['Outlet_Size'].isna() &(traindf['Outlet_Type'] == 'Supermarket Type1') & (traindf['Outlet_Location_Type'] == 'Tier 3'))]\n",
    "filtered_df1"
   ]
  },
  {
   "cell_type": "code",
   "execution_count": 27,
   "id": "feef8099",
   "metadata": {},
   "outputs": [
    {
     "data": {
      "text/html": [
       "<div>\n",
       "<style scoped>\n",
       "    .dataframe tbody tr th:only-of-type {\n",
       "        vertical-align: middle;\n",
       "    }\n",
       "\n",
       "    .dataframe tbody tr th {\n",
       "        vertical-align: top;\n",
       "    }\n",
       "\n",
       "    .dataframe thead th {\n",
       "        text-align: right;\n",
       "    }\n",
       "</style>\n",
       "<table border=\"1\" class=\"dataframe\">\n",
       "  <thead>\n",
       "    <tr style=\"text-align: right;\">\n",
       "      <th></th>\n",
       "      <th>Item_Identifier</th>\n",
       "      <th>Item_Weight</th>\n",
       "      <th>Item_Fat_Content</th>\n",
       "      <th>Item_Visibility</th>\n",
       "      <th>Item_Type</th>\n",
       "      <th>Item_MRP</th>\n",
       "      <th>Outlet_Identifier</th>\n",
       "      <th>Outlet_Establishment_Year</th>\n",
       "      <th>Outlet_Size</th>\n",
       "      <th>Outlet_Location_Type</th>\n",
       "      <th>Outlet_Type</th>\n",
       "      <th>Item_Outlet_Sales</th>\n",
       "    </tr>\n",
       "  </thead>\n",
       "  <tbody>\n",
       "  </tbody>\n",
       "</table>\n",
       "</div>"
      ],
      "text/plain": [
       "Empty DataFrame\n",
       "Columns: [Item_Identifier, Item_Weight, Item_Fat_Content, Item_Visibility, Item_Type, Item_MRP, Outlet_Identifier, Outlet_Establishment_Year, Outlet_Size, Outlet_Location_Type, Outlet_Type, Item_Outlet_Sales]\n",
       "Index: []"
      ]
     },
     "execution_count": 27,
     "metadata": {},
     "output_type": "execute_result"
    }
   ],
   "source": [
    "filtered_df1 = traindf.loc[(traindf['Outlet_Size'].isna() &(traindf['Outlet_Type'] == 'Supermarket Type2') & (traindf['Outlet_Location_Type'] == 'Tier 3'))]\n",
    "filtered_df1"
   ]
  },
  {
   "cell_type": "code",
   "execution_count": 28,
   "id": "fa2e4d90",
   "metadata": {},
   "outputs": [
    {
     "data": {
      "text/html": [
       "<div>\n",
       "<style scoped>\n",
       "    .dataframe tbody tr th:only-of-type {\n",
       "        vertical-align: middle;\n",
       "    }\n",
       "\n",
       "    .dataframe tbody tr th {\n",
       "        vertical-align: top;\n",
       "    }\n",
       "\n",
       "    .dataframe thead th {\n",
       "        text-align: right;\n",
       "    }\n",
       "</style>\n",
       "<table border=\"1\" class=\"dataframe\">\n",
       "  <thead>\n",
       "    <tr style=\"text-align: right;\">\n",
       "      <th></th>\n",
       "      <th>Item_Identifier</th>\n",
       "      <th>Item_Weight</th>\n",
       "      <th>Item_Fat_Content</th>\n",
       "      <th>Item_Visibility</th>\n",
       "      <th>Item_Type</th>\n",
       "      <th>Item_MRP</th>\n",
       "      <th>Outlet_Identifier</th>\n",
       "      <th>Outlet_Establishment_Year</th>\n",
       "      <th>Outlet_Size</th>\n",
       "      <th>Outlet_Location_Type</th>\n",
       "      <th>Outlet_Type</th>\n",
       "      <th>Item_Outlet_Sales</th>\n",
       "    </tr>\n",
       "  </thead>\n",
       "  <tbody>\n",
       "  </tbody>\n",
       "</table>\n",
       "</div>"
      ],
      "text/plain": [
       "Empty DataFrame\n",
       "Columns: [Item_Identifier, Item_Weight, Item_Fat_Content, Item_Visibility, Item_Type, Item_MRP, Outlet_Identifier, Outlet_Establishment_Year, Outlet_Size, Outlet_Location_Type, Outlet_Type, Item_Outlet_Sales]\n",
       "Index: []"
      ]
     },
     "execution_count": 28,
     "metadata": {},
     "output_type": "execute_result"
    }
   ],
   "source": [
    "filtered_df1 = traindf.loc[(traindf['Outlet_Size'].isna() &(traindf['Outlet_Type'] == 'Supermarket Type3') & (traindf['Outlet_Location_Type'] == 'Tier 3'))]\n",
    "filtered_df1"
   ]
  },
  {
   "cell_type": "code",
   "execution_count": 29,
   "id": "1b832fb8",
   "metadata": {},
   "outputs": [
    {
     "data": {
      "text/html": [
       "<div>\n",
       "<style scoped>\n",
       "    .dataframe tbody tr th:only-of-type {\n",
       "        vertical-align: middle;\n",
       "    }\n",
       "\n",
       "    .dataframe tbody tr th {\n",
       "        vertical-align: top;\n",
       "    }\n",
       "\n",
       "    .dataframe thead th {\n",
       "        text-align: right;\n",
       "    }\n",
       "</style>\n",
       "<table border=\"1\" class=\"dataframe\">\n",
       "  <thead>\n",
       "    <tr style=\"text-align: right;\">\n",
       "      <th></th>\n",
       "      <th>Item_Identifier</th>\n",
       "      <th>Item_Weight</th>\n",
       "      <th>Item_Fat_Content</th>\n",
       "      <th>Item_Visibility</th>\n",
       "      <th>Item_Type</th>\n",
       "      <th>Item_MRP</th>\n",
       "      <th>Outlet_Identifier</th>\n",
       "      <th>Outlet_Establishment_Year</th>\n",
       "      <th>Outlet_Size</th>\n",
       "      <th>Outlet_Location_Type</th>\n",
       "      <th>Outlet_Type</th>\n",
       "      <th>Item_Outlet_Sales</th>\n",
       "    </tr>\n",
       "  </thead>\n",
       "  <tbody>\n",
       "    <tr>\n",
       "      <th>3</th>\n",
       "      <td>FDX07</td>\n",
       "      <td>19.200</td>\n",
       "      <td>Regular</td>\n",
       "      <td>0.000000</td>\n",
       "      <td>Fruits and Vegetables</td>\n",
       "      <td>182.0950</td>\n",
       "      <td>OUT010</td>\n",
       "      <td>1998</td>\n",
       "      <td>NaN</td>\n",
       "      <td>Tier 3</td>\n",
       "      <td>Grocery Store</td>\n",
       "      <td>732.3800</td>\n",
       "    </tr>\n",
       "    <tr>\n",
       "      <th>8</th>\n",
       "      <td>FDH17</td>\n",
       "      <td>16.200</td>\n",
       "      <td>Regular</td>\n",
       "      <td>0.016687</td>\n",
       "      <td>Frozen Foods</td>\n",
       "      <td>96.9726</td>\n",
       "      <td>OUT045</td>\n",
       "      <td>2002</td>\n",
       "      <td>Small</td>\n",
       "      <td>Tier 2</td>\n",
       "      <td>Supermarket Type1</td>\n",
       "      <td>1076.5986</td>\n",
       "    </tr>\n",
       "    <tr>\n",
       "      <th>9</th>\n",
       "      <td>FDU28</td>\n",
       "      <td>19.200</td>\n",
       "      <td>Regular</td>\n",
       "      <td>0.094450</td>\n",
       "      <td>Frozen Foods</td>\n",
       "      <td>187.8214</td>\n",
       "      <td>OUT017</td>\n",
       "      <td>2007</td>\n",
       "      <td>Small</td>\n",
       "      <td>Tier 2</td>\n",
       "      <td>Supermarket Type1</td>\n",
       "      <td>4710.5350</td>\n",
       "    </tr>\n",
       "    <tr>\n",
       "      <th>25</th>\n",
       "      <td>NCD06</td>\n",
       "      <td>13.000</td>\n",
       "      <td>Low Fat</td>\n",
       "      <td>0.099887</td>\n",
       "      <td>Household</td>\n",
       "      <td>45.9060</td>\n",
       "      <td>OUT017</td>\n",
       "      <td>2007</td>\n",
       "      <td>Small</td>\n",
       "      <td>Tier 2</td>\n",
       "      <td>Supermarket Type1</td>\n",
       "      <td>838.9080</td>\n",
       "    </tr>\n",
       "    <tr>\n",
       "      <th>28</th>\n",
       "      <td>FDE51</td>\n",
       "      <td>5.925</td>\n",
       "      <td>Regular</td>\n",
       "      <td>0.161467</td>\n",
       "      <td>Dairy</td>\n",
       "      <td>45.5086</td>\n",
       "      <td>OUT010</td>\n",
       "      <td>1998</td>\n",
       "      <td>NaN</td>\n",
       "      <td>Tier 3</td>\n",
       "      <td>Grocery Store</td>\n",
       "      <td>178.4344</td>\n",
       "    </tr>\n",
       "    <tr>\n",
       "      <th>...</th>\n",
       "      <td>...</td>\n",
       "      <td>...</td>\n",
       "      <td>...</td>\n",
       "      <td>...</td>\n",
       "      <td>...</td>\n",
       "      <td>...</td>\n",
       "      <td>...</td>\n",
       "      <td>...</td>\n",
       "      <td>...</td>\n",
       "      <td>...</td>\n",
       "      <td>...</td>\n",
       "      <td>...</td>\n",
       "    </tr>\n",
       "    <tr>\n",
       "      <th>8502</th>\n",
       "      <td>NCH43</td>\n",
       "      <td>8.420</td>\n",
       "      <td>Low Fat</td>\n",
       "      <td>0.070712</td>\n",
       "      <td>Household</td>\n",
       "      <td>216.4192</td>\n",
       "      <td>OUT045</td>\n",
       "      <td>2002</td>\n",
       "      <td>Small</td>\n",
       "      <td>Tier 2</td>\n",
       "      <td>Supermarket Type1</td>\n",
       "      <td>3020.0688</td>\n",
       "    </tr>\n",
       "    <tr>\n",
       "      <th>8508</th>\n",
       "      <td>FDW31</td>\n",
       "      <td>11.350</td>\n",
       "      <td>Regular</td>\n",
       "      <td>0.043246</td>\n",
       "      <td>Fruits and Vegetables</td>\n",
       "      <td>199.4742</td>\n",
       "      <td>OUT045</td>\n",
       "      <td>2002</td>\n",
       "      <td>Small</td>\n",
       "      <td>Tier 2</td>\n",
       "      <td>Supermarket Type1</td>\n",
       "      <td>2587.9646</td>\n",
       "    </tr>\n",
       "    <tr>\n",
       "      <th>8509</th>\n",
       "      <td>FDG45</td>\n",
       "      <td>8.100</td>\n",
       "      <td>Low Fat</td>\n",
       "      <td>0.214306</td>\n",
       "      <td>Fruits and Vegetables</td>\n",
       "      <td>213.9902</td>\n",
       "      <td>OUT010</td>\n",
       "      <td>1998</td>\n",
       "      <td>NaN</td>\n",
       "      <td>Tier 3</td>\n",
       "      <td>Grocery Store</td>\n",
       "      <td>424.7804</td>\n",
       "    </tr>\n",
       "    <tr>\n",
       "      <th>8514</th>\n",
       "      <td>FDA01</td>\n",
       "      <td>15.000</td>\n",
       "      <td>Regular</td>\n",
       "      <td>0.054489</td>\n",
       "      <td>Canned</td>\n",
       "      <td>57.5904</td>\n",
       "      <td>OUT045</td>\n",
       "      <td>2002</td>\n",
       "      <td>Small</td>\n",
       "      <td>Tier 2</td>\n",
       "      <td>Supermarket Type1</td>\n",
       "      <td>468.7232</td>\n",
       "    </tr>\n",
       "    <tr>\n",
       "      <th>8519</th>\n",
       "      <td>FDS36</td>\n",
       "      <td>8.380</td>\n",
       "      <td>Regular</td>\n",
       "      <td>0.046982</td>\n",
       "      <td>Baking Goods</td>\n",
       "      <td>108.1570</td>\n",
       "      <td>OUT045</td>\n",
       "      <td>2002</td>\n",
       "      <td>Small</td>\n",
       "      <td>Tier 2</td>\n",
       "      <td>Supermarket Type1</td>\n",
       "      <td>549.2850</td>\n",
       "    </tr>\n",
       "  </tbody>\n",
       "</table>\n",
       "<p>2410 rows × 12 columns</p>\n",
       "</div>"
      ],
      "text/plain": [
       "     Item_Identifier  Item_Weight Item_Fat_Content  Item_Visibility  \\\n",
       "3              FDX07       19.200          Regular         0.000000   \n",
       "8              FDH17       16.200          Regular         0.016687   \n",
       "9              FDU28       19.200          Regular         0.094450   \n",
       "25             NCD06       13.000          Low Fat         0.099887   \n",
       "28             FDE51        5.925          Regular         0.161467   \n",
       "...              ...          ...              ...              ...   \n",
       "8502           NCH43        8.420          Low Fat         0.070712   \n",
       "8508           FDW31       11.350          Regular         0.043246   \n",
       "8509           FDG45        8.100          Low Fat         0.214306   \n",
       "8514           FDA01       15.000          Regular         0.054489   \n",
       "8519           FDS36        8.380          Regular         0.046982   \n",
       "\n",
       "                  Item_Type  Item_MRP Outlet_Identifier  \\\n",
       "3     Fruits and Vegetables  182.0950            OUT010   \n",
       "8              Frozen Foods   96.9726            OUT045   \n",
       "9              Frozen Foods  187.8214            OUT017   \n",
       "25                Household   45.9060            OUT017   \n",
       "28                    Dairy   45.5086            OUT010   \n",
       "...                     ...       ...               ...   \n",
       "8502              Household  216.4192            OUT045   \n",
       "8508  Fruits and Vegetables  199.4742            OUT045   \n",
       "8509  Fruits and Vegetables  213.9902            OUT010   \n",
       "8514                 Canned   57.5904            OUT045   \n",
       "8519           Baking Goods  108.1570            OUT045   \n",
       "\n",
       "      Outlet_Establishment_Year Outlet_Size Outlet_Location_Type  \\\n",
       "3                          1998         NaN               Tier 3   \n",
       "8                          2002       Small               Tier 2   \n",
       "9                          2007       Small               Tier 2   \n",
       "25                         2007       Small               Tier 2   \n",
       "28                         1998         NaN               Tier 3   \n",
       "...                         ...         ...                  ...   \n",
       "8502                       2002       Small               Tier 2   \n",
       "8508                       2002       Small               Tier 2   \n",
       "8509                       1998         NaN               Tier 3   \n",
       "8514                       2002       Small               Tier 2   \n",
       "8519                       2002       Small               Tier 2   \n",
       "\n",
       "            Outlet_Type  Item_Outlet_Sales  \n",
       "3         Grocery Store           732.3800  \n",
       "8     Supermarket Type1          1076.5986  \n",
       "9     Supermarket Type1          4710.5350  \n",
       "25    Supermarket Type1           838.9080  \n",
       "28        Grocery Store           178.4344  \n",
       "...                 ...                ...  \n",
       "8502  Supermarket Type1          3020.0688  \n",
       "8508  Supermarket Type1          2587.9646  \n",
       "8509      Grocery Store           424.7804  \n",
       "8514  Supermarket Type1           468.7232  \n",
       "8519  Supermarket Type1           549.2850  \n",
       "\n",
       "[2410 rows x 12 columns]"
      ]
     },
     "execution_count": 29,
     "metadata": {},
     "output_type": "execute_result"
    }
   ],
   "source": [
    "traindf.loc[df.isnull().any(axis=1)]"
   ]
  },
  {
   "cell_type": "code",
   "execution_count": 30,
   "id": "4efe754f",
   "metadata": {},
   "outputs": [
    {
     "data": {
      "text/html": [
       "<div>\n",
       "<style scoped>\n",
       "    .dataframe tbody tr th:only-of-type {\n",
       "        vertical-align: middle;\n",
       "    }\n",
       "\n",
       "    .dataframe tbody tr th {\n",
       "        vertical-align: top;\n",
       "    }\n",
       "\n",
       "    .dataframe thead th {\n",
       "        text-align: right;\n",
       "    }\n",
       "</style>\n",
       "<table border=\"1\" class=\"dataframe\">\n",
       "  <thead>\n",
       "    <tr style=\"text-align: right;\">\n",
       "      <th></th>\n",
       "      <th>Item_Identifier</th>\n",
       "      <th>Item_Weight</th>\n",
       "      <th>Item_Fat_Content</th>\n",
       "      <th>Item_Visibility</th>\n",
       "      <th>Item_Type</th>\n",
       "      <th>Item_MRP</th>\n",
       "      <th>Outlet_Identifier</th>\n",
       "      <th>Outlet_Establishment_Year</th>\n",
       "      <th>Outlet_Size</th>\n",
       "      <th>Outlet_Location_Type</th>\n",
       "      <th>Outlet_Type</th>\n",
       "      <th>Item_Outlet_Sales</th>\n",
       "    </tr>\n",
       "  </thead>\n",
       "  <tbody>\n",
       "    <tr>\n",
       "      <th>3</th>\n",
       "      <td>FDX07</td>\n",
       "      <td>19.200</td>\n",
       "      <td>Regular</td>\n",
       "      <td>0.000000</td>\n",
       "      <td>Fruits and Vegetables</td>\n",
       "      <td>182.0950</td>\n",
       "      <td>OUT010</td>\n",
       "      <td>1998</td>\n",
       "      <td>NaN</td>\n",
       "      <td>Tier 3</td>\n",
       "      <td>Grocery Store</td>\n",
       "      <td>732.3800</td>\n",
       "    </tr>\n",
       "    <tr>\n",
       "      <th>28</th>\n",
       "      <td>FDE51</td>\n",
       "      <td>5.925</td>\n",
       "      <td>Regular</td>\n",
       "      <td>0.161467</td>\n",
       "      <td>Dairy</td>\n",
       "      <td>45.5086</td>\n",
       "      <td>OUT010</td>\n",
       "      <td>1998</td>\n",
       "      <td>NaN</td>\n",
       "      <td>Tier 3</td>\n",
       "      <td>Grocery Store</td>\n",
       "      <td>178.4344</td>\n",
       "    </tr>\n",
       "    <tr>\n",
       "      <th>30</th>\n",
       "      <td>FDV38</td>\n",
       "      <td>19.250</td>\n",
       "      <td>Low Fat</td>\n",
       "      <td>0.170349</td>\n",
       "      <td>Dairy</td>\n",
       "      <td>55.7956</td>\n",
       "      <td>OUT010</td>\n",
       "      <td>1998</td>\n",
       "      <td>NaN</td>\n",
       "      <td>Tier 3</td>\n",
       "      <td>Grocery Store</td>\n",
       "      <td>163.7868</td>\n",
       "    </tr>\n",
       "    <tr>\n",
       "      <th>45</th>\n",
       "      <td>FDM39</td>\n",
       "      <td>6.420</td>\n",
       "      <td>LF</td>\n",
       "      <td>0.089499</td>\n",
       "      <td>Dairy</td>\n",
       "      <td>178.1002</td>\n",
       "      <td>OUT010</td>\n",
       "      <td>1998</td>\n",
       "      <td>NaN</td>\n",
       "      <td>Tier 3</td>\n",
       "      <td>Grocery Store</td>\n",
       "      <td>358.2004</td>\n",
       "    </tr>\n",
       "    <tr>\n",
       "      <th>65</th>\n",
       "      <td>FDC46</td>\n",
       "      <td>17.700</td>\n",
       "      <td>LF</td>\n",
       "      <td>0.195068</td>\n",
       "      <td>Snack Foods</td>\n",
       "      <td>185.4266</td>\n",
       "      <td>OUT010</td>\n",
       "      <td>1998</td>\n",
       "      <td>NaN</td>\n",
       "      <td>Tier 3</td>\n",
       "      <td>Grocery Store</td>\n",
       "      <td>184.4266</td>\n",
       "    </tr>\n",
       "    <tr>\n",
       "      <th>...</th>\n",
       "      <td>...</td>\n",
       "      <td>...</td>\n",
       "      <td>...</td>\n",
       "      <td>...</td>\n",
       "      <td>...</td>\n",
       "      <td>...</td>\n",
       "      <td>...</td>\n",
       "      <td>...</td>\n",
       "      <td>...</td>\n",
       "      <td>...</td>\n",
       "      <td>...</td>\n",
       "      <td>...</td>\n",
       "    </tr>\n",
       "    <tr>\n",
       "      <th>8400</th>\n",
       "      <td>NCE07</td>\n",
       "      <td>8.180</td>\n",
       "      <td>Low Fat</td>\n",
       "      <td>0.021977</td>\n",
       "      <td>Household</td>\n",
       "      <td>140.6154</td>\n",
       "      <td>OUT010</td>\n",
       "      <td>1998</td>\n",
       "      <td>NaN</td>\n",
       "      <td>Tier 3</td>\n",
       "      <td>Grocery Store</td>\n",
       "      <td>425.4462</td>\n",
       "    </tr>\n",
       "    <tr>\n",
       "      <th>8432</th>\n",
       "      <td>FDI16</td>\n",
       "      <td>14.000</td>\n",
       "      <td>Regular</td>\n",
       "      <td>0.227261</td>\n",
       "      <td>Frozen Foods</td>\n",
       "      <td>54.3640</td>\n",
       "      <td>OUT010</td>\n",
       "      <td>1998</td>\n",
       "      <td>NaN</td>\n",
       "      <td>Tier 3</td>\n",
       "      <td>Grocery Store</td>\n",
       "      <td>159.7920</td>\n",
       "    </tr>\n",
       "    <tr>\n",
       "      <th>8473</th>\n",
       "      <td>DRI47</td>\n",
       "      <td>14.700</td>\n",
       "      <td>Low Fat</td>\n",
       "      <td>0.035016</td>\n",
       "      <td>Hard Drinks</td>\n",
       "      <td>144.3128</td>\n",
       "      <td>OUT010</td>\n",
       "      <td>1998</td>\n",
       "      <td>NaN</td>\n",
       "      <td>Tier 3</td>\n",
       "      <td>Grocery Store</td>\n",
       "      <td>431.4384</td>\n",
       "    </tr>\n",
       "    <tr>\n",
       "      <th>8486</th>\n",
       "      <td>FDR20</td>\n",
       "      <td>20.000</td>\n",
       "      <td>Regular</td>\n",
       "      <td>0.000000</td>\n",
       "      <td>Fruits and Vegetables</td>\n",
       "      <td>46.4744</td>\n",
       "      <td>OUT010</td>\n",
       "      <td>1998</td>\n",
       "      <td>NaN</td>\n",
       "      <td>Tier 3</td>\n",
       "      <td>Grocery Store</td>\n",
       "      <td>45.2744</td>\n",
       "    </tr>\n",
       "    <tr>\n",
       "      <th>8509</th>\n",
       "      <td>FDG45</td>\n",
       "      <td>8.100</td>\n",
       "      <td>Low Fat</td>\n",
       "      <td>0.214306</td>\n",
       "      <td>Fruits and Vegetables</td>\n",
       "      <td>213.9902</td>\n",
       "      <td>OUT010</td>\n",
       "      <td>1998</td>\n",
       "      <td>NaN</td>\n",
       "      <td>Tier 3</td>\n",
       "      <td>Grocery Store</td>\n",
       "      <td>424.7804</td>\n",
       "    </tr>\n",
       "  </tbody>\n",
       "</table>\n",
       "<p>555 rows × 12 columns</p>\n",
       "</div>"
      ],
      "text/plain": [
       "     Item_Identifier  Item_Weight Item_Fat_Content  Item_Visibility  \\\n",
       "3              FDX07       19.200          Regular         0.000000   \n",
       "28             FDE51        5.925          Regular         0.161467   \n",
       "30             FDV38       19.250          Low Fat         0.170349   \n",
       "45             FDM39        6.420               LF         0.089499   \n",
       "65             FDC46       17.700               LF         0.195068   \n",
       "...              ...          ...              ...              ...   \n",
       "8400           NCE07        8.180          Low Fat         0.021977   \n",
       "8432           FDI16       14.000          Regular         0.227261   \n",
       "8473           DRI47       14.700          Low Fat         0.035016   \n",
       "8486           FDR20       20.000          Regular         0.000000   \n",
       "8509           FDG45        8.100          Low Fat         0.214306   \n",
       "\n",
       "                  Item_Type  Item_MRP Outlet_Identifier  \\\n",
       "3     Fruits and Vegetables  182.0950            OUT010   \n",
       "28                    Dairy   45.5086            OUT010   \n",
       "30                    Dairy   55.7956            OUT010   \n",
       "45                    Dairy  178.1002            OUT010   \n",
       "65              Snack Foods  185.4266            OUT010   \n",
       "...                     ...       ...               ...   \n",
       "8400              Household  140.6154            OUT010   \n",
       "8432           Frozen Foods   54.3640            OUT010   \n",
       "8473            Hard Drinks  144.3128            OUT010   \n",
       "8486  Fruits and Vegetables   46.4744            OUT010   \n",
       "8509  Fruits and Vegetables  213.9902            OUT010   \n",
       "\n",
       "      Outlet_Establishment_Year Outlet_Size Outlet_Location_Type  \\\n",
       "3                          1998         NaN               Tier 3   \n",
       "28                         1998         NaN               Tier 3   \n",
       "30                         1998         NaN               Tier 3   \n",
       "45                         1998         NaN               Tier 3   \n",
       "65                         1998         NaN               Tier 3   \n",
       "...                         ...         ...                  ...   \n",
       "8400                       1998         NaN               Tier 3   \n",
       "8432                       1998         NaN               Tier 3   \n",
       "8473                       1998         NaN               Tier 3   \n",
       "8486                       1998         NaN               Tier 3   \n",
       "8509                       1998         NaN               Tier 3   \n",
       "\n",
       "        Outlet_Type  Item_Outlet_Sales  \n",
       "3     Grocery Store           732.3800  \n",
       "28    Grocery Store           178.4344  \n",
       "30    Grocery Store           163.7868  \n",
       "45    Grocery Store           358.2004  \n",
       "65    Grocery Store           184.4266  \n",
       "...             ...                ...  \n",
       "8400  Grocery Store           425.4462  \n",
       "8432  Grocery Store           159.7920  \n",
       "8473  Grocery Store           431.4384  \n",
       "8486  Grocery Store            45.2744  \n",
       "8509  Grocery Store           424.7804  \n",
       "\n",
       "[555 rows x 12 columns]"
      ]
     },
     "execution_count": 30,
     "metadata": {},
     "output_type": "execute_result"
    }
   ],
   "source": [
    "filtered_df1 = traindf.loc[(traindf['Outlet_Size'].isna() &(traindf['Outlet_Type'] == 'Grocery Store') & (traindf['Outlet_Location_Type'] == 'Tier 3'))]\n",
    "filtered_df1"
   ]
  },
  {
   "cell_type": "code",
   "execution_count": 31,
   "id": "0bcfd77a",
   "metadata": {},
   "outputs": [],
   "source": [
    "missing_value_indices=filtered_df1.index"
   ]
  },
  {
   "cell_type": "code",
   "execution_count": 32,
   "id": "e5a6b446",
   "metadata": {},
   "outputs": [],
   "source": [
    "traindf.loc[missing_value_indices] = traindf.loc[missing_value_indices].fillna('Small')"
   ]
  },
  {
   "cell_type": "code",
   "execution_count": 33,
   "id": "fbd2e6a1",
   "metadata": {},
   "outputs": [
    {
     "data": {
      "text/plain": [
       "Item_Identifier              0\n",
       "Item_Weight                  0\n",
       "Item_Fat_Content             0\n",
       "Item_Visibility              0\n",
       "Item_Type                    0\n",
       "Item_MRP                     0\n",
       "Outlet_Identifier            0\n",
       "Outlet_Establishment_Year    0\n",
       "Outlet_Size                  0\n",
       "Outlet_Location_Type         0\n",
       "Outlet_Type                  0\n",
       "Item_Outlet_Sales            0\n",
       "dtype: int64"
      ]
     },
     "execution_count": 33,
     "metadata": {},
     "output_type": "execute_result"
    }
   ],
   "source": [
    "traindf.isna().sum()"
   ]
  },
  {
   "cell_type": "code",
   "execution_count": 34,
   "id": "09c9fc35",
   "metadata": {},
   "outputs": [
    {
     "data": {
      "text/plain": [
       "Item_Identifier                 0\n",
       "Item_Weight                   976\n",
       "Item_Fat_Content                0\n",
       "Item_Visibility                 0\n",
       "Item_Type                       0\n",
       "Item_MRP                        0\n",
       "Outlet_Identifier               0\n",
       "Outlet_Establishment_Year       0\n",
       "Outlet_Size                  1606\n",
       "Outlet_Location_Type            0\n",
       "Outlet_Type                     0\n",
       "dtype: int64"
      ]
     },
     "execution_count": 34,
     "metadata": {},
     "output_type": "execute_result"
    }
   ],
   "source": [
    "#checking the presence of the missing values in testing data\n",
    "testdf.isna().sum()"
   ]
  },
  {
   "cell_type": "code",
   "execution_count": 35,
   "id": "ee533c3c",
   "metadata": {},
   "outputs": [],
   "source": [
    "#handlling missing values in Item_Weight in test data\n",
    "testdf['Item_Weight'].fillna(testdf.groupby('Item_Type')['Item_Weight'].transform('median'),inplace=True) "
   ]
  },
  {
   "cell_type": "code",
   "execution_count": 36,
   "id": "f424fcbb",
   "metadata": {},
   "outputs": [
    {
     "data": {
      "text/plain": [
       "Item_Identifier                 0\n",
       "Item_Weight                     0\n",
       "Item_Fat_Content                0\n",
       "Item_Visibility                 0\n",
       "Item_Type                       0\n",
       "Item_MRP                        0\n",
       "Outlet_Identifier               0\n",
       "Outlet_Establishment_Year       0\n",
       "Outlet_Size                  1606\n",
       "Outlet_Location_Type            0\n",
       "Outlet_Type                     0\n",
       "dtype: int64"
      ]
     },
     "execution_count": 36,
     "metadata": {},
     "output_type": "execute_result"
    }
   ],
   "source": [
    "testdf.isna().sum()"
   ]
  },
  {
   "cell_type": "code",
   "execution_count": 37,
   "id": "9512e3a1",
   "metadata": {},
   "outputs": [
    {
     "data": {
      "text/plain": [
       "Outlet_Location_Type  Outlet_Type        Outlet_Size\n",
       "Tier 1                Grocery Store      Small          352\n",
       "                      Supermarket Type1  Medium         620\n",
       "                                         Small          620\n",
       "Tier 2                Supermarket Type1  Small          620\n",
       "Tier 3                Supermarket Type1  High           621\n",
       "                      Supermarket Type2  Medium         618\n",
       "                      Supermarket Type3  Medium         624\n",
       "Name: Outlet_Size, dtype: int64"
      ]
     },
     "execution_count": 37,
     "metadata": {},
     "output_type": "execute_result"
    }
   ],
   "source": [
    "testdf.groupby(['Outlet_Location_Type','Outlet_Type'])['Outlet_Size'].value_counts()"
   ]
  },
  {
   "cell_type": "code",
   "execution_count": 38,
   "id": "f8c19ef3",
   "metadata": {},
   "outputs": [
    {
     "data": {
      "text/html": [
       "<div>\n",
       "<style scoped>\n",
       "    .dataframe tbody tr th:only-of-type {\n",
       "        vertical-align: middle;\n",
       "    }\n",
       "\n",
       "    .dataframe tbody tr th {\n",
       "        vertical-align: top;\n",
       "    }\n",
       "\n",
       "    .dataframe thead th {\n",
       "        text-align: right;\n",
       "    }\n",
       "</style>\n",
       "<table border=\"1\" class=\"dataframe\">\n",
       "  <thead>\n",
       "    <tr style=\"text-align: right;\">\n",
       "      <th></th>\n",
       "      <th>Item_Identifier</th>\n",
       "      <th>Item_Weight</th>\n",
       "      <th>Item_Fat_Content</th>\n",
       "      <th>Item_Visibility</th>\n",
       "      <th>Item_Type</th>\n",
       "      <th>Item_MRP</th>\n",
       "      <th>Outlet_Identifier</th>\n",
       "      <th>Outlet_Establishment_Year</th>\n",
       "      <th>Outlet_Size</th>\n",
       "      <th>Outlet_Location_Type</th>\n",
       "      <th>Outlet_Type</th>\n",
       "    </tr>\n",
       "  </thead>\n",
       "  <tbody>\n",
       "  </tbody>\n",
       "</table>\n",
       "</div>"
      ],
      "text/plain": [
       "Empty DataFrame\n",
       "Columns: [Item_Identifier, Item_Weight, Item_Fat_Content, Item_Visibility, Item_Type, Item_MRP, Outlet_Identifier, Outlet_Establishment_Year, Outlet_Size, Outlet_Location_Type, Outlet_Type]\n",
       "Index: []"
      ]
     },
     "execution_count": 38,
     "metadata": {},
     "output_type": "execute_result"
    }
   ],
   "source": [
    "filtered_df = testdf.loc[(testdf['Outlet_Size'].isna() &(testdf['Outlet_Type'] == 'Grocery Store') & (testdf['Outlet_Location_Type'] == 'Tier 1'))]\n",
    "filtered_df"
   ]
  },
  {
   "cell_type": "code",
   "execution_count": 39,
   "id": "b21ec111",
   "metadata": {},
   "outputs": [],
   "source": [
    "missing_index=filtered_df.index"
   ]
  },
  {
   "cell_type": "code",
   "execution_count": 40,
   "id": "874d3fd2",
   "metadata": {},
   "outputs": [],
   "source": [
    "testdf.loc[missing_index] = testdf.loc[missing_index].fillna('Small')"
   ]
  },
  {
   "cell_type": "code",
   "execution_count": 41,
   "id": "ddad3645",
   "metadata": {},
   "outputs": [
    {
     "data": {
      "text/html": [
       "<div>\n",
       "<style scoped>\n",
       "    .dataframe tbody tr th:only-of-type {\n",
       "        vertical-align: middle;\n",
       "    }\n",
       "\n",
       "    .dataframe tbody tr th {\n",
       "        vertical-align: top;\n",
       "    }\n",
       "\n",
       "    .dataframe thead th {\n",
       "        text-align: right;\n",
       "    }\n",
       "</style>\n",
       "<table border=\"1\" class=\"dataframe\">\n",
       "  <thead>\n",
       "    <tr style=\"text-align: right;\">\n",
       "      <th></th>\n",
       "      <th>Item_Identifier</th>\n",
       "      <th>Item_Weight</th>\n",
       "      <th>Item_Fat_Content</th>\n",
       "      <th>Item_Visibility</th>\n",
       "      <th>Item_Type</th>\n",
       "      <th>Item_MRP</th>\n",
       "      <th>Outlet_Identifier</th>\n",
       "      <th>Outlet_Establishment_Year</th>\n",
       "      <th>Outlet_Size</th>\n",
       "      <th>Outlet_Location_Type</th>\n",
       "      <th>Outlet_Type</th>\n",
       "    </tr>\n",
       "  </thead>\n",
       "  <tbody>\n",
       "  </tbody>\n",
       "</table>\n",
       "</div>"
      ],
      "text/plain": [
       "Empty DataFrame\n",
       "Columns: [Item_Identifier, Item_Weight, Item_Fat_Content, Item_Visibility, Item_Type, Item_MRP, Outlet_Identifier, Outlet_Establishment_Year, Outlet_Size, Outlet_Location_Type, Outlet_Type]\n",
       "Index: []"
      ]
     },
     "execution_count": 41,
     "metadata": {},
     "output_type": "execute_result"
    }
   ],
   "source": [
    "filtered_df = testdf.loc[(testdf['Outlet_Size'].isna() &(testdf['Outlet_Type'] == 'Supermarket Type1') & (testdf['Outlet_Location_Type'] == 'Tier 1'))]\n",
    "filtered_df"
   ]
  },
  {
   "cell_type": "code",
   "execution_count": 42,
   "id": "e0d8b534",
   "metadata": {},
   "outputs": [],
   "source": [
    "missing_index=filtered_df.index"
   ]
  },
  {
   "cell_type": "code",
   "execution_count": 43,
   "id": "a4c1877f",
   "metadata": {},
   "outputs": [],
   "source": [
    "testdf.loc[missing_index] = testdf.loc[missing_index].fillna('Medium')"
   ]
  },
  {
   "cell_type": "code",
   "execution_count": 44,
   "id": "f4153301",
   "metadata": {},
   "outputs": [
    {
     "data": {
      "text/html": [
       "<div>\n",
       "<style scoped>\n",
       "    .dataframe tbody tr th:only-of-type {\n",
       "        vertical-align: middle;\n",
       "    }\n",
       "\n",
       "    .dataframe tbody tr th {\n",
       "        vertical-align: top;\n",
       "    }\n",
       "\n",
       "    .dataframe thead th {\n",
       "        text-align: right;\n",
       "    }\n",
       "</style>\n",
       "<table border=\"1\" class=\"dataframe\">\n",
       "  <thead>\n",
       "    <tr style=\"text-align: right;\">\n",
       "      <th></th>\n",
       "      <th>Item_Identifier</th>\n",
       "      <th>Item_Weight</th>\n",
       "      <th>Item_Fat_Content</th>\n",
       "      <th>Item_Visibility</th>\n",
       "      <th>Item_Type</th>\n",
       "      <th>Item_MRP</th>\n",
       "      <th>Outlet_Identifier</th>\n",
       "      <th>Outlet_Establishment_Year</th>\n",
       "      <th>Outlet_Size</th>\n",
       "      <th>Outlet_Location_Type</th>\n",
       "      <th>Outlet_Type</th>\n",
       "    </tr>\n",
       "  </thead>\n",
       "  <tbody>\n",
       "    <tr>\n",
       "      <th>1</th>\n",
       "      <td>FDW14</td>\n",
       "      <td>8.300</td>\n",
       "      <td>reg</td>\n",
       "      <td>0.038428</td>\n",
       "      <td>Dairy</td>\n",
       "      <td>87.3198</td>\n",
       "      <td>OUT017</td>\n",
       "      <td>2007</td>\n",
       "      <td>NaN</td>\n",
       "      <td>Tier 2</td>\n",
       "      <td>Supermarket Type1</td>\n",
       "    </tr>\n",
       "    <tr>\n",
       "      <th>3</th>\n",
       "      <td>FDQ58</td>\n",
       "      <td>7.315</td>\n",
       "      <td>Low Fat</td>\n",
       "      <td>0.015388</td>\n",
       "      <td>Snack Foods</td>\n",
       "      <td>155.0340</td>\n",
       "      <td>OUT017</td>\n",
       "      <td>2007</td>\n",
       "      <td>NaN</td>\n",
       "      <td>Tier 2</td>\n",
       "      <td>Supermarket Type1</td>\n",
       "    </tr>\n",
       "    <tr>\n",
       "      <th>8</th>\n",
       "      <td>FDN33</td>\n",
       "      <td>6.305</td>\n",
       "      <td>Regular</td>\n",
       "      <td>0.123365</td>\n",
       "      <td>Snack Foods</td>\n",
       "      <td>95.7436</td>\n",
       "      <td>OUT045</td>\n",
       "      <td>2002</td>\n",
       "      <td>NaN</td>\n",
       "      <td>Tier 2</td>\n",
       "      <td>Supermarket Type1</td>\n",
       "    </tr>\n",
       "    <tr>\n",
       "      <th>9</th>\n",
       "      <td>FDA36</td>\n",
       "      <td>5.985</td>\n",
       "      <td>Low Fat</td>\n",
       "      <td>0.005698</td>\n",
       "      <td>Baking Goods</td>\n",
       "      <td>186.8924</td>\n",
       "      <td>OUT017</td>\n",
       "      <td>2007</td>\n",
       "      <td>NaN</td>\n",
       "      <td>Tier 2</td>\n",
       "      <td>Supermarket Type1</td>\n",
       "    </tr>\n",
       "    <tr>\n",
       "      <th>10</th>\n",
       "      <td>FDT44</td>\n",
       "      <td>16.600</td>\n",
       "      <td>Low Fat</td>\n",
       "      <td>0.103569</td>\n",
       "      <td>Fruits and Vegetables</td>\n",
       "      <td>118.3466</td>\n",
       "      <td>OUT017</td>\n",
       "      <td>2007</td>\n",
       "      <td>NaN</td>\n",
       "      <td>Tier 2</td>\n",
       "      <td>Supermarket Type1</td>\n",
       "    </tr>\n",
       "    <tr>\n",
       "      <th>...</th>\n",
       "      <td>...</td>\n",
       "      <td>...</td>\n",
       "      <td>...</td>\n",
       "      <td>...</td>\n",
       "      <td>...</td>\n",
       "      <td>...</td>\n",
       "      <td>...</td>\n",
       "      <td>...</td>\n",
       "      <td>...</td>\n",
       "      <td>...</td>\n",
       "      <td>...</td>\n",
       "    </tr>\n",
       "    <tr>\n",
       "      <th>5662</th>\n",
       "      <td>FDK22</td>\n",
       "      <td>9.800</td>\n",
       "      <td>Low Fat</td>\n",
       "      <td>0.026234</td>\n",
       "      <td>Snack Foods</td>\n",
       "      <td>214.3850</td>\n",
       "      <td>OUT017</td>\n",
       "      <td>2007</td>\n",
       "      <td>NaN</td>\n",
       "      <td>Tier 2</td>\n",
       "      <td>Supermarket Type1</td>\n",
       "    </tr>\n",
       "    <tr>\n",
       "      <th>5670</th>\n",
       "      <td>FDO03</td>\n",
       "      <td>10.395</td>\n",
       "      <td>Regular</td>\n",
       "      <td>0.037092</td>\n",
       "      <td>Meat</td>\n",
       "      <td>229.4352</td>\n",
       "      <td>OUT017</td>\n",
       "      <td>2007</td>\n",
       "      <td>NaN</td>\n",
       "      <td>Tier 2</td>\n",
       "      <td>Supermarket Type1</td>\n",
       "    </tr>\n",
       "    <tr>\n",
       "      <th>5678</th>\n",
       "      <td>NCO17</td>\n",
       "      <td>10.000</td>\n",
       "      <td>Low Fat</td>\n",
       "      <td>0.073529</td>\n",
       "      <td>Health and Hygiene</td>\n",
       "      <td>118.7440</td>\n",
       "      <td>OUT045</td>\n",
       "      <td>2002</td>\n",
       "      <td>NaN</td>\n",
       "      <td>Tier 2</td>\n",
       "      <td>Supermarket Type1</td>\n",
       "    </tr>\n",
       "    <tr>\n",
       "      <th>5679</th>\n",
       "      <td>FDJ26</td>\n",
       "      <td>15.300</td>\n",
       "      <td>Regular</td>\n",
       "      <td>0.000000</td>\n",
       "      <td>Canned</td>\n",
       "      <td>214.6218</td>\n",
       "      <td>OUT017</td>\n",
       "      <td>2007</td>\n",
       "      <td>NaN</td>\n",
       "      <td>Tier 2</td>\n",
       "      <td>Supermarket Type1</td>\n",
       "    </tr>\n",
       "    <tr>\n",
       "      <th>5680</th>\n",
       "      <td>FDU37</td>\n",
       "      <td>9.500</td>\n",
       "      <td>Regular</td>\n",
       "      <td>0.104720</td>\n",
       "      <td>Canned</td>\n",
       "      <td>79.7960</td>\n",
       "      <td>OUT045</td>\n",
       "      <td>2002</td>\n",
       "      <td>NaN</td>\n",
       "      <td>Tier 2</td>\n",
       "      <td>Supermarket Type1</td>\n",
       "    </tr>\n",
       "  </tbody>\n",
       "</table>\n",
       "<p>1236 rows × 11 columns</p>\n",
       "</div>"
      ],
      "text/plain": [
       "     Item_Identifier  Item_Weight Item_Fat_Content  Item_Visibility  \\\n",
       "1              FDW14        8.300              reg         0.038428   \n",
       "3              FDQ58        7.315          Low Fat         0.015388   \n",
       "8              FDN33        6.305          Regular         0.123365   \n",
       "9              FDA36        5.985          Low Fat         0.005698   \n",
       "10             FDT44       16.600          Low Fat         0.103569   \n",
       "...              ...          ...              ...              ...   \n",
       "5662           FDK22        9.800          Low Fat         0.026234   \n",
       "5670           FDO03       10.395          Regular         0.037092   \n",
       "5678           NCO17       10.000          Low Fat         0.073529   \n",
       "5679           FDJ26       15.300          Regular         0.000000   \n",
       "5680           FDU37        9.500          Regular         0.104720   \n",
       "\n",
       "                  Item_Type  Item_MRP Outlet_Identifier  \\\n",
       "1                     Dairy   87.3198            OUT017   \n",
       "3               Snack Foods  155.0340            OUT017   \n",
       "8               Snack Foods   95.7436            OUT045   \n",
       "9              Baking Goods  186.8924            OUT017   \n",
       "10    Fruits and Vegetables  118.3466            OUT017   \n",
       "...                     ...       ...               ...   \n",
       "5662            Snack Foods  214.3850            OUT017   \n",
       "5670                   Meat  229.4352            OUT017   \n",
       "5678     Health and Hygiene  118.7440            OUT045   \n",
       "5679                 Canned  214.6218            OUT017   \n",
       "5680                 Canned   79.7960            OUT045   \n",
       "\n",
       "      Outlet_Establishment_Year Outlet_Size Outlet_Location_Type  \\\n",
       "1                          2007         NaN               Tier 2   \n",
       "3                          2007         NaN               Tier 2   \n",
       "8                          2002         NaN               Tier 2   \n",
       "9                          2007         NaN               Tier 2   \n",
       "10                         2007         NaN               Tier 2   \n",
       "...                         ...         ...                  ...   \n",
       "5662                       2007         NaN               Tier 2   \n",
       "5670                       2007         NaN               Tier 2   \n",
       "5678                       2002         NaN               Tier 2   \n",
       "5679                       2007         NaN               Tier 2   \n",
       "5680                       2002         NaN               Tier 2   \n",
       "\n",
       "            Outlet_Type  \n",
       "1     Supermarket Type1  \n",
       "3     Supermarket Type1  \n",
       "8     Supermarket Type1  \n",
       "9     Supermarket Type1  \n",
       "10    Supermarket Type1  \n",
       "...                 ...  \n",
       "5662  Supermarket Type1  \n",
       "5670  Supermarket Type1  \n",
       "5678  Supermarket Type1  \n",
       "5679  Supermarket Type1  \n",
       "5680  Supermarket Type1  \n",
       "\n",
       "[1236 rows x 11 columns]"
      ]
     },
     "execution_count": 44,
     "metadata": {},
     "output_type": "execute_result"
    }
   ],
   "source": [
    "filtered_df = testdf.loc[(testdf['Outlet_Size'].isna() &(testdf['Outlet_Type'] == 'Supermarket Type1') & (testdf['Outlet_Location_Type'] == 'Tier 2'))]\n",
    "filtered_df"
   ]
  },
  {
   "cell_type": "code",
   "execution_count": 45,
   "id": "3f2972da",
   "metadata": {},
   "outputs": [],
   "source": [
    "missing_index=filtered_df.index"
   ]
  },
  {
   "cell_type": "code",
   "execution_count": 46,
   "id": "9be92342",
   "metadata": {},
   "outputs": [],
   "source": [
    "testdf.loc[missing_index] = testdf.loc[missing_index].fillna('Small')"
   ]
  },
  {
   "cell_type": "code",
   "execution_count": 47,
   "id": "c251278b",
   "metadata": {},
   "outputs": [
    {
     "data": {
      "text/html": [
       "<div>\n",
       "<style scoped>\n",
       "    .dataframe tbody tr th:only-of-type {\n",
       "        vertical-align: middle;\n",
       "    }\n",
       "\n",
       "    .dataframe tbody tr th {\n",
       "        vertical-align: top;\n",
       "    }\n",
       "\n",
       "    .dataframe thead th {\n",
       "        text-align: right;\n",
       "    }\n",
       "</style>\n",
       "<table border=\"1\" class=\"dataframe\">\n",
       "  <thead>\n",
       "    <tr style=\"text-align: right;\">\n",
       "      <th></th>\n",
       "      <th>Item_Identifier</th>\n",
       "      <th>Item_Weight</th>\n",
       "      <th>Item_Fat_Content</th>\n",
       "      <th>Item_Visibility</th>\n",
       "      <th>Item_Type</th>\n",
       "      <th>Item_MRP</th>\n",
       "      <th>Outlet_Identifier</th>\n",
       "      <th>Outlet_Establishment_Year</th>\n",
       "      <th>Outlet_Size</th>\n",
       "      <th>Outlet_Location_Type</th>\n",
       "      <th>Outlet_Type</th>\n",
       "    </tr>\n",
       "  </thead>\n",
       "  <tbody>\n",
       "  </tbody>\n",
       "</table>\n",
       "</div>"
      ],
      "text/plain": [
       "Empty DataFrame\n",
       "Columns: [Item_Identifier, Item_Weight, Item_Fat_Content, Item_Visibility, Item_Type, Item_MRP, Outlet_Identifier, Outlet_Establishment_Year, Outlet_Size, Outlet_Location_Type, Outlet_Type]\n",
       "Index: []"
      ]
     },
     "execution_count": 47,
     "metadata": {},
     "output_type": "execute_result"
    }
   ],
   "source": [
    "filtered_df = testdf.loc[(testdf['Outlet_Size'].isna() &(testdf['Outlet_Type'] == 'Supermarket Type1') & (testdf['Outlet_Location_Type'] == 'Tier 3'))]\n",
    "filtered_df"
   ]
  },
  {
   "cell_type": "code",
   "execution_count": 48,
   "id": "d06116c9",
   "metadata": {},
   "outputs": [],
   "source": [
    "missing_index=filtered_df.index"
   ]
  },
  {
   "cell_type": "code",
   "execution_count": 49,
   "id": "39ffe839",
   "metadata": {},
   "outputs": [],
   "source": [
    "testdf.loc[missing_index] = testdf.loc[missing_index].fillna('High')"
   ]
  },
  {
   "cell_type": "code",
   "execution_count": 50,
   "id": "fa95757c",
   "metadata": {},
   "outputs": [
    {
     "data": {
      "text/html": [
       "<div>\n",
       "<style scoped>\n",
       "    .dataframe tbody tr th:only-of-type {\n",
       "        vertical-align: middle;\n",
       "    }\n",
       "\n",
       "    .dataframe tbody tr th {\n",
       "        vertical-align: top;\n",
       "    }\n",
       "\n",
       "    .dataframe thead th {\n",
       "        text-align: right;\n",
       "    }\n",
       "</style>\n",
       "<table border=\"1\" class=\"dataframe\">\n",
       "  <thead>\n",
       "    <tr style=\"text-align: right;\">\n",
       "      <th></th>\n",
       "      <th>Item_Identifier</th>\n",
       "      <th>Item_Weight</th>\n",
       "      <th>Item_Fat_Content</th>\n",
       "      <th>Item_Visibility</th>\n",
       "      <th>Item_Type</th>\n",
       "      <th>Item_MRP</th>\n",
       "      <th>Outlet_Identifier</th>\n",
       "      <th>Outlet_Establishment_Year</th>\n",
       "      <th>Outlet_Size</th>\n",
       "      <th>Outlet_Location_Type</th>\n",
       "      <th>Outlet_Type</th>\n",
       "    </tr>\n",
       "  </thead>\n",
       "  <tbody>\n",
       "  </tbody>\n",
       "</table>\n",
       "</div>"
      ],
      "text/plain": [
       "Empty DataFrame\n",
       "Columns: [Item_Identifier, Item_Weight, Item_Fat_Content, Item_Visibility, Item_Type, Item_MRP, Outlet_Identifier, Outlet_Establishment_Year, Outlet_Size, Outlet_Location_Type, Outlet_Type]\n",
       "Index: []"
      ]
     },
     "execution_count": 50,
     "metadata": {},
     "output_type": "execute_result"
    }
   ],
   "source": [
    "filtered_df = testdf.loc[(testdf['Outlet_Size'].isna() &(testdf['Outlet_Type'] == 'Supermarket Type2') & (testdf['Outlet_Location_Type'] == 'Tier 3'))]\n",
    "filtered_df"
   ]
  },
  {
   "cell_type": "code",
   "execution_count": 51,
   "id": "118f750f",
   "metadata": {},
   "outputs": [],
   "source": [
    "missing_index=filtered_df.index"
   ]
  },
  {
   "cell_type": "code",
   "execution_count": 52,
   "id": "2e026cfa",
   "metadata": {},
   "outputs": [],
   "source": [
    "testdf.loc[missing_index] = testdf.loc[missing_index].fillna('Medium')"
   ]
  },
  {
   "cell_type": "code",
   "execution_count": 53,
   "id": "d2174f0e",
   "metadata": {},
   "outputs": [
    {
     "data": {
      "text/html": [
       "<div>\n",
       "<style scoped>\n",
       "    .dataframe tbody tr th:only-of-type {\n",
       "        vertical-align: middle;\n",
       "    }\n",
       "\n",
       "    .dataframe tbody tr th {\n",
       "        vertical-align: top;\n",
       "    }\n",
       "\n",
       "    .dataframe thead th {\n",
       "        text-align: right;\n",
       "    }\n",
       "</style>\n",
       "<table border=\"1\" class=\"dataframe\">\n",
       "  <thead>\n",
       "    <tr style=\"text-align: right;\">\n",
       "      <th></th>\n",
       "      <th>Item_Identifier</th>\n",
       "      <th>Item_Weight</th>\n",
       "      <th>Item_Fat_Content</th>\n",
       "      <th>Item_Visibility</th>\n",
       "      <th>Item_Type</th>\n",
       "      <th>Item_MRP</th>\n",
       "      <th>Outlet_Identifier</th>\n",
       "      <th>Outlet_Establishment_Year</th>\n",
       "      <th>Outlet_Size</th>\n",
       "      <th>Outlet_Location_Type</th>\n",
       "      <th>Outlet_Type</th>\n",
       "    </tr>\n",
       "  </thead>\n",
       "  <tbody>\n",
       "  </tbody>\n",
       "</table>\n",
       "</div>"
      ],
      "text/plain": [
       "Empty DataFrame\n",
       "Columns: [Item_Identifier, Item_Weight, Item_Fat_Content, Item_Visibility, Item_Type, Item_MRP, Outlet_Identifier, Outlet_Establishment_Year, Outlet_Size, Outlet_Location_Type, Outlet_Type]\n",
       "Index: []"
      ]
     },
     "execution_count": 53,
     "metadata": {},
     "output_type": "execute_result"
    }
   ],
   "source": [
    "filtered_df = testdf.loc[(testdf['Outlet_Size'].isna() &(testdf['Outlet_Type'] == 'Supermarket Type3') & (testdf['Outlet_Location_Type'] == 'Tier 3'))]\n",
    "filtered_df"
   ]
  },
  {
   "cell_type": "code",
   "execution_count": 54,
   "id": "0c35a4fb",
   "metadata": {},
   "outputs": [
    {
     "data": {
      "text/plain": [
       "Item_Identifier                0\n",
       "Item_Weight                    0\n",
       "Item_Fat_Content               0\n",
       "Item_Visibility                0\n",
       "Item_Type                      0\n",
       "Item_MRP                       0\n",
       "Outlet_Identifier              0\n",
       "Outlet_Establishment_Year      0\n",
       "Outlet_Size                  370\n",
       "Outlet_Location_Type           0\n",
       "Outlet_Type                    0\n",
       "dtype: int64"
      ]
     },
     "execution_count": 54,
     "metadata": {},
     "output_type": "execute_result"
    }
   ],
   "source": [
    "testdf.isna().sum()"
   ]
  },
  {
   "cell_type": "code",
   "execution_count": 55,
   "id": "6cb1d9f6",
   "metadata": {},
   "outputs": [],
   "source": [
    "import statistics"
   ]
  },
  {
   "cell_type": "code",
   "execution_count": 56,
   "id": "f3b6d1d5",
   "metadata": {},
   "outputs": [],
   "source": [
    "mode_size=df.groupby(['Outlet_Location_Type',\"Outlet_Type\"])['Outlet_Size'].agg(lambda x: statistics.mode(x) if len(x)>0 else \"Unknown\")"
   ]
  },
  {
   "cell_type": "code",
   "execution_count": 57,
   "id": "f56e3e5f",
   "metadata": {},
   "outputs": [
    {
     "name": "stdout",
     "output_type": "stream",
     "text": [
      "Outlet_Location_Type  Outlet_Type      \n",
      "Tier 1                Grocery Store         Small\n",
      "                      Supermarket Type1    Medium\n",
      "Tier 2                Supermarket Type1       NaN\n",
      "Tier 3                Grocery Store           NaN\n",
      "                      Supermarket Type1      High\n",
      "                      Supermarket Type2    Medium\n",
      "                      Supermarket Type3    Medium\n",
      "Name: Outlet_Size, dtype: object\n"
     ]
    }
   ],
   "source": [
    "print(mode_size)"
   ]
  },
  {
   "cell_type": "code",
   "execution_count": 58,
   "id": "68581e3d",
   "metadata": {},
   "outputs": [
    {
     "data": {
      "text/plain": [
       "Outlet_Type        Outlet_Size\n",
       "Grocery Store      Small           528\n",
       "Supermarket Type1  Small          1860\n",
       "                   High            932\n",
       "                   Medium          930\n",
       "Supermarket Type2  Medium          928\n",
       "Supermarket Type3  Medium          935\n",
       "Name: Outlet_Size, dtype: int64"
      ]
     },
     "execution_count": 58,
     "metadata": {},
     "output_type": "execute_result"
    }
   ],
   "source": [
    "df.groupby('Outlet_Type')['Outlet_Size'].value_counts()"
   ]
  },
  {
   "cell_type": "code",
   "execution_count": 59,
   "id": "e787563a",
   "metadata": {},
   "outputs": [
    {
     "data": {
      "text/html": [
       "<div>\n",
       "<style scoped>\n",
       "    .dataframe tbody tr th:only-of-type {\n",
       "        vertical-align: middle;\n",
       "    }\n",
       "\n",
       "    .dataframe tbody tr th {\n",
       "        vertical-align: top;\n",
       "    }\n",
       "\n",
       "    .dataframe thead th {\n",
       "        text-align: right;\n",
       "    }\n",
       "</style>\n",
       "<table border=\"1\" class=\"dataframe\">\n",
       "  <thead>\n",
       "    <tr style=\"text-align: right;\">\n",
       "      <th></th>\n",
       "      <th>Item_Identifier</th>\n",
       "      <th>Item_Weight</th>\n",
       "      <th>Item_Fat_Content</th>\n",
       "      <th>Item_Visibility</th>\n",
       "      <th>Item_Type</th>\n",
       "      <th>Item_MRP</th>\n",
       "      <th>Outlet_Identifier</th>\n",
       "      <th>Outlet_Establishment_Year</th>\n",
       "      <th>Outlet_Size</th>\n",
       "      <th>Outlet_Location_Type</th>\n",
       "      <th>Outlet_Type</th>\n",
       "    </tr>\n",
       "  </thead>\n",
       "  <tbody>\n",
       "    <tr>\n",
       "      <th>2</th>\n",
       "      <td>NCN55</td>\n",
       "      <td>14.600</td>\n",
       "      <td>Low Fat</td>\n",
       "      <td>0.099575</td>\n",
       "      <td>Others</td>\n",
       "      <td>241.7538</td>\n",
       "      <td>OUT010</td>\n",
       "      <td>1998</td>\n",
       "      <td>NaN</td>\n",
       "      <td>Tier 3</td>\n",
       "      <td>Grocery Store</td>\n",
       "    </tr>\n",
       "    <tr>\n",
       "      <th>19</th>\n",
       "      <td>FDA46</td>\n",
       "      <td>13.600</td>\n",
       "      <td>Low Fat</td>\n",
       "      <td>0.196898</td>\n",
       "      <td>Snack Foods</td>\n",
       "      <td>193.7136</td>\n",
       "      <td>OUT010</td>\n",
       "      <td>1998</td>\n",
       "      <td>NaN</td>\n",
       "      <td>Tier 3</td>\n",
       "      <td>Grocery Store</td>\n",
       "    </tr>\n",
       "    <tr>\n",
       "      <th>25</th>\n",
       "      <td>FDX22</td>\n",
       "      <td>6.785</td>\n",
       "      <td>Regular</td>\n",
       "      <td>0.038455</td>\n",
       "      <td>Snack Foods</td>\n",
       "      <td>209.4928</td>\n",
       "      <td>OUT010</td>\n",
       "      <td>1998</td>\n",
       "      <td>NaN</td>\n",
       "      <td>Tier 3</td>\n",
       "      <td>Grocery Store</td>\n",
       "    </tr>\n",
       "    <tr>\n",
       "      <th>37</th>\n",
       "      <td>FDD48</td>\n",
       "      <td>10.395</td>\n",
       "      <td>Low Fat</td>\n",
       "      <td>0.050479</td>\n",
       "      <td>Baking Goods</td>\n",
       "      <td>114.0176</td>\n",
       "      <td>OUT010</td>\n",
       "      <td>1998</td>\n",
       "      <td>NaN</td>\n",
       "      <td>Tier 3</td>\n",
       "      <td>Grocery Store</td>\n",
       "    </tr>\n",
       "    <tr>\n",
       "      <th>41</th>\n",
       "      <td>FDY19</td>\n",
       "      <td>19.750</td>\n",
       "      <td>LF</td>\n",
       "      <td>0.069236</td>\n",
       "      <td>Fruits and Vegetables</td>\n",
       "      <td>116.6466</td>\n",
       "      <td>OUT010</td>\n",
       "      <td>1998</td>\n",
       "      <td>NaN</td>\n",
       "      <td>Tier 3</td>\n",
       "      <td>Grocery Store</td>\n",
       "    </tr>\n",
       "    <tr>\n",
       "      <th>...</th>\n",
       "      <td>...</td>\n",
       "      <td>...</td>\n",
       "      <td>...</td>\n",
       "      <td>...</td>\n",
       "      <td>...</td>\n",
       "      <td>...</td>\n",
       "      <td>...</td>\n",
       "      <td>...</td>\n",
       "      <td>...</td>\n",
       "      <td>...</td>\n",
       "      <td>...</td>\n",
       "    </tr>\n",
       "    <tr>\n",
       "      <th>5571</th>\n",
       "      <td>FDI15</td>\n",
       "      <td>13.800</td>\n",
       "      <td>Low Fat</td>\n",
       "      <td>0.236595</td>\n",
       "      <td>Dairy</td>\n",
       "      <td>265.0884</td>\n",
       "      <td>OUT010</td>\n",
       "      <td>1998</td>\n",
       "      <td>NaN</td>\n",
       "      <td>Tier 3</td>\n",
       "      <td>Grocery Store</td>\n",
       "    </tr>\n",
       "    <tr>\n",
       "      <th>5572</th>\n",
       "      <td>NCH43</td>\n",
       "      <td>8.420</td>\n",
       "      <td>Low Fat</td>\n",
       "      <td>0.118118</td>\n",
       "      <td>Household</td>\n",
       "      <td>216.9192</td>\n",
       "      <td>OUT010</td>\n",
       "      <td>1998</td>\n",
       "      <td>NaN</td>\n",
       "      <td>Tier 3</td>\n",
       "      <td>Grocery Store</td>\n",
       "    </tr>\n",
       "    <tr>\n",
       "      <th>5580</th>\n",
       "      <td>FDA23</td>\n",
       "      <td>9.800</td>\n",
       "      <td>Low Fat</td>\n",
       "      <td>0.078981</td>\n",
       "      <td>Baking Goods</td>\n",
       "      <td>100.1016</td>\n",
       "      <td>OUT010</td>\n",
       "      <td>1998</td>\n",
       "      <td>NaN</td>\n",
       "      <td>Tier 3</td>\n",
       "      <td>Grocery Store</td>\n",
       "    </tr>\n",
       "    <tr>\n",
       "      <th>5650</th>\n",
       "      <td>FDC10</td>\n",
       "      <td>9.800</td>\n",
       "      <td>Regular</td>\n",
       "      <td>0.121982</td>\n",
       "      <td>Snack Foods</td>\n",
       "      <td>119.7098</td>\n",
       "      <td>OUT010</td>\n",
       "      <td>1998</td>\n",
       "      <td>NaN</td>\n",
       "      <td>Tier 3</td>\n",
       "      <td>Grocery Store</td>\n",
       "    </tr>\n",
       "    <tr>\n",
       "      <th>5668</th>\n",
       "      <td>FDC44</td>\n",
       "      <td>15.600</td>\n",
       "      <td>Low Fat</td>\n",
       "      <td>0.288892</td>\n",
       "      <td>Fruits and Vegetables</td>\n",
       "      <td>115.1518</td>\n",
       "      <td>OUT010</td>\n",
       "      <td>1998</td>\n",
       "      <td>NaN</td>\n",
       "      <td>Tier 3</td>\n",
       "      <td>Grocery Store</td>\n",
       "    </tr>\n",
       "  </tbody>\n",
       "</table>\n",
       "<p>370 rows × 11 columns</p>\n",
       "</div>"
      ],
      "text/plain": [
       "     Item_Identifier  Item_Weight Item_Fat_Content  Item_Visibility  \\\n",
       "2              NCN55       14.600          Low Fat         0.099575   \n",
       "19             FDA46       13.600          Low Fat         0.196898   \n",
       "25             FDX22        6.785          Regular         0.038455   \n",
       "37             FDD48       10.395          Low Fat         0.050479   \n",
       "41             FDY19       19.750               LF         0.069236   \n",
       "...              ...          ...              ...              ...   \n",
       "5571           FDI15       13.800          Low Fat         0.236595   \n",
       "5572           NCH43        8.420          Low Fat         0.118118   \n",
       "5580           FDA23        9.800          Low Fat         0.078981   \n",
       "5650           FDC10        9.800          Regular         0.121982   \n",
       "5668           FDC44       15.600          Low Fat         0.288892   \n",
       "\n",
       "                  Item_Type  Item_MRP Outlet_Identifier  \\\n",
       "2                    Others  241.7538            OUT010   \n",
       "19              Snack Foods  193.7136            OUT010   \n",
       "25              Snack Foods  209.4928            OUT010   \n",
       "37             Baking Goods  114.0176            OUT010   \n",
       "41    Fruits and Vegetables  116.6466            OUT010   \n",
       "...                     ...       ...               ...   \n",
       "5571                  Dairy  265.0884            OUT010   \n",
       "5572              Household  216.9192            OUT010   \n",
       "5580           Baking Goods  100.1016            OUT010   \n",
       "5650            Snack Foods  119.7098            OUT010   \n",
       "5668  Fruits and Vegetables  115.1518            OUT010   \n",
       "\n",
       "      Outlet_Establishment_Year Outlet_Size Outlet_Location_Type  \\\n",
       "2                          1998         NaN               Tier 3   \n",
       "19                         1998         NaN               Tier 3   \n",
       "25                         1998         NaN               Tier 3   \n",
       "37                         1998         NaN               Tier 3   \n",
       "41                         1998         NaN               Tier 3   \n",
       "...                         ...         ...                  ...   \n",
       "5571                       1998         NaN               Tier 3   \n",
       "5572                       1998         NaN               Tier 3   \n",
       "5580                       1998         NaN               Tier 3   \n",
       "5650                       1998         NaN               Tier 3   \n",
       "5668                       1998         NaN               Tier 3   \n",
       "\n",
       "        Outlet_Type  \n",
       "2     Grocery Store  \n",
       "19    Grocery Store  \n",
       "25    Grocery Store  \n",
       "37    Grocery Store  \n",
       "41    Grocery Store  \n",
       "...             ...  \n",
       "5571  Grocery Store  \n",
       "5572  Grocery Store  \n",
       "5580  Grocery Store  \n",
       "5650  Grocery Store  \n",
       "5668  Grocery Store  \n",
       "\n",
       "[370 rows x 11 columns]"
      ]
     },
     "execution_count": 59,
     "metadata": {},
     "output_type": "execute_result"
    }
   ],
   "source": [
    "filtered_df = testdf.loc[(testdf['Outlet_Size'].isna() &(testdf['Outlet_Type'] == 'Grocery Store') & (testdf['Outlet_Location_Type'] == 'Tier 3'))]\n",
    "filtered_df"
   ]
  },
  {
   "cell_type": "code",
   "execution_count": 60,
   "id": "469f3bc5",
   "metadata": {},
   "outputs": [],
   "source": [
    "missing_index=filtered_df.index"
   ]
  },
  {
   "cell_type": "code",
   "execution_count": 61,
   "id": "95b99119",
   "metadata": {},
   "outputs": [],
   "source": [
    "testdf.loc[missing_index] = testdf.loc[missing_index].fillna('Small')"
   ]
  },
  {
   "cell_type": "code",
   "execution_count": 62,
   "id": "b525e53d",
   "metadata": {},
   "outputs": [
    {
     "data": {
      "text/plain": [
       "Item_Identifier              0\n",
       "Item_Weight                  0\n",
       "Item_Fat_Content             0\n",
       "Item_Visibility              0\n",
       "Item_Type                    0\n",
       "Item_MRP                     0\n",
       "Outlet_Identifier            0\n",
       "Outlet_Establishment_Year    0\n",
       "Outlet_Size                  0\n",
       "Outlet_Location_Type         0\n",
       "Outlet_Type                  0\n",
       "dtype: int64"
      ]
     },
     "execution_count": 62,
     "metadata": {},
     "output_type": "execute_result"
    }
   ],
   "source": [
    "testdf.isna().sum()"
   ]
  },
  {
   "cell_type": "code",
   "execution_count": 63,
   "id": "f84b5912",
   "metadata": {},
   "outputs": [
    {
     "data": {
      "image/png": "[encoded data removed]",
      "text/plain": [
       "<Figure size 720x360 with 5 Axes>"
      ]
     },
     "metadata": {
      "needs_background": "light"
     },
     "output_type": "display_data"
    }
   ],
   "source": [
    "#checking for outliers in training data\n",
    "traindf.plot(kind='box',figsize=(10,5),subplots=True)\n",
    "plt.show()"
   ]
  },
  {
   "cell_type": "code",
   "execution_count": 64,
   "id": "b898a95d",
   "metadata": {},
   "outputs": [
    {
     "data": {
      "image/png": "[encoded data removed]",
      "text/plain": [
       "<Figure size 432x288 with 1 Axes>"
      ]
     },
     "metadata": {
      "needs_background": "light"
     },
     "output_type": "display_data"
    }
   ],
   "source": [
    "plt.boxplot(traindf['Item_Outlet_Sales'])\n",
    "plt.show()"
   ]
  },
  {
   "cell_type": "code",
   "execution_count": 65,
   "id": "4ba9cd97",
   "metadata": {},
   "outputs": [
    {
     "name": "stdout",
     "output_type": "stream",
     "text": [
      "834.2474\n",
      "1794.331\n",
      "3101.2964\n",
      "-2566.3261\n",
      "6501.8699\n"
     ]
    }
   ],
   "source": [
    "Q1=np.percentile(traindf['Item_Outlet_Sales'],25,interpolation='midpoint')\n",
    "Q2=np.percentile(traindf['Item_Outlet_Sales'],50,interpolation=\"midpoint\")\n",
    "Q3=np.percentile(traindf['Item_Outlet_Sales'],75,interpolation=\"midpoint\")\n",
    "print(Q1)\n",
    "print(Q2)\n",
    "print(Q3)\n",
    "\n",
    "#finding IQR\n",
    "IQR=Q3-Q1\n",
    "low_lim=Q1-1.5*IQR\n",
    "up_lim=Q3+1.5*IQR\n",
    "print(low_lim)\n",
    "print(up_lim)"
   ]
  },
  {
   "cell_type": "code",
   "execution_count": 66,
   "id": "bfc9565f",
   "metadata": {},
   "outputs": [
    {
     "data": {
      "text/plain": [
       "186"
      ]
     },
     "execution_count": 66,
     "metadata": {},
     "output_type": "execute_result"
    }
   ],
   "source": [
    "outlier=[]\n",
    "\n",
    "for i in traindf['Item_Outlet_Sales']:\n",
    "    if i<low_lim or i>up_lim:\n",
    "        outlier.append(i)\n",
    "        \n",
    "len(outlier)"
   ]
  },
  {
   "cell_type": "code",
   "execution_count": 67,
   "id": "94164a45",
   "metadata": {
    "scrolled": true
   },
   "outputs": [
    {
     "data": {
      "text/plain": [
       "[6768.5228,\n",
       " 7968.2944,\n",
       " 6976.2524,\n",
       " 7370.406,\n",
       " 6704.606,\n",
       " 6795.1548,\n",
       " 7222.5984,\n",
       " 7298.4996,\n",
       " 7452.9652,\n",
       " 7696.648,\n",
       " 9267.936,\n",
       " 7763.228,\n",
       " 6911.004,\n",
       " 6687.961,\n",
       " 9158.079,\n",
       " 8114.7704,\n",
       " 7094.7648,\n",
       " 7192.6374,\n",
       " 6611.394,\n",
       " 7443.644,\n",
       " 7488.9184,\n",
       " 7833.8028,\n",
       " 7759.899,\n",
       " 6515.5188,\n",
       " 7017.532,\n",
       " 7370.406,\n",
       " 9133.4444,\n",
       " 9275.9256,\n",
       " 10236.675,\n",
       " 6622.7126,\n",
       " 7152.0236,\n",
       " 7296.5022,\n",
       " 6767.1912,\n",
       " 6872.3876,\n",
       " 7472.2734,\n",
       " 8132.0812,\n",
       " 6897.688,\n",
       " 11445.102,\n",
       " 7646.0472,\n",
       " 6668.6528,\n",
       " 6574.775,\n",
       " 6942.9624,\n",
       " 7073.4592,\n",
       " 7130.718,\n",
       " 6771.186,\n",
       " 7116.0704,\n",
       " 6524.84,\n",
       " 6769.8544,\n",
       " 6692.6216,\n",
       " 6615.3888,\n",
       " 7504.2318,\n",
       " 7086.1094,\n",
       " 7168.6686,\n",
       " 6751.212,\n",
       " 8239.9408,\n",
       " 9371.8008,\n",
       " 8851.1452,\n",
       " 7478.2656,\n",
       " 8604.7992,\n",
       " 7590.12,\n",
       " 6503.5344,\n",
       " 8760.5964,\n",
       " 6796.4864,\n",
       " 7201.2928,\n",
       " 6852.4136,\n",
       " 6729.9064,\n",
       " 7931.6754,\n",
       " 6729.9064,\n",
       " 7142.7024,\n",
       " 6893.0274,\n",
       " 7534.1928,\n",
       " 7843.124,\n",
       " 9467.676,\n",
       " 8912.3988,\n",
       " 6757.87,\n",
       " 7247.233,\n",
       " 7503.566,\n",
       " 7247.233,\n",
       " 8138.7392,\n",
       " 7033.5112,\n",
       " 7334.4528,\n",
       " 6972.2576,\n",
       " 6851.082,\n",
       " 6641.355,\n",
       " 7350.432,\n",
       " 6507.5292,\n",
       " 8063.5038,\n",
       " 7580.133,\n",
       " 8958.339,\n",
       " 6705.2718,\n",
       " 6849.0846,\n",
       " 7136.7102,\n",
       " 6867.0612,\n",
       " 7170.666,\n",
       " 7064.8038,\n",
       " 7028.1848,\n",
       " 9779.9362,\n",
       " 6855.0768,\n",
       " 9251.9568,\n",
       " 10993.6896,\n",
       " 6636.6944,\n",
       " 7028.8506,\n",
       " 7150.692,\n",
       " 7741.9224,\n",
       " 8262.578,\n",
       " 6831.108,\n",
       " 8413.0488,\n",
       " 10256.649,\n",
       " 6608.065,\n",
       " 6704.606,\n",
       " 6595.4148,\n",
       " 9664.7528,\n",
       " 8508.924,\n",
       " 8028.8822,\n",
       " 7646.0472,\n",
       " 8388.4142,\n",
       " 12117.56,\n",
       " 6574.775,\n",
       " 6723.2484,\n",
       " 7685.9952,\n",
       " 6528.169,\n",
       " 6759.2016,\n",
       " 6723.2484,\n",
       " 7084.112,\n",
       " 6970.926,\n",
       " 9562.2196,\n",
       " 7602.1044,\n",
       " 6624.71,\n",
       " 8868.456,\n",
       " 8479.6288,\n",
       " 6543.4824,\n",
       " 7425.0016,\n",
       " 6964.9338,\n",
       " 7317.142,\n",
       " 6636.6944,\n",
       " 6897.688,\n",
       " 8474.3024,\n",
       " 7393.0432,\n",
       " 7033.5112,\n",
       " 8217.3036,\n",
       " 6817.792,\n",
       " 7883.072,\n",
       " 9069.5276,\n",
       " 7100.757,\n",
       " 8789.8916,\n",
       " 10306.584,\n",
       " 6669.3186,\n",
       " 7105.4176,\n",
       " 9554.23,\n",
       " 6930.978,\n",
       " 6881.043,\n",
       " 8217.3036,\n",
       " 7719.2852,\n",
       " 8062.838,\n",
       " 8245.2672,\n",
       " 7190.64,\n",
       " 6775.1808,\n",
       " 13086.9648,\n",
       " 10072.8882,\n",
       " 7939.665,\n",
       " 8323.8316,\n",
       " 7873.085,\n",
       " 8209.314,\n",
       " 7017.532,\n",
       " 7322.4684,\n",
       " 7717.9536,\n",
       " 7433.657,\n",
       " 7943.6598,\n",
       " 7158.6816,\n",
       " 9678.0688,\n",
       " 7158.6816,\n",
       " 7510.224,\n",
       " 8417.7094,\n",
       " 7148.0288,\n",
       " 9227.988,\n",
       " 6795.1548,\n",
       " 7266.5412,\n",
       " 8994.958,\n",
       " 6579.4356,\n",
       " 9390.4432,\n",
       " 6615.3888,\n",
       " 7549.5062,\n",
       " 6630.0364,\n",
       " 7240.575,\n",
       " 7588.1226,\n",
       " 7182.6504]"
      ]
     },
     "execution_count": 67,
     "metadata": {},
     "output_type": "execute_result"
    }
   ],
   "source": [
    "outlier"
   ]
  },
  {
   "cell_type": "code",
   "execution_count": 68,
   "id": "8f0c197f",
   "metadata": {},
   "outputs": [
    {
     "data": {
      "text/html": [
       "<div>\n",
       "<style scoped>\n",
       "    .dataframe tbody tr th:only-of-type {\n",
       "        vertical-align: middle;\n",
       "    }\n",
       "\n",
       "    .dataframe tbody tr th {\n",
       "        vertical-align: top;\n",
       "    }\n",
       "\n",
       "    .dataframe thead th {\n",
       "        text-align: right;\n",
       "    }\n",
       "</style>\n",
       "<table border=\"1\" class=\"dataframe\">\n",
       "  <thead>\n",
       "    <tr style=\"text-align: right;\">\n",
       "      <th></th>\n",
       "      <th>Item_Identifier</th>\n",
       "      <th>Item_Weight</th>\n",
       "      <th>Item_Fat_Content</th>\n",
       "      <th>Item_Visibility</th>\n",
       "      <th>Item_Type</th>\n",
       "      <th>Item_MRP</th>\n",
       "      <th>Outlet_Identifier</th>\n",
       "      <th>Outlet_Establishment_Year</th>\n",
       "      <th>Outlet_Size</th>\n",
       "      <th>Outlet_Location_Type</th>\n",
       "      <th>Outlet_Type</th>\n",
       "      <th>Item_Outlet_Sales</th>\n",
       "    </tr>\n",
       "  </thead>\n",
       "  <tbody>\n",
       "    <tr>\n",
       "      <th>43</th>\n",
       "      <td>FDC02</td>\n",
       "      <td>21.35</td>\n",
       "      <td>Low Fat</td>\n",
       "      <td>0.069103</td>\n",
       "      <td>Canned</td>\n",
       "      <td>259.9278</td>\n",
       "      <td>OUT018</td>\n",
       "      <td>2009</td>\n",
       "      <td>Medium</td>\n",
       "      <td>Tier 3</td>\n",
       "      <td>Supermarket Type2</td>\n",
       "      <td>6768.5228</td>\n",
       "    </tr>\n",
       "    <tr>\n",
       "      <th>130</th>\n",
       "      <td>FDY25</td>\n",
       "      <td>12.15</td>\n",
       "      <td>Low Fat</td>\n",
       "      <td>0.033810</td>\n",
       "      <td>Canned</td>\n",
       "      <td>180.5976</td>\n",
       "      <td>OUT027</td>\n",
       "      <td>1985</td>\n",
       "      <td>Medium</td>\n",
       "      <td>Tier 3</td>\n",
       "      <td>Supermarket Type3</td>\n",
       "      <td>7968.2944</td>\n",
       "    </tr>\n",
       "    <tr>\n",
       "      <th>132</th>\n",
       "      <td>NCR53</td>\n",
       "      <td>12.15</td>\n",
       "      <td>Low Fat</td>\n",
       "      <td>0.144338</td>\n",
       "      <td>Health and Hygiene</td>\n",
       "      <td>224.4404</td>\n",
       "      <td>OUT027</td>\n",
       "      <td>1985</td>\n",
       "      <td>Medium</td>\n",
       "      <td>Tier 3</td>\n",
       "      <td>Supermarket Type3</td>\n",
       "      <td>6976.2524</td>\n",
       "    </tr>\n",
       "    <tr>\n",
       "      <th>145</th>\n",
       "      <td>FDP16</td>\n",
       "      <td>18.60</td>\n",
       "      <td>Low Fat</td>\n",
       "      <td>0.039356</td>\n",
       "      <td>Frozen Foods</td>\n",
       "      <td>246.3802</td>\n",
       "      <td>OUT049</td>\n",
       "      <td>1999</td>\n",
       "      <td>Medium</td>\n",
       "      <td>Tier 1</td>\n",
       "      <td>Supermarket Type1</td>\n",
       "      <td>7370.4060</td>\n",
       "    </tr>\n",
       "    <tr>\n",
       "      <th>203</th>\n",
       "      <td>FDI24</td>\n",
       "      <td>11.65</td>\n",
       "      <td>Low Fat</td>\n",
       "      <td>0.078362</td>\n",
       "      <td>Baking Goods</td>\n",
       "      <td>177.9370</td>\n",
       "      <td>OUT027</td>\n",
       "      <td>1985</td>\n",
       "      <td>Medium</td>\n",
       "      <td>Tier 3</td>\n",
       "      <td>Supermarket Type3</td>\n",
       "      <td>6704.6060</td>\n",
       "    </tr>\n",
       "    <tr>\n",
       "      <th>...</th>\n",
       "      <td>...</td>\n",
       "      <td>...</td>\n",
       "      <td>...</td>\n",
       "      <td>...</td>\n",
       "      <td>...</td>\n",
       "      <td>...</td>\n",
       "      <td>...</td>\n",
       "      <td>...</td>\n",
       "      <td>...</td>\n",
       "      <td>...</td>\n",
       "      <td>...</td>\n",
       "      <td>...</td>\n",
       "    </tr>\n",
       "    <tr>\n",
       "      <th>8245</th>\n",
       "      <td>FDU55</td>\n",
       "      <td>16.20</td>\n",
       "      <td>Low Fat</td>\n",
       "      <td>0.035967</td>\n",
       "      <td>Fruits and Vegetables</td>\n",
       "      <td>260.3278</td>\n",
       "      <td>OUT049</td>\n",
       "      <td>1999</td>\n",
       "      <td>Medium</td>\n",
       "      <td>Tier 1</td>\n",
       "      <td>Supermarket Type1</td>\n",
       "      <td>7549.5062</td>\n",
       "    </tr>\n",
       "    <tr>\n",
       "      <th>8329</th>\n",
       "      <td>NCQ06</td>\n",
       "      <td>13.15</td>\n",
       "      <td>Low Fat</td>\n",
       "      <td>0.041622</td>\n",
       "      <td>Household</td>\n",
       "      <td>253.6014</td>\n",
       "      <td>OUT027</td>\n",
       "      <td>1985</td>\n",
       "      <td>Medium</td>\n",
       "      <td>Tier 3</td>\n",
       "      <td>Supermarket Type3</td>\n",
       "      <td>6630.0364</td>\n",
       "    </tr>\n",
       "    <tr>\n",
       "      <th>8350</th>\n",
       "      <td>NCE18</td>\n",
       "      <td>10.00</td>\n",
       "      <td>Low Fat</td>\n",
       "      <td>0.021421</td>\n",
       "      <td>Household</td>\n",
       "      <td>248.3750</td>\n",
       "      <td>OUT035</td>\n",
       "      <td>2004</td>\n",
       "      <td>Small</td>\n",
       "      <td>Tier 2</td>\n",
       "      <td>Supermarket Type1</td>\n",
       "      <td>7240.5750</td>\n",
       "    </tr>\n",
       "    <tr>\n",
       "      <th>8447</th>\n",
       "      <td>FDS26</td>\n",
       "      <td>20.35</td>\n",
       "      <td>Low Fat</td>\n",
       "      <td>0.089975</td>\n",
       "      <td>Dairy</td>\n",
       "      <td>261.6594</td>\n",
       "      <td>OUT017</td>\n",
       "      <td>2007</td>\n",
       "      <td>Small</td>\n",
       "      <td>Tier 2</td>\n",
       "      <td>Supermarket Type1</td>\n",
       "      <td>7588.1226</td>\n",
       "    </tr>\n",
       "    <tr>\n",
       "      <th>8510</th>\n",
       "      <td>FDN58</td>\n",
       "      <td>13.80</td>\n",
       "      <td>Regular</td>\n",
       "      <td>0.056862</td>\n",
       "      <td>Snack Foods</td>\n",
       "      <td>231.5984</td>\n",
       "      <td>OUT035</td>\n",
       "      <td>2004</td>\n",
       "      <td>Small</td>\n",
       "      <td>Tier 2</td>\n",
       "      <td>Supermarket Type1</td>\n",
       "      <td>7182.6504</td>\n",
       "    </tr>\n",
       "  </tbody>\n",
       "</table>\n",
       "<p>186 rows × 12 columns</p>\n",
       "</div>"
      ],
      "text/plain": [
       "     Item_Identifier  Item_Weight Item_Fat_Content  Item_Visibility  \\\n",
       "43             FDC02        21.35          Low Fat         0.069103   \n",
       "130            FDY25        12.15          Low Fat         0.033810   \n",
       "132            NCR53        12.15          Low Fat         0.144338   \n",
       "145            FDP16        18.60          Low Fat         0.039356   \n",
       "203            FDI24        11.65          Low Fat         0.078362   \n",
       "...              ...          ...              ...              ...   \n",
       "8245           FDU55        16.20          Low Fat         0.035967   \n",
       "8329           NCQ06        13.15          Low Fat         0.041622   \n",
       "8350           NCE18        10.00          Low Fat         0.021421   \n",
       "8447           FDS26        20.35          Low Fat         0.089975   \n",
       "8510           FDN58        13.80          Regular         0.056862   \n",
       "\n",
       "                  Item_Type  Item_MRP Outlet_Identifier  \\\n",
       "43                   Canned  259.9278            OUT018   \n",
       "130                  Canned  180.5976            OUT027   \n",
       "132      Health and Hygiene  224.4404            OUT027   \n",
       "145            Frozen Foods  246.3802            OUT049   \n",
       "203            Baking Goods  177.9370            OUT027   \n",
       "...                     ...       ...               ...   \n",
       "8245  Fruits and Vegetables  260.3278            OUT049   \n",
       "8329              Household  253.6014            OUT027   \n",
       "8350              Household  248.3750            OUT035   \n",
       "8447                  Dairy  261.6594            OUT017   \n",
       "8510            Snack Foods  231.5984            OUT035   \n",
       "\n",
       "      Outlet_Establishment_Year Outlet_Size Outlet_Location_Type  \\\n",
       "43                         2009      Medium               Tier 3   \n",
       "130                        1985      Medium               Tier 3   \n",
       "132                        1985      Medium               Tier 3   \n",
       "145                        1999      Medium               Tier 1   \n",
       "203                        1985      Medium               Tier 3   \n",
       "...                         ...         ...                  ...   \n",
       "8245                       1999      Medium               Tier 1   \n",
       "8329                       1985      Medium               Tier 3   \n",
       "8350                       2004       Small               Tier 2   \n",
       "8447                       2007       Small               Tier 2   \n",
       "8510                       2004       Small               Tier 2   \n",
       "\n",
       "            Outlet_Type  Item_Outlet_Sales  \n",
       "43    Supermarket Type2          6768.5228  \n",
       "130   Supermarket Type3          7968.2944  \n",
       "132   Supermarket Type3          6976.2524  \n",
       "145   Supermarket Type1          7370.4060  \n",
       "203   Supermarket Type3          6704.6060  \n",
       "...                 ...                ...  \n",
       "8245  Supermarket Type1          7549.5062  \n",
       "8329  Supermarket Type3          6630.0364  \n",
       "8350  Supermarket Type1          7240.5750  \n",
       "8447  Supermarket Type1          7588.1226  \n",
       "8510  Supermarket Type1          7182.6504  \n",
       "\n",
       "[186 rows x 12 columns]"
      ]
     },
     "execution_count": 68,
     "metadata": {},
     "output_type": "execute_result"
    }
   ],
   "source": [
    "traindf.loc[traindf['Item_Outlet_Sales'].isin(outlier)]"
   ]
  },
  {
   "cell_type": "markdown",
   "id": "6f770791",
   "metadata": {},
   "source": [
    "We will not deal with the outliers in the column Item_Outlet_Sales since many factors affect the sales"
   ]
  },
  {
   "cell_type": "code",
   "execution_count": 69,
   "id": "96865c43",
   "metadata": {},
   "outputs": [
    {
     "data": {
      "image/png": "[encoded data removed]",
      "text/plain": [
       "<Figure size 432x288 with 1 Axes>"
      ]
     },
     "metadata": {
      "needs_background": "light"
     },
     "output_type": "display_data"
    }
   ],
   "source": [
    "plt.boxplot(traindf['Item_Visibility'])\n",
    "plt.show()"
   ]
  },
  {
   "cell_type": "code",
   "execution_count": 70,
   "id": "81f6e79b",
   "metadata": {},
   "outputs": [
    {
     "name": "stdout",
     "output_type": "stream",
     "text": [
      "0.0269894775\n",
      "0.053930934\n",
      "0.0945852925\n",
      "-0.07440424500000001\n",
      "0.195979015\n"
     ]
    }
   ],
   "source": [
    "Q1=np.percentile(traindf['Item_Visibility'],25,interpolation='midpoint')\n",
    "Q2=np.percentile(traindf['Item_Visibility'],50,interpolation=\"midpoint\")\n",
    "Q3=np.percentile(traindf['Item_Visibility'],75,interpolation=\"midpoint\")\n",
    "print(Q1)\n",
    "print(Q2)\n",
    "print(Q3)\n",
    "\n",
    "#finding IQR\n",
    "IQR=Q3-Q1\n",
    "low_lim=Q1-1.5*IQR\n",
    "up_lim=Q3+1.5*IQR\n",
    "print(low_lim)\n",
    "print(up_lim)"
   ]
  },
  {
   "cell_type": "code",
   "execution_count": 71,
   "id": "501cb8c8",
   "metadata": {},
   "outputs": [
    {
     "data": {
      "text/plain": [
       "144"
      ]
     },
     "execution_count": 71,
     "metadata": {},
     "output_type": "execute_result"
    }
   ],
   "source": [
    "outlier=[]\n",
    "\n",
    "for i in traindf['Item_Visibility']:\n",
    "    if i<low_lim or i>up_lim:\n",
    "        outlier.append(i)\n",
    "        \n",
    "len(outlier)"
   ]
  },
  {
   "cell_type": "code",
   "execution_count": 72,
   "id": "09392b82",
   "metadata": {},
   "outputs": [
    {
     "data": {
      "text/plain": [
       "Text(0.5, 1.0, 'Box plot of lead time')"
      ]
     },
     "execution_count": 72,
     "metadata": {},
     "output_type": "execute_result"
    },
    {
     "data": {
      "image/png": "[encoded data removed]",
      "text/plain": [
       "<Figure size 432x288 with 1 Axes>"
      ]
     },
     "metadata": {
      "needs_background": "light"
     },
     "output_type": "display_data"
    }
   ],
   "source": [
    "#Removing the outliers\n",
    "ind1=traindf['Item_Visibility']>up_lim\n",
    "traindf.loc[ind1].index\n",
    "traindf.drop(traindf.loc[ind1].index,inplace=True)\n",
    "plt.boxplot(traindf['Item_Visibility'])\n",
    "plt.title('Box plot of lead time')"
   ]
  },
  {
   "cell_type": "code",
   "execution_count": 73,
   "id": "7cbfcc76",
   "metadata": {},
   "outputs": [
    {
     "data": {
      "image/png": "[encoded data removed]",
      "text/plain": [
       "<Figure size 720x360 with 4 Axes>"
      ]
     },
     "metadata": {
      "needs_background": "light"
     },
     "output_type": "display_data"
    }
   ],
   "source": [
    "#checking for outliers in testing data\n",
    "testdf.plot(kind='box',figsize=(10,5),subplots=True)\n",
    "plt.show()"
   ]
  },
  {
   "cell_type": "code",
   "execution_count": 74,
   "id": "72ff43b6",
   "metadata": {},
   "outputs": [
    {
     "data": {
      "image/png": "[encoded data removed]",
      "text/plain": [
       "<Figure size 432x288 with 1 Axes>"
      ]
     },
     "metadata": {
      "needs_background": "light"
     },
     "output_type": "display_data"
    }
   ],
   "source": [
    "#handling the outliers in the column Item_Visibility\n",
    "plt.boxplot(testdf['Item_Visibility'])\n",
    "plt.show()"
   ]
  },
  {
   "cell_type": "code",
   "execution_count": 75,
   "id": "a63508f4",
   "metadata": {},
   "outputs": [
    {
     "name": "stdout",
     "output_type": "stream",
     "text": [
      "0.027046875\n",
      "0.054154252\n",
      "0.093462623\n",
      "-0.072576747\n",
      "0.193086245\n"
     ]
    }
   ],
   "source": [
    "Q1=np.percentile(testdf['Item_Visibility'],25,interpolation='midpoint')\n",
    "Q2=np.percentile(testdf['Item_Visibility'],50,interpolation=\"midpoint\")\n",
    "Q3=np.percentile(testdf['Item_Visibility'],75,interpolation=\"midpoint\")\n",
    "print(Q1)\n",
    "print(Q2)\n",
    "print(Q3)\n",
    "\n",
    "#finding IQR\n",
    "IQR=Q3-Q1\n",
    "low_lim=Q1-1.5*IQR\n",
    "up_lim=Q3+1.5*IQR\n",
    "print(low_lim)\n",
    "print(up_lim)"
   ]
  },
  {
   "cell_type": "code",
   "execution_count": 76,
   "id": "842095d1",
   "metadata": {},
   "outputs": [
    {
     "data": {
      "text/plain": [
       "113"
      ]
     },
     "execution_count": 76,
     "metadata": {},
     "output_type": "execute_result"
    }
   ],
   "source": [
    "outlier=[]\n",
    "\n",
    "for i in testdf['Item_Visibility']:\n",
    "    if i<low_lim or i>up_lim:\n",
    "        outlier.append(i)\n",
    "        \n",
    "len(outlier)"
   ]
  },
  {
   "cell_type": "code",
   "execution_count": 77,
   "id": "5c9d852e",
   "metadata": {},
   "outputs": [
    {
     "data": {
      "text/plain": [
       "Text(0.5, 1.0, 'Box plot of lead time')"
      ]
     },
     "execution_count": 77,
     "metadata": {},
     "output_type": "execute_result"
    },
    {
     "data": {
      "image/png": "[encoded data removed]",
      "text/plain": [
       "<Figure size 432x288 with 1 Axes>"
      ]
     },
     "metadata": {
      "needs_background": "light"
     },
     "output_type": "display_data"
    }
   ],
   "source": [
    "#Removing the outliers\n",
    "ind1=testdf['Item_Visibility']>up_lim\n",
    "testdf.loc[ind1].index\n",
    "testdf.drop(testdf.loc[ind1].index,inplace=True)\n",
    "plt.boxplot(testdf['Item_Visibility'])\n",
    "plt.title('Box plot of lead time')"
   ]
  },
  {
   "cell_type": "code",
   "execution_count": 78,
   "id": "670b7502",
   "metadata": {},
   "outputs": [
    {
     "name": "stdout",
     "output_type": "stream",
     "text": [
      "<class 'pandas.core.frame.DataFrame'>\n",
      "Int64Index: 8379 entries, 0 to 8522\n",
      "Data columns (total 12 columns):\n",
      " #   Column                     Non-Null Count  Dtype  \n",
      "---  ------                     --------------  -----  \n",
      " 0   Item_Identifier            8379 non-null   object \n",
      " 1   Item_Weight                8379 non-null   float64\n",
      " 2   Item_Fat_Content           8379 non-null   object \n",
      " 3   Item_Visibility            8379 non-null   float64\n",
      " 4   Item_Type                  8379 non-null   object \n",
      " 5   Item_MRP                   8379 non-null   float64\n",
      " 6   Outlet_Identifier          8379 non-null   object \n",
      " 7   Outlet_Establishment_Year  8379 non-null   int64  \n",
      " 8   Outlet_Size                8379 non-null   object \n",
      " 9   Outlet_Location_Type       8379 non-null   object \n",
      " 10  Outlet_Type                8379 non-null   object \n",
      " 11  Item_Outlet_Sales          8379 non-null   float64\n",
      "dtypes: float64(4), int64(1), object(7)\n",
      "memory usage: 851.0+ KB\n"
     ]
    }
   ],
   "source": [
    "traindf.info()"
   ]
  },
  {
   "cell_type": "markdown",
   "id": "26ac7da4",
   "metadata": {},
   "source": [
    "## Encoding"
   ]
  },
  {
   "cell_type": "code",
   "execution_count": 79,
   "id": "c8f458a2",
   "metadata": {},
   "outputs": [
    {
     "data": {
      "text/plain": [
       "5"
      ]
     },
     "execution_count": 79,
     "metadata": {},
     "output_type": "execute_result"
    }
   ],
   "source": [
    "traindf['Item_Fat_Content'].nunique()"
   ]
  },
  {
   "cell_type": "code",
   "execution_count": 80,
   "id": "4904ecb2",
   "metadata": {},
   "outputs": [
    {
     "data": {
      "text/plain": [
       "16"
      ]
     },
     "execution_count": 80,
     "metadata": {},
     "output_type": "execute_result"
    }
   ],
   "source": [
    "traindf['Item_Type'].nunique()"
   ]
  },
  {
   "cell_type": "code",
   "execution_count": 81,
   "id": "7c757df8",
   "metadata": {},
   "outputs": [
    {
     "data": {
      "text/plain": [
       "10"
      ]
     },
     "execution_count": 81,
     "metadata": {},
     "output_type": "execute_result"
    }
   ],
   "source": [
    "traindf['Outlet_Identifier'].nunique()"
   ]
  },
  {
   "cell_type": "code",
   "execution_count": 82,
   "id": "a7be61bb",
   "metadata": {},
   "outputs": [
    {
     "data": {
      "text/plain": [
       "3"
      ]
     },
     "execution_count": 82,
     "metadata": {},
     "output_type": "execute_result"
    }
   ],
   "source": [
    "traindf['Outlet_Size'].nunique()"
   ]
  },
  {
   "cell_type": "code",
   "execution_count": 83,
   "id": "381c40b5",
   "metadata": {},
   "outputs": [
    {
     "data": {
      "text/plain": [
       "3"
      ]
     },
     "execution_count": 83,
     "metadata": {},
     "output_type": "execute_result"
    }
   ],
   "source": [
    "traindf['Outlet_Location_Type'].nunique()"
   ]
  },
  {
   "cell_type": "code",
   "execution_count": 84,
   "id": "bafd7f59",
   "metadata": {},
   "outputs": [
    {
     "data": {
      "text/plain": [
       "4"
      ]
     },
     "execution_count": 84,
     "metadata": {},
     "output_type": "execute_result"
    }
   ],
   "source": [
    "traindf['Outlet_Type'].nunique()"
   ]
  },
  {
   "cell_type": "code",
   "execution_count": 85,
   "id": "8cde5c03",
   "metadata": {},
   "outputs": [],
   "source": [
    "#encoding the training dataset\n",
    "from sklearn.preprocessing import LabelEncoder"
   ]
  },
  {
   "cell_type": "code",
   "execution_count": 86,
   "id": "386f883c",
   "metadata": {},
   "outputs": [],
   "source": [
    "le=LabelEncoder()\n",
    "for i in ['Item_Identifier','Item_Fat_Content','Item_Type','Outlet_Identifier']:\n",
    "    traindf[i]=le.fit_transform(traindf[i])"
   ]
  },
  {
   "cell_type": "code",
   "execution_count": 87,
   "id": "d22cc0d8",
   "metadata": {},
   "outputs": [],
   "source": [
    "for i in ['Outlet_Size','Outlet_Location_Type','Outlet_Type']:\n",
    "    traindf=pd.get_dummies(traindf,columns=[i])"
   ]
  },
  {
   "cell_type": "code",
   "execution_count": 88,
   "id": "3518176d",
   "metadata": {},
   "outputs": [
    {
     "name": "stdout",
     "output_type": "stream",
     "text": [
      "<class 'pandas.core.frame.DataFrame'>\n",
      "Int64Index: 5568 entries, 0 to 5680\n",
      "Data columns (total 11 columns):\n",
      " #   Column                     Non-Null Count  Dtype  \n",
      "---  ------                     --------------  -----  \n",
      " 0   Item_Identifier            5568 non-null   object \n",
      " 1   Item_Weight                5568 non-null   float64\n",
      " 2   Item_Fat_Content           5568 non-null   object \n",
      " 3   Item_Visibility            5568 non-null   float64\n",
      " 4   Item_Type                  5568 non-null   object \n",
      " 5   Item_MRP                   5568 non-null   float64\n",
      " 6   Outlet_Identifier          5568 non-null   object \n",
      " 7   Outlet_Establishment_Year  5568 non-null   int64  \n",
      " 8   Outlet_Size                5568 non-null   object \n",
      " 9   Outlet_Location_Type       5568 non-null   object \n",
      " 10  Outlet_Type                5568 non-null   object \n",
      "dtypes: float64(3), int64(1), object(7)\n",
      "memory usage: 522.0+ KB\n"
     ]
    }
   ],
   "source": [
    "#encoding the testing dataset\n",
    "testdf.info()"
   ]
  },
  {
   "cell_type": "code",
   "execution_count": 89,
   "id": "d7868fe7",
   "metadata": {},
   "outputs": [],
   "source": [
    "le=LabelEncoder()\n",
    "for i in ['Item_Identifier','Item_Fat_Content','Item_Type','Outlet_Identifier']:\n",
    "    testdf[i]=le.fit_transform(testdf[i])"
   ]
  },
  {
   "cell_type": "code",
   "execution_count": 90,
   "id": "c3404096",
   "metadata": {},
   "outputs": [],
   "source": [
    "for i in ['Outlet_Size','Outlet_Location_Type','Outlet_Type']:\n",
    "    testdf=pd.get_dummies(testdf,columns=[i])"
   ]
  },
  {
   "cell_type": "code",
   "execution_count": 91,
   "id": "d78fd9c8",
   "metadata": {},
   "outputs": [],
   "source": [
    "# Splitting training dataset into x and y\n",
    "y = traindf['Item_Outlet_Sales']\n",
    "X = traindf.drop('Item_Outlet_Sales', axis = 1)"
   ]
  },
  {
   "cell_type": "markdown",
   "id": "61f87972",
   "metadata": {},
   "source": [
    "## Modelling"
   ]
  },
  {
   "cell_type": "code",
   "execution_count": 96,
   "id": "77cf6846",
   "metadata": {},
   "outputs": [],
   "source": [
    "from sklearn.model_selection import train_test_split"
   ]
  },
  {
   "cell_type": "code",
   "execution_count": 97,
   "id": "cf639fe7",
   "metadata": {},
   "outputs": [],
   "source": [
    "X_train,X_test,y_train,y_test = train_test_split(X,y,random_state=42,test_size=0.20)"
   ]
  },
  {
   "cell_type": "code",
   "execution_count": 98,
   "id": "430a90bc",
   "metadata": {},
   "outputs": [],
   "source": [
    "from sklearn.metrics import mean_squared_error,r2_score,mean_absolute_error"
   ]
  },
  {
   "cell_type": "markdown",
   "id": "0a6e733c",
   "metadata": {},
   "source": [
    "1.Linear Regression"
   ]
  },
  {
   "cell_type": "code",
   "execution_count": 99,
   "id": "b8e56e58",
   "metadata": {},
   "outputs": [],
   "source": [
    "from sklearn.linear_model import LinearRegression"
   ]
  },
  {
   "cell_type": "code",
   "execution_count": 100,
   "id": "51d82f2e",
   "metadata": {},
   "outputs": [
    {
     "name": "stdout",
     "output_type": "stream",
     "text": [
      "MSE is : 1252846.2228118165\n",
      "MAE is : 817.6569489612504\n",
      "R squared value is : 0.5575834653470779\n"
     ]
    }
   ],
   "source": [
    "lr=LinearRegression()\n",
    "model=lr.fit(X_train,y_train)\n",
    "predictions=model.predict(X_test)\n",
    "print('MSE is :',mean_squared_error(y_test,predictions))\n",
    "print('MAE is :',mean_absolute_error(y_test,predictions))\n",
    "print('R squared value is :',r2_score(y_test,predictions))"
   ]
  },
  {
   "cell_type": "markdown",
   "id": "6186e5b4",
   "metadata": {},
   "source": [
    "2.Decision Tree"
   ]
  },
  {
   "cell_type": "code",
   "execution_count": 101,
   "id": "41dffe58",
   "metadata": {},
   "outputs": [],
   "source": [
    "from sklearn.tree import DecisionTreeRegressor"
   ]
  },
  {
   "cell_type": "code",
   "execution_count": 102,
   "id": "02540129",
   "metadata": {},
   "outputs": [
    {
     "name": "stdout",
     "output_type": "stream",
     "text": [
      "MSE is : 2372749.3456595526\n",
      "MAE is : 1071.254720763723\n",
      "R squared value is : 0.16211301595282535\n"
     ]
    }
   ],
   "source": [
    "dr = DecisionTreeRegressor()\n",
    "dr.fit(X_train,y_train)\n",
    "predictions=dr.predict(X_test)\n",
    "print('MSE is :',mean_squared_error(y_test,predictions))\n",
    "print('MAE is :',mean_absolute_error(y_test,predictions))\n",
    "print('R squared value is :',r2_score(y_test,predictions))"
   ]
  },
  {
   "cell_type": "markdown",
   "id": "9525130b",
   "metadata": {},
   "source": [
    "We will use linear regression model to predict the Item_Outlet_Sales"
   ]
  },
  {
   "cell_type": "code",
   "execution_count": 103,
   "id": "5c0f3794",
   "metadata": {},
   "outputs": [],
   "source": [
    "lr=LinearRegression()\n",
    "model=lr.fit(X_train,y_train)\n",
    "test_pred=model.predict(testdf)"
   ]
  },
  {
   "cell_type": "code",
   "execution_count": 104,
   "id": "6c2d1f14",
   "metadata": {},
   "outputs": [
    {
     "data": {
      "text/plain": [
       "array([1879.90744308, 1591.14180658, 1930.51096461, ..., 1805.31225321,\n",
       "       3574.99247339, 1181.23273663])"
      ]
     },
     "execution_count": 104,
     "metadata": {},
     "output_type": "execute_result"
    }
   ],
   "source": [
    "test_pred"
   ]
  },
  {
   "cell_type": "code",
   "execution_count": 105,
   "id": "85811c54",
   "metadata": {},
   "outputs": [],
   "source": [
    "testdf['Item_Outlet_Sales']=test_pred"
   ]
  },
  {
   "cell_type": "code",
   "execution_count": 106,
   "id": "730b0204",
   "metadata": {},
   "outputs": [
    {
     "data": {
      "text/html": [
       "<div>\n",
       "<style scoped>\n",
       "    .dataframe tbody tr th:only-of-type {\n",
       "        vertical-align: middle;\n",
       "    }\n",
       "\n",
       "    .dataframe tbody tr th {\n",
       "        vertical-align: top;\n",
       "    }\n",
       "\n",
       "    .dataframe thead th {\n",
       "        text-align: right;\n",
       "    }\n",
       "</style>\n",
       "<table border=\"1\" class=\"dataframe\">\n",
       "  <thead>\n",
       "    <tr style=\"text-align: right;\">\n",
       "      <th></th>\n",
       "      <th>Item_Identifier</th>\n",
       "      <th>Item_Weight</th>\n",
       "      <th>Item_Fat_Content</th>\n",
       "      <th>Item_Visibility</th>\n",
       "      <th>Item_Type</th>\n",
       "      <th>Item_MRP</th>\n",
       "      <th>Outlet_Identifier</th>\n",
       "      <th>Outlet_Establishment_Year</th>\n",
       "      <th>Outlet_Size_High</th>\n",
       "      <th>Outlet_Size_Medium</th>\n",
       "      <th>Outlet_Size_Small</th>\n",
       "      <th>Outlet_Location_Type_Tier 1</th>\n",
       "      <th>Outlet_Location_Type_Tier 2</th>\n",
       "      <th>Outlet_Location_Type_Tier 3</th>\n",
       "      <th>Outlet_Type_Grocery Store</th>\n",
       "      <th>Outlet_Type_Supermarket Type1</th>\n",
       "      <th>Outlet_Type_Supermarket Type2</th>\n",
       "      <th>Outlet_Type_Supermarket Type3</th>\n",
       "      <th>Item_Outlet_Sales</th>\n",
       "    </tr>\n",
       "  </thead>\n",
       "  <tbody>\n",
       "    <tr>\n",
       "      <th>0</th>\n",
       "      <td>1101</td>\n",
       "      <td>20.750</td>\n",
       "      <td>1</td>\n",
       "      <td>0.007565</td>\n",
       "      <td>13</td>\n",
       "      <td>107.8622</td>\n",
       "      <td>9</td>\n",
       "      <td>1999</td>\n",
       "      <td>0</td>\n",
       "      <td>1</td>\n",
       "      <td>0</td>\n",
       "      <td>1</td>\n",
       "      <td>0</td>\n",
       "      <td>0</td>\n",
       "      <td>0</td>\n",
       "      <td>1</td>\n",
       "      <td>0</td>\n",
       "      <td>0</td>\n",
       "      <td>1879.907443</td>\n",
       "    </tr>\n",
       "    <tr>\n",
       "      <th>1</th>\n",
       "      <td>1065</td>\n",
       "      <td>8.300</td>\n",
       "      <td>4</td>\n",
       "      <td>0.038428</td>\n",
       "      <td>4</td>\n",
       "      <td>87.3198</td>\n",
       "      <td>2</td>\n",
       "      <td>2007</td>\n",
       "      <td>0</td>\n",
       "      <td>0</td>\n",
       "      <td>1</td>\n",
       "      <td>0</td>\n",
       "      <td>1</td>\n",
       "      <td>0</td>\n",
       "      <td>0</td>\n",
       "      <td>1</td>\n",
       "      <td>0</td>\n",
       "      <td>0</td>\n",
       "      <td>1591.141807</td>\n",
       "    </tr>\n",
       "    <tr>\n",
       "      <th>2</th>\n",
       "      <td>1404</td>\n",
       "      <td>14.600</td>\n",
       "      <td>1</td>\n",
       "      <td>0.099575</td>\n",
       "      <td>11</td>\n",
       "      <td>241.7538</td>\n",
       "      <td>0</td>\n",
       "      <td>1998</td>\n",
       "      <td>0</td>\n",
       "      <td>0</td>\n",
       "      <td>1</td>\n",
       "      <td>0</td>\n",
       "      <td>0</td>\n",
       "      <td>1</td>\n",
       "      <td>1</td>\n",
       "      <td>0</td>\n",
       "      <td>0</td>\n",
       "      <td>0</td>\n",
       "      <td>1930.510965</td>\n",
       "    </tr>\n",
       "    <tr>\n",
       "      <th>3</th>\n",
       "      <td>808</td>\n",
       "      <td>7.315</td>\n",
       "      <td>1</td>\n",
       "      <td>0.015388</td>\n",
       "      <td>13</td>\n",
       "      <td>155.0340</td>\n",
       "      <td>2</td>\n",
       "      <td>2007</td>\n",
       "      <td>0</td>\n",
       "      <td>0</td>\n",
       "      <td>1</td>\n",
       "      <td>0</td>\n",
       "      <td>1</td>\n",
       "      <td>0</td>\n",
       "      <td>0</td>\n",
       "      <td>1</td>\n",
       "      <td>0</td>\n",
       "      <td>0</td>\n",
       "      <td>2626.577277</td>\n",
       "    </tr>\n",
       "    <tr>\n",
       "      <th>4</th>\n",
       "      <td>1182</td>\n",
       "      <td>12.800</td>\n",
       "      <td>2</td>\n",
       "      <td>0.118599</td>\n",
       "      <td>4</td>\n",
       "      <td>234.2300</td>\n",
       "      <td>5</td>\n",
       "      <td>1985</td>\n",
       "      <td>0</td>\n",
       "      <td>1</td>\n",
       "      <td>0</td>\n",
       "      <td>0</td>\n",
       "      <td>0</td>\n",
       "      <td>1</td>\n",
       "      <td>0</td>\n",
       "      <td>0</td>\n",
       "      <td>0</td>\n",
       "      <td>1</td>\n",
       "      <td>5177.621930</td>\n",
       "    </tr>\n",
       "  </tbody>\n",
       "</table>\n",
       "</div>"
      ],
      "text/plain": [
       "   Item_Identifier  Item_Weight  Item_Fat_Content  Item_Visibility  Item_Type  \\\n",
       "0             1101       20.750                 1         0.007565         13   \n",
       "1             1065        8.300                 4         0.038428          4   \n",
       "2             1404       14.600                 1         0.099575         11   \n",
       "3              808        7.315                 1         0.015388         13   \n",
       "4             1182       12.800                 2         0.118599          4   \n",
       "\n",
       "   Item_MRP  Outlet_Identifier  Outlet_Establishment_Year  Outlet_Size_High  \\\n",
       "0  107.8622                  9                       1999                 0   \n",
       "1   87.3198                  2                       2007                 0   \n",
       "2  241.7538                  0                       1998                 0   \n",
       "3  155.0340                  2                       2007                 0   \n",
       "4  234.2300                  5                       1985                 0   \n",
       "\n",
       "   Outlet_Size_Medium  Outlet_Size_Small  Outlet_Location_Type_Tier 1  \\\n",
       "0                   1                  0                            1   \n",
       "1                   0                  1                            0   \n",
       "2                   0                  1                            0   \n",
       "3                   0                  1                            0   \n",
       "4                   1                  0                            0   \n",
       "\n",
       "   Outlet_Location_Type_Tier 2  Outlet_Location_Type_Tier 3  \\\n",
       "0                            0                            0   \n",
       "1                            1                            0   \n",
       "2                            0                            1   \n",
       "3                            1                            0   \n",
       "4                            0                            1   \n",
       "\n",
       "   Outlet_Type_Grocery Store  Outlet_Type_Supermarket Type1  \\\n",
       "0                          0                              1   \n",
       "1                          0                              1   \n",
       "2                          1                              0   \n",
       "3                          0                              1   \n",
       "4                          0                              0   \n",
       "\n",
       "   Outlet_Type_Supermarket Type2  Outlet_Type_Supermarket Type3  \\\n",
       "0                              0                              0   \n",
       "1                              0                              0   \n",
       "2                              0                              0   \n",
       "3                              0                              0   \n",
       "4                              0                              1   \n",
       "\n",
       "   Item_Outlet_Sales  \n",
       "0        1879.907443  \n",
       "1        1591.141807  \n",
       "2        1930.510965  \n",
       "3        2626.577277  \n",
       "4        5177.621930  "
      ]
     },
     "execution_count": 106,
     "metadata": {},
     "output_type": "execute_result"
    }
   ],
   "source": [
    "testdf.head()"
   ]
  },
  {
   "cell_type": "code",
   "execution_count": null,
   "id": "1da71ac9",
   "metadata": {},
   "outputs": [],
   "source": []
  }
 ],
 "metadata": {
  "kernelspec": {
   "display_name": "Python 3 (ipykernel)",
   "language": "python",
   "name": "python3"
  },
  "language_info": {
   "codemirror_mode": {
    "name": "ipython",
    "version": 3
   },
   "file_extension": ".py",
   "mimetype": "text/x-python",
   "name": "python",
   "nbconvert_exporter": "python",
   "pygments_lexer": "ipython3",
   "version": "3.9.12"
  }
 },
 "nbformat": 4,
 "nbformat_minor": 5
}
