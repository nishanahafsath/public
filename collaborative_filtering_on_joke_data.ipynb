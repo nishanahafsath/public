{
 "cells": [
  {
   "cell_type": "code",
   "execution_count": 1,
   "metadata": {
    "id": "h_aF5tPeNGM5"
   },
   "outputs": [],
   "source": [
    "#importing necessary libraries\n",
    "import pandas as pd\n",
    "import numpy as np"
   ]
  },
  {
   "cell_type": "code",
   "execution_count": 3,
   "metadata": {
    "id": "FeqbhJZGO4qC"
   },
   "outputs": [],
   "source": [
    "#reading dataset\n",
    "df = pd.read_csv(\"jokes-data.csv\")"
   ]
  },
  {
   "cell_type": "code",
   "execution_count": 4,
   "metadata": {
    "colab": {
     "base_uri": "https://localhost:8080/",
     "height": 423
    },
    "id": "SrNRTfbVO_yg",
    "outputId": "67a23d67-3128-4752-c64d-7bb29e904de6"
   },
   "outputs": [
    {
     "data": {
      "text/html": [
       "<div>\n",
       "<style scoped>\n",
       "    .dataframe tbody tr th:only-of-type {\n",
       "        vertical-align: middle;\n",
       "    }\n",
       "\n",
       "    .dataframe tbody tr th {\n",
       "        vertical-align: top;\n",
       "    }\n",
       "\n",
       "    .dataframe thead th {\n",
       "        text-align: right;\n",
       "    }\n",
       "</style>\n",
       "<table border=\"1\" class=\"dataframe\">\n",
       "  <thead>\n",
       "    <tr style=\"text-align: right;\">\n",
       "      <th></th>\n",
       "      <th>id</th>\n",
       "      <th>user_id</th>\n",
       "      <th>joke_id</th>\n",
       "      <th>Rating</th>\n",
       "    </tr>\n",
       "  </thead>\n",
       "  <tbody>\n",
       "    <tr>\n",
       "      <th>0</th>\n",
       "      <td>31030_110</td>\n",
       "      <td>31030</td>\n",
       "      <td>110</td>\n",
       "      <td>2.750</td>\n",
       "    </tr>\n",
       "    <tr>\n",
       "      <th>1</th>\n",
       "      <td>16144_109</td>\n",
       "      <td>16144</td>\n",
       "      <td>109</td>\n",
       "      <td>5.094</td>\n",
       "    </tr>\n",
       "    <tr>\n",
       "      <th>2</th>\n",
       "      <td>23098_6</td>\n",
       "      <td>23098</td>\n",
       "      <td>6</td>\n",
       "      <td>-6.438</td>\n",
       "    </tr>\n",
       "    <tr>\n",
       "      <th>3</th>\n",
       "      <td>14273_86</td>\n",
       "      <td>14273</td>\n",
       "      <td>86</td>\n",
       "      <td>4.406</td>\n",
       "    </tr>\n",
       "    <tr>\n",
       "      <th>4</th>\n",
       "      <td>18419_134</td>\n",
       "      <td>18419</td>\n",
       "      <td>134</td>\n",
       "      <td>9.375</td>\n",
       "    </tr>\n",
       "    <tr>\n",
       "      <th>...</th>\n",
       "      <td>...</td>\n",
       "      <td>...</td>\n",
       "      <td>...</td>\n",
       "      <td>...</td>\n",
       "    </tr>\n",
       "    <tr>\n",
       "      <th>1092054</th>\n",
       "      <td>9517_132</td>\n",
       "      <td>9517</td>\n",
       "      <td>132</td>\n",
       "      <td>3.156</td>\n",
       "    </tr>\n",
       "    <tr>\n",
       "      <th>1092055</th>\n",
       "      <td>27767_118</td>\n",
       "      <td>27767</td>\n",
       "      <td>118</td>\n",
       "      <td>-1.594</td>\n",
       "    </tr>\n",
       "    <tr>\n",
       "      <th>1092056</th>\n",
       "      <td>10580_81</td>\n",
       "      <td>10580</td>\n",
       "      <td>81</td>\n",
       "      <td>2.000</td>\n",
       "    </tr>\n",
       "    <tr>\n",
       "      <th>1092057</th>\n",
       "      <td>31007_119</td>\n",
       "      <td>31007</td>\n",
       "      <td>119</td>\n",
       "      <td>8.906</td>\n",
       "    </tr>\n",
       "    <tr>\n",
       "      <th>1092058</th>\n",
       "      <td>8420_98</td>\n",
       "      <td>8420</td>\n",
       "      <td>98</td>\n",
       "      <td>-3.344</td>\n",
       "    </tr>\n",
       "  </tbody>\n",
       "</table>\n",
       "<p>1092059 rows × 4 columns</p>\n",
       "</div>"
      ],
      "text/plain": [
       "                id  user_id  joke_id  Rating\n",
       "0        31030_110    31030      110   2.750\n",
       "1        16144_109    16144      109   5.094\n",
       "2          23098_6    23098        6  -6.438\n",
       "3         14273_86    14273       86   4.406\n",
       "4        18419_134    18419      134   9.375\n",
       "...            ...      ...      ...     ...\n",
       "1092054   9517_132     9517      132   3.156\n",
       "1092055  27767_118    27767      118  -1.594\n",
       "1092056   10580_81    10580       81   2.000\n",
       "1092057  31007_119    31007      119   8.906\n",
       "1092058    8420_98     8420       98  -3.344\n",
       "\n",
       "[1092059 rows x 4 columns]"
      ]
     },
     "execution_count": 4,
     "metadata": {},
     "output_type": "execute_result"
    }
   ],
   "source": [
    "df"
   ]
  },
  {
   "cell_type": "code",
   "execution_count": 5,
   "metadata": {
    "colab": {
     "base_uri": "https://localhost:8080/",
     "height": 206
    },
    "id": "5QcKx__7QsfH",
    "outputId": "29a58a1e-0e15-4057-d46a-0afca700b23b"
   },
   "outputs": [
    {
     "data": {
      "text/html": [
       "<div>\n",
       "<style scoped>\n",
       "    .dataframe tbody tr th:only-of-type {\n",
       "        vertical-align: middle;\n",
       "    }\n",
       "\n",
       "    .dataframe tbody tr th {\n",
       "        vertical-align: top;\n",
       "    }\n",
       "\n",
       "    .dataframe thead th {\n",
       "        text-align: right;\n",
       "    }\n",
       "</style>\n",
       "<table border=\"1\" class=\"dataframe\">\n",
       "  <thead>\n",
       "    <tr style=\"text-align: right;\">\n",
       "      <th></th>\n",
       "      <th>id</th>\n",
       "      <th>user_id</th>\n",
       "      <th>joke_id</th>\n",
       "      <th>Rating</th>\n",
       "    </tr>\n",
       "  </thead>\n",
       "  <tbody>\n",
       "    <tr>\n",
       "      <th>0</th>\n",
       "      <td>31030_110</td>\n",
       "      <td>31030</td>\n",
       "      <td>110</td>\n",
       "      <td>2.750</td>\n",
       "    </tr>\n",
       "    <tr>\n",
       "      <th>1</th>\n",
       "      <td>16144_109</td>\n",
       "      <td>16144</td>\n",
       "      <td>109</td>\n",
       "      <td>5.094</td>\n",
       "    </tr>\n",
       "    <tr>\n",
       "      <th>2</th>\n",
       "      <td>23098_6</td>\n",
       "      <td>23098</td>\n",
       "      <td>6</td>\n",
       "      <td>-6.438</td>\n",
       "    </tr>\n",
       "    <tr>\n",
       "      <th>3</th>\n",
       "      <td>14273_86</td>\n",
       "      <td>14273</td>\n",
       "      <td>86</td>\n",
       "      <td>4.406</td>\n",
       "    </tr>\n",
       "    <tr>\n",
       "      <th>4</th>\n",
       "      <td>18419_134</td>\n",
       "      <td>18419</td>\n",
       "      <td>134</td>\n",
       "      <td>9.375</td>\n",
       "    </tr>\n",
       "  </tbody>\n",
       "</table>\n",
       "</div>"
      ],
      "text/plain": [
       "          id  user_id  joke_id  Rating\n",
       "0  31030_110    31030      110   2.750\n",
       "1  16144_109    16144      109   5.094\n",
       "2    23098_6    23098        6  -6.438\n",
       "3   14273_86    14273       86   4.406\n",
       "4  18419_134    18419      134   9.375"
      ]
     },
     "execution_count": 5,
     "metadata": {},
     "output_type": "execute_result"
    }
   ],
   "source": [
    "df.head()"
   ]
  },
  {
   "cell_type": "code",
   "execution_count": 6,
   "metadata": {
    "colab": {
     "base_uri": "https://localhost:8080/",
     "height": 206
    },
    "id": "ed5QcuhBQumw",
    "outputId": "54b5da37-95cc-4ec5-ed64-58d6a16a6d1f"
   },
   "outputs": [
    {
     "data": {
      "text/html": [
       "<div>\n",
       "<style scoped>\n",
       "    .dataframe tbody tr th:only-of-type {\n",
       "        vertical-align: middle;\n",
       "    }\n",
       "\n",
       "    .dataframe tbody tr th {\n",
       "        vertical-align: top;\n",
       "    }\n",
       "\n",
       "    .dataframe thead th {\n",
       "        text-align: right;\n",
       "    }\n",
       "</style>\n",
       "<table border=\"1\" class=\"dataframe\">\n",
       "  <thead>\n",
       "    <tr style=\"text-align: right;\">\n",
       "      <th></th>\n",
       "      <th>id</th>\n",
       "      <th>user_id</th>\n",
       "      <th>joke_id</th>\n",
       "      <th>Rating</th>\n",
       "    </tr>\n",
       "  </thead>\n",
       "  <tbody>\n",
       "    <tr>\n",
       "      <th>1092054</th>\n",
       "      <td>9517_132</td>\n",
       "      <td>9517</td>\n",
       "      <td>132</td>\n",
       "      <td>3.156</td>\n",
       "    </tr>\n",
       "    <tr>\n",
       "      <th>1092055</th>\n",
       "      <td>27767_118</td>\n",
       "      <td>27767</td>\n",
       "      <td>118</td>\n",
       "      <td>-1.594</td>\n",
       "    </tr>\n",
       "    <tr>\n",
       "      <th>1092056</th>\n",
       "      <td>10580_81</td>\n",
       "      <td>10580</td>\n",
       "      <td>81</td>\n",
       "      <td>2.000</td>\n",
       "    </tr>\n",
       "    <tr>\n",
       "      <th>1092057</th>\n",
       "      <td>31007_119</td>\n",
       "      <td>31007</td>\n",
       "      <td>119</td>\n",
       "      <td>8.906</td>\n",
       "    </tr>\n",
       "    <tr>\n",
       "      <th>1092058</th>\n",
       "      <td>8420_98</td>\n",
       "      <td>8420</td>\n",
       "      <td>98</td>\n",
       "      <td>-3.344</td>\n",
       "    </tr>\n",
       "  </tbody>\n",
       "</table>\n",
       "</div>"
      ],
      "text/plain": [
       "                id  user_id  joke_id  Rating\n",
       "1092054   9517_132     9517      132   3.156\n",
       "1092055  27767_118    27767      118  -1.594\n",
       "1092056   10580_81    10580       81   2.000\n",
       "1092057  31007_119    31007      119   8.906\n",
       "1092058    8420_98     8420       98  -3.344"
      ]
     },
     "execution_count": 6,
     "metadata": {},
     "output_type": "execute_result"
    }
   ],
   "source": [
    "df.tail()"
   ]
  },
  {
   "cell_type": "code",
   "execution_count": 7,
   "metadata": {
    "colab": {
     "base_uri": "https://localhost:8080/"
    },
    "id": "i8cBRn1JQwut",
    "outputId": "10ed5c78-4355-4251-fce9-7bbab89e71da"
   },
   "outputs": [
    {
     "data": {
      "text/plain": [
       "Index(['id', 'user_id', 'joke_id', 'Rating'], dtype='object')"
      ]
     },
     "execution_count": 7,
     "metadata": {},
     "output_type": "execute_result"
    }
   ],
   "source": [
    "df.columns"
   ]
  },
  {
   "cell_type": "code",
   "execution_count": 8,
   "metadata": {
    "colab": {
     "base_uri": "https://localhost:8080/"
    },
    "id": "tYwbYzREQycJ",
    "outputId": "c7976f69-9e97-4948-d8fe-64673f100bf8"
   },
   "outputs": [
    {
     "data": {
      "text/plain": [
       "(1092059, 4)"
      ]
     },
     "execution_count": 8,
     "metadata": {},
     "output_type": "execute_result"
    }
   ],
   "source": [
    "df.shape"
   ]
  },
  {
   "cell_type": "code",
   "execution_count": 9,
   "metadata": {
    "colab": {
     "base_uri": "https://localhost:8080/"
    },
    "id": "sReLhw0-Q0ZG",
    "outputId": "1f57c0ad-3829-42ce-a308-ae6a239f57ab"
   },
   "outputs": [
    {
     "data": {
      "text/plain": [
       "id         0\n",
       "user_id    0\n",
       "joke_id    0\n",
       "Rating     0\n",
       "dtype: int64"
      ]
     },
     "execution_count": 9,
     "metadata": {},
     "output_type": "execute_result"
    }
   ],
   "source": [
    "#checking for missing values\n",
    "df.isnull().sum()"
   ]
  },
  {
   "cell_type": "code",
   "execution_count": 11,
   "metadata": {
    "colab": {
     "base_uri": "https://localhost:8080/"
    },
    "id": "qazNxn0GRTgy",
    "outputId": "46b44dcf-e157-44e3-8cff-caaf0e10bc0d"
   },
   "outputs": [
    {
     "data": {
      "text/plain": [
       "40863"
      ]
     },
     "execution_count": 11,
     "metadata": {},
     "output_type": "execute_result"
    }
   ],
   "source": [
    "#checking no of unique values\n",
    "df['user_id'].nunique()"
   ]
  },
  {
   "cell_type": "code",
   "execution_count": 12,
   "metadata": {
    "colab": {
     "base_uri": "https://localhost:8080/"
    },
    "id": "DnUaaLoHR7vG",
    "outputId": "23537fb8-bd41-41fa-a571-baffb856bb4e"
   },
   "outputs": [
    {
     "data": {
      "text/plain": [
       "1092059"
      ]
     },
     "execution_count": 12,
     "metadata": {},
     "output_type": "execute_result"
    }
   ],
   "source": [
    "df['id'].nunique()"
   ]
  },
  {
   "cell_type": "code",
   "execution_count": 13,
   "metadata": {
    "colab": {
     "base_uri": "https://localhost:8080/"
    },
    "id": "x5Qid9Q4R_TL",
    "outputId": "f9362e32-83d1-4313-ebd6-0712f34f4197"
   },
   "outputs": [
    {
     "data": {
      "text/plain": [
       "139"
      ]
     },
     "execution_count": 13,
     "metadata": {},
     "output_type": "execute_result"
    }
   ],
   "source": [
    "df['joke_id'].nunique()"
   ]
  },
  {
   "cell_type": "code",
   "execution_count": 14,
   "metadata": {
    "colab": {
     "base_uri": "https://localhost:8080/"
    },
    "id": "G90p3rxYSCqP",
    "outputId": "6d1193b2-2383-4271-8601-fcaccd509e46"
   },
   "outputs": [
    {
     "data": {
      "text/plain": [
       "641"
      ]
     },
     "execution_count": 14,
     "metadata": {},
     "output_type": "execute_result"
    }
   ],
   "source": [
    "df['Rating'].nunique()"
   ]
  },
  {
   "cell_type": "code",
   "execution_count": 15,
   "metadata": {
    "id": "q2cadXAPSRDi"
   },
   "outputs": [],
   "source": [
    "#removing the feature \"id\"\n",
    "df = df.drop(\"id\", axis=1)"
   ]
  },
  {
   "cell_type": "code",
   "execution_count": 16,
   "metadata": {
    "colab": {
     "base_uri": "https://localhost:8080/",
     "height": 423
    },
    "id": "wMnGfJI5Sb_K",
    "outputId": "48cde5a7-d4f3-4b5f-a0db-287027dfbabe"
   },
   "outputs": [
    {
     "data": {
      "text/html": [
       "<div>\n",
       "<style scoped>\n",
       "    .dataframe tbody tr th:only-of-type {\n",
       "        vertical-align: middle;\n",
       "    }\n",
       "\n",
       "    .dataframe tbody tr th {\n",
       "        vertical-align: top;\n",
       "    }\n",
       "\n",
       "    .dataframe thead th {\n",
       "        text-align: right;\n",
       "    }\n",
       "</style>\n",
       "<table border=\"1\" class=\"dataframe\">\n",
       "  <thead>\n",
       "    <tr style=\"text-align: right;\">\n",
       "      <th></th>\n",
       "      <th>user_id</th>\n",
       "      <th>joke_id</th>\n",
       "      <th>Rating</th>\n",
       "    </tr>\n",
       "  </thead>\n",
       "  <tbody>\n",
       "    <tr>\n",
       "      <th>0</th>\n",
       "      <td>31030</td>\n",
       "      <td>110</td>\n",
       "      <td>2.750</td>\n",
       "    </tr>\n",
       "    <tr>\n",
       "      <th>1</th>\n",
       "      <td>16144</td>\n",
       "      <td>109</td>\n",
       "      <td>5.094</td>\n",
       "    </tr>\n",
       "    <tr>\n",
       "      <th>2</th>\n",
       "      <td>23098</td>\n",
       "      <td>6</td>\n",
       "      <td>-6.438</td>\n",
       "    </tr>\n",
       "    <tr>\n",
       "      <th>3</th>\n",
       "      <td>14273</td>\n",
       "      <td>86</td>\n",
       "      <td>4.406</td>\n",
       "    </tr>\n",
       "    <tr>\n",
       "      <th>4</th>\n",
       "      <td>18419</td>\n",
       "      <td>134</td>\n",
       "      <td>9.375</td>\n",
       "    </tr>\n",
       "    <tr>\n",
       "      <th>...</th>\n",
       "      <td>...</td>\n",
       "      <td>...</td>\n",
       "      <td>...</td>\n",
       "    </tr>\n",
       "    <tr>\n",
       "      <th>1092054</th>\n",
       "      <td>9517</td>\n",
       "      <td>132</td>\n",
       "      <td>3.156</td>\n",
       "    </tr>\n",
       "    <tr>\n",
       "      <th>1092055</th>\n",
       "      <td>27767</td>\n",
       "      <td>118</td>\n",
       "      <td>-1.594</td>\n",
       "    </tr>\n",
       "    <tr>\n",
       "      <th>1092056</th>\n",
       "      <td>10580</td>\n",
       "      <td>81</td>\n",
       "      <td>2.000</td>\n",
       "    </tr>\n",
       "    <tr>\n",
       "      <th>1092057</th>\n",
       "      <td>31007</td>\n",
       "      <td>119</td>\n",
       "      <td>8.906</td>\n",
       "    </tr>\n",
       "    <tr>\n",
       "      <th>1092058</th>\n",
       "      <td>8420</td>\n",
       "      <td>98</td>\n",
       "      <td>-3.344</td>\n",
       "    </tr>\n",
       "  </tbody>\n",
       "</table>\n",
       "<p>1092059 rows × 3 columns</p>\n",
       "</div>"
      ],
      "text/plain": [
       "         user_id  joke_id  Rating\n",
       "0          31030      110   2.750\n",
       "1          16144      109   5.094\n",
       "2          23098        6  -6.438\n",
       "3          14273       86   4.406\n",
       "4          18419      134   9.375\n",
       "...          ...      ...     ...\n",
       "1092054     9517      132   3.156\n",
       "1092055    27767      118  -1.594\n",
       "1092056    10580       81   2.000\n",
       "1092057    31007      119   8.906\n",
       "1092058     8420       98  -3.344\n",
       "\n",
       "[1092059 rows x 3 columns]"
      ]
     },
     "execution_count": 16,
     "metadata": {},
     "output_type": "execute_result"
    }
   ],
   "source": [
    "df"
   ]
  },
  {
   "cell_type": "code",
   "execution_count": 17,
   "metadata": {
    "colab": {
     "base_uri": "https://localhost:8080/"
    },
    "id": "BgikVh3YS2KG",
    "outputId": "b959c4bd-68bb-4867-8546-98748505b00d"
   },
   "outputs": [
    {
     "name": "stdout",
     "output_type": "stream",
     "text": [
      "Collecting surprise\n",
      "  Using cached surprise-0.1-py2.py3-none-any.whl (1.8 kB)\n",
      "Requirement already satisfied: scikit-surprise in c:\\users\\user\\anaconda3\\lib\\site-packages (from surprise) (1.1.3)\n",
      "Requirement already satisfied: joblib>=1.0.0 in c:\\users\\user\\anaconda3\\lib\\site-packages (from scikit-surprise->surprise) (1.1.0)\n",
      "Requirement already satisfied: numpy>=1.17.3 in c:\\users\\user\\anaconda3\\lib\\site-packages (from scikit-surprise->surprise) (1.22.4)\n",
      "Requirement already satisfied: scipy>=1.3.2 in c:\\users\\user\\anaconda3\\lib\\site-packages (from scikit-surprise->surprise) (1.7.3)\n",
      "Installing collected packages: surprise\n",
      "Successfully installed surprise-0.1\n"
     ]
    }
   ],
   "source": [
    "!pip install surprise"
   ]
  },
  {
   "cell_type": "code",
   "execution_count": 21,
   "metadata": {
    "id": "tFhzRMGoSfeH"
   },
   "outputs": [],
   "source": [
    "\n",
    "from surprise import Reader, Dataset, KNNBasic, SVD"
   ]
  },
  {
   "cell_type": "code",
   "execution_count": 22,
   "metadata": {
    "id": "g3QlqhNSS05F"
   },
   "outputs": [],
   "source": [
    "reader = Reader()"
   ]
  },
  {
   "cell_type": "code",
   "execution_count": 23,
   "metadata": {
    "id": "JaxoIaKoTaxJ"
   },
   "outputs": [],
   "source": [
    "#create a the dataset to be used for building the filter\n",
    "data = Dataset.load_from_df(df, reader)"
   ]
  },
  {
   "cell_type": "code",
   "execution_count": 24,
   "metadata": {
    "colab": {
     "base_uri": "https://localhost:8080/"
    },
    "id": "5Ptf0lSKTYX8",
    "outputId": "bde73a0f-d6bf-4ed9-d9d3-a13734e75e5e"
   },
   "outputs": [
    {
     "data": {
      "text/plain": [
       "<surprise.dataset.DatasetAutoFolds at 0x25162638c70>"
      ]
     },
     "execution_count": 24,
     "metadata": {},
     "output_type": "execute_result"
    }
   ],
   "source": [
    "data"
   ]
  },
  {
   "cell_type": "code",
   "execution_count": 25,
   "metadata": {
    "id": "R7z-ME-cTjOk"
   },
   "outputs": [],
   "source": [
    "algo = KNNBasic()"
   ]
  },
  {
   "cell_type": "code",
   "execution_count": 33,
   "metadata": {},
   "outputs": [],
   "source": [
    "\n",
    "from surprise.model_selection import cross_validate"
   ]
  },
  {
   "cell_type": "code",
   "execution_count": 37,
   "metadata": {},
   "outputs": [
    {
     "name": "stdout",
     "output_type": "stream",
     "text": [
      "Computing the pearson similarity matrix...\n",
      "Done computing similarity matrix.\n",
      "Computing the pearson similarity matrix...\n",
      "Done computing similarity matrix.\n",
      "Computing the pearson similarity matrix...\n",
      "Done computing similarity matrix.\n",
      "Computing the pearson similarity matrix...\n",
      "Done computing similarity matrix.\n",
      "Computing the pearson similarity matrix...\n",
      "Done computing similarity matrix.\n",
      "Evaluating RMSE, MAE of algorithm KNNBasic on 5 split(s).\n",
      "\n",
      "                  Fold 1  Fold 2  Fold 3  Fold 4  Fold 5  Mean    Std     \n",
      "RMSE (testset)    4.7189  4.7045  4.7020  4.6992  4.7002  4.7050  0.0072  \n",
      "MAE (testset)     3.6777  3.6619  3.6593  3.6577  3.6574  3.6628  0.0076  \n",
      "Fit time          2.56    2.69    2.93    3.23    2.51    2.78    0.27    \n",
      "Test time         11.76   13.00   12.88   11.84   12.09   12.31   0.53    \n",
      "No RMSE scores available.\n",
      "No MAE scores available.\n"
     ]
    }
   ],
   "source": [
    "results = cross_validate(algo, data, measures=[\"RMSE\", \"MAE\"], cv=5, verbose=True)\n",
    "\n",
    "# Print the results\n",
    "for measure in [\"RMSE\", \"MAE\"]:\n",
    "    if 'test_' + measure in results:\n",
    "        avg_score = sum(results['test_' + measure]) / len(results['test_' + measure])\n",
    "        print(f\"{measure}: {avg_score}\")\n",
    "    else:\n",
    "        print(f\"No {measure} scores available.\")"
   ]
  },
  {
   "cell_type": "code",
   "execution_count": 35,
   "metadata": {
    "id": "o4cSNP-hU1rS"
   },
   "outputs": [],
   "source": [
    "algo2 = SVD()"
   ]
  },
  {
   "cell_type": "code",
   "execution_count": 36,
   "metadata": {
    "id": "WlEOO2GqTqbU"
   },
   "outputs": [
    {
     "name": "stdout",
     "output_type": "stream",
     "text": [
      "Evaluating RMSE of algorithm SVD on 5 split(s).\n",
      "\n",
      "                  Fold 1  Fold 2  Fold 3  Fold 4  Fold 5  Mean    Std     \n",
      "RMSE (testset)    4.6701  4.6558  4.6497  4.6625  4.6648  4.6606  0.0071  \n",
      "Fit time          10.62   10.69   10.66   10.61   10.60   10.63   0.04    \n",
      "Test time         2.34    1.91    1.96    1.56    1.91    1.94    0.25    \n"
     ]
    },
    {
     "data": {
      "text/plain": [
       "{'test_rmse': array([4.67012244, 4.65580865, 4.64972458, 4.66250106, 4.66480163]),\n",
       " 'fit_time': (10.616841077804565,\n",
       "  10.68786072731018,\n",
       "  10.662027835845947,\n",
       "  10.605141401290894,\n",
       "  10.59543514251709),\n",
       " 'test_time': (2.3406827449798584,\n",
       "  1.911212682723999,\n",
       "  1.9632542133331299,\n",
       "  1.5637056827545166,\n",
       "  1.9115827083587646)}"
      ]
     },
     "execution_count": 36,
     "metadata": {},
     "output_type": "execute_result"
    }
   ],
   "source": [
    "cross_validate(algo2, data, measures = [\"RMSE\"], cv = 5, verbose = True)"
   ]
  },
  {
   "cell_type": "code",
   "execution_count": null,
   "metadata": {
    "id": "x2fAWkHjU_Av"
   },
   "outputs": [],
   "source": []
  },
  {
   "cell_type": "code",
   "execution_count": null,
   "metadata": {},
   "outputs": [],
   "source": []
  }
 ],
 "metadata": {
  "colab": {
   "provenance": []
  },
  "kernelspec": {
   "display_name": "Python 3 (ipykernel)",
   "language": "python",
   "name": "python3"
  },
  "language_info": {
   "codemirror_mode": {
    "name": "ipython",
    "version": 3
   },
   "file_extension": ".py",
   "mimetype": "text/x-python",
   "name": "python",
   "nbconvert_exporter": "python",
   "pygments_lexer": "ipython3",
   "version": "3.9.12"
  }
 },
 "nbformat": 4,
 "nbformat_minor": 1
}
